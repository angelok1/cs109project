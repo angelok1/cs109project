{
 "cells": [
  {
   "cell_type": "markdown",
   "metadata": {},
   "source": [
    "# Preliminary modelling \n",
    "The following notebook first prepares the available data in order to conduct the preliminary modelling."
   ]
  },
  {
   "cell_type": "markdown",
   "metadata": {},
   "source": [
    "## Preparation"
   ]
  },
  {
   "cell_type": "code",
   "execution_count": 1,
   "metadata": {
    "collapsed": true
   },
   "outputs": [],
   "source": [
    "# Clear namespace\n",
    "for name in dir():\n",
    "    if not name.startswith('_'):\n",
    "        del globals()[name]"
   ]
  },
  {
   "cell_type": "markdown",
   "metadata": {},
   "source": [
    "Import libraries"
   ]
  },
  {
   "cell_type": "code",
   "execution_count": 404,
   "metadata": {
    "collapsed": false
   },
   "outputs": [],
   "source": [
    "# Data manipulation\n",
    "import numpy as np\n",
    "import pandas as pd\n",
    "\n",
    "# Ploting\n",
    "import matplotlib\n",
    "import matplotlib.pyplot as plt\n",
    "%matplotlib inline\n",
    "\n",
    "# Scientific computing\n",
    "import scipy as sp\n",
    "\n",
    "# Machine Learning\n",
    "from sklearn import preprocessing\n",
    "from sklearn.cross_validation import train_test_split\n",
    "from sklearn.model_selection import TimeSeriesSplit\n",
    "from sklearn import linear_model\n",
    "from sklearn.decomposition import PCA\n",
    "from sklearn.cross_validation import KFold\n",
    "from sklearn import svm\n",
    "from sklearn.neighbors import KNeighborsRegressor as KNN\n",
    "from sklearn.ensemble import RandomForestClassifier, AdaBoostClassifier\n",
    "from sklearn.linear_model import LogisticRegression\n",
    "from sklearn.tree import DecisionTreeClassifier as DecisionTree\n",
    "from sklearn.grid_search import GridSearchCV\n",
    "from sklearn.cross_validation import StratifiedShuffleSplit\n",
    "from sklearn.metrics import f1_score\n",
    "from sklearn import tree\n",
    "from sklearn.discriminant_analysis import LinearDiscriminantAnalysis as LDA\n",
    "from sklearn.discriminant_analysis import QuadraticDiscriminantAnalysis as QDA\n",
    "\n",
    "# Safe models\n",
    "import pickle"
   ]
  },
  {
   "cell_type": "markdown",
   "metadata": {},
   "source": [
    "## Functions\n",
    "(necessary for the following calculations)"
   ]
  },
  {
   "cell_type": "code",
   "execution_count": 3,
   "metadata": {
    "collapsed": true
   },
   "outputs": [],
   "source": [
    "#--------  table\n",
    "# A function that is similar to the R table function\n",
    "# Input: \n",
    "#      x (x values)\n",
    "# Returns: \n",
    "#      table (table)\n",
    "\n",
    "def table(x):\n",
    "    table = pd.DataFrame(x.value_counts(dropna=True))\n",
    "    return table\n",
    "\n",
    "#--------  Scatter Plot\n",
    "# A function that visualizes the data\n",
    "# Input: \n",
    "#      x (variable on the x-axis)\n",
    "#      y (variable on the y_axis)\n",
    "#      df (panda data frame)\n",
    "#      group (grouping variable, i.e., variable to plot)\n",
    "#      col (vector of colors)\n",
    "#      alpha (alpha value for colors)\n",
    "#      size (size of the dots)\n",
    "#      title (title of the plot)\n",
    "#      marker (shape of the marker, default to 'o')\n",
    "#      add_line (add a line plot)\n",
    "#      linewidth (thinkness of the added line)\n",
    "#      figsize (size of the figure)\n",
    "\n",
    "def scatter_plot(x, y, df, group, col, alpha, size, title, marker='o', add_line=False, linewidth=1, figsize=(15, 10)):\n",
    "    \n",
    "    # Define plot\n",
    "    fig = plt.figure(figsize=figsize)\n",
    "    ax = plt.axes()\n",
    "\n",
    "    # Extract unique categories\n",
    "    cat = df[group].unique()\n",
    "\n",
    "    # Loop trough categories\n",
    "    for i in range(0, len(cat)) :\n",
    "            ax.scatter(df[x][df[group] == cat[i]].values,\n",
    "                       df[y][df[group] == cat[i]].values,\n",
    "                       c=col[i], alpha=alpha, s=size,\n",
    "                       label=cat[i], edgecolors='none',\n",
    "                       marker=marker)\n",
    "    # Add line plot\n",
    "    if add_line:\n",
    "            for i in range(0, len(cat)) :\n",
    "                ax.plot(df[x][df[group] == cat[i]].values,\n",
    "                           df[y][df[group] == cat[i]].values,\n",
    "                           c=col[i], alpha=alpha, linewidth=linewidth)\n",
    "\n",
    "    # Add legend, grid etc.\n",
    "    ax.legend(loc=0, scatterpoints = 1) # Legend with just one dot\n",
    "    ax.set_xlabel(x); ax.set_ylabel(y)\n",
    "    ax.set_title(title)\n",
    "    plt.grid()\n",
    "    \n",
    "#--------  random_classifier\n",
    "# A function that builds a random classifier\n",
    "# Input: \n",
    "#      df_y    (Panda df of the y variable)\n",
    "# Returns: \n",
    "#      pred    (Random zero one class with the same proportion)\n",
    "\n",
    "def random_classifier(df_y):\n",
    "    # Transform y to panda dataframe\n",
    "    prop = df_y[\"y\"].value_counts() / df_y.shape[0]\n",
    "\n",
    "    pred = np.random.binomial(1, prop[0], df_y.shape[0])\n",
    "\n",
    "    return pred\n",
    "\n",
    "\n",
    "#--------  cartesian\n",
    "# A function that creates the cartesian product/combination\n",
    "# Input: \n",
    "#      x1    (numpy vector 1)\n",
    "#      x2    (numpy vector 2)\n",
    "# Returns: \n",
    "#      cartesian combination\n",
    "def cartesian(x1, x2):\n",
    "    return np.transpose([np.tile(x1, len(x2)), np.repeat(x2, len(x1))])\n",
    "\n",
    "#--------  cartesian\n",
    "# A function that creates \"risk cells\" out of the longitude/latitude combination. That means in \n",
    "# seperates a x, y plane into n cells.\n",
    "# Input: \n",
    "#      longitude\n",
    "#      latitude\n",
    "#      n_cells\n",
    "# Returns: \n",
    "#      risk cells\n",
    "def create_risk_cells(longitude, latitude, n_cells):\n",
    "    n = int(np.sqrt(n_cells))\n",
    "    x1 = np.zeros(n)\n",
    "    x2 = np.zeros(n)\n",
    "\n",
    "    min_long = min(longitude)\n",
    "    min_lat = min(latitude)\n",
    "    step_long = (max(longitude) - min(longitude)) / n\n",
    "    step_lang = (max(latitude) - min(latitude)) / n\n",
    "    \n",
    "    for i in range(0, n):\n",
    "        x1[i] = min_long + (step_long * i)\n",
    "        x2[i] = min_lat + (step_lang * i) \n",
    "        \n",
    "    return pd.DataFrame(cartesian(x1, x2))\n"
   ]
  },
  {
   "cell_type": "markdown",
   "metadata": {},
   "source": [
    "## 1: Importing Data"
   ]
  },
  {
   "cell_type": "markdown",
   "metadata": {},
   "source": [
    "Importing the three datasets for the following modelling."
   ]
  },
  {
   "cell_type": "code",
   "execution_count": 405,
   "metadata": {
    "collapsed": false
   },
   "outputs": [],
   "source": [
    "# load business data\n",
    "df_business = pd.read_csv('data/Business_Licenses.csv')"
   ]
  },
  {
   "cell_type": "code",
   "execution_count": 5,
   "metadata": {
    "collapsed": false
   },
   "outputs": [],
   "source": [
    "# load crime data\n",
    "df_crimes = pd.read_csv('data/Crimes_-_2001_to_present.csv')"
   ]
  },
  {
   "cell_type": "code",
   "execution_count": 6,
   "metadata": {
    "collapsed": true
   },
   "outputs": [],
   "source": [
    "# load food inspection data\n",
    "df_inspection = pd.read_csv('inspection_merged_climate.csv')"
   ]
  },
  {
   "cell_type": "code",
   "execution_count": 68,
   "metadata": {
    "collapsed": true
   },
   "outputs": [],
   "source": [
    "# Load sanitation data\n",
    "df_sanitation = pd.read_csv('data/311_Service_Requests_-_Sanitation_Code_Complaints.csv')"
   ]
  },
  {
   "cell_type": "markdown",
   "metadata": {},
   "source": [
    "## 2: Data Cleaning"
   ]
  },
  {
   "cell_type": "markdown",
   "metadata": {},
   "source": [
    "Business data"
   ]
  },
  {
   "cell_type": "code",
   "execution_count": 7,
   "metadata": {
    "collapsed": false
   },
   "outputs": [],
   "source": [
    "# Transform column headers to lower case\n",
    "df_business.columns = map(str.lower, df_business.columns)\n",
    "\n",
    "# Replace whitespace in headers\n",
    "df_business.columns = [x.strip().replace(' ', '_') for x in df_business.columns]\n",
    "\n",
    "# Format to datetime string\n",
    "df_business['license_term_start_date'] =  pd.to_datetime(df_business['license_term_start_date'], format='%m/%d/%Y')\n",
    "df_business['license_term_expiration_date'] =  pd.to_datetime(df_business['license_term_expiration_date'], format='%m/%d/%Y')\n",
    "df_business['license_approved_for_issuance'] =  pd.to_datetime(df_business['license_approved_for_issuance'], format='%m/%d/%Y')\n",
    "df_business['date_issued'] =  pd.to_datetime(df_business['date_issued'], format='%m/%d/%Y')\n",
    "df_business['application_created_date'] =  pd.to_datetime(df_business['application_created_date'], format='%m/%d/%Y')\n",
    "\n",
    "# Filter\n",
    "#df_business = df_business[~((df_business['application_type'] == 'C_CAPA') | (df_business['application_type'] == 'C_SBA'))]\n",
    "\n",
    "# Exclude NA's\n",
    "#df_business = df_business[~pd.isnull(df_business['license_term_start_date'])]\n",
    "#df_business = df_business[~pd.isnull(df_business['license_term_expiration_date'])]\n"
   ]
  },
  {
   "cell_type": "markdown",
   "metadata": {},
   "source": [
    "Crime data"
   ]
  },
  {
   "cell_type": "code",
   "execution_count": 8,
   "metadata": {
    "collapsed": true
   },
   "outputs": [],
   "source": [
    "# Transform column headers to lower case\n",
    "df_crimes.columns = map(str.lower, df_crimes.columns)\n",
    "\n",
    "# Replace whitespace in headers\n",
    "df_crimes.columns = [x.strip().replace(' ', '_') for x in df_crimes.columns]\n",
    "\n",
    "# Select only 2015 data\n",
    "df_crimes_2015 = df_crimes[df_crimes['year'] == 2015]\n",
    "df_crimes_2015.head()\n",
    "\n",
    "# Exclude NA's\n",
    "df_crimes_2015 = df_crimes_2015[~pd.isnull(df_crimes_2015['latitude'])]\n"
   ]
  },
  {
   "cell_type": "markdown",
   "metadata": {},
   "source": [
    "Inspection data"
   ]
  },
  {
   "cell_type": "code",
   "execution_count": 9,
   "metadata": {
    "collapsed": false
   },
   "outputs": [],
   "source": [
    "# Transform column headers to lower case\n",
    "df_inspection.columns = map(str.lower, df_inspection.columns)\n",
    "\n",
    "# Replace whitespace in headers\n",
    "df_inspection.columns = [x.strip().replace(' ', '_') for x in df_inspection.columns]\n",
    "\n",
    "# Replace question mark (?) with whitespace in headers\n",
    "df_inspection.columns = [x.strip().replace('?', ' ') for x in df_inspection.columns]\n",
    "\n",
    "# Replace colon (:) with whitespace in headers\n",
    "df_inspection.columns = [x.strip().replace(':', '') for x in df_inspection.columns]\n",
    "\n",
    "# Replace double unserscore (__) with underscore (_) in headers\n",
    "df_inspection.columns = [x.strip().replace('__', '_') for x in df_inspection.columns]\n",
    "\n",
    "# Drop id row \n",
    "df_inspection = df_inspection.drop('unnamed_0', axis=1)\n",
    "\n",
    "# Renaming\n",
    "df_inspection = df_inspection.rename(columns={'license_#':'license_id'})"
   ]
  },
  {
   "cell_type": "code",
   "execution_count": 10,
   "metadata": {
    "collapsed": false
   },
   "outputs": [
    {
     "name": "stdout",
     "output_type": "stream",
     "text": [
      "False    118166\n",
      "True         13\n",
      "Name: license_id, dtype: int64\n"
     ]
    }
   ],
   "source": [
    "# Count missings in licence_id\n",
    "print df_inspection['license_id'].isnull().value_counts()"
   ]
  },
  {
   "cell_type": "markdown",
   "metadata": {},
   "source": [
    "Sanitation data"
   ]
  },
  {
   "cell_type": "code",
   "execution_count": 82,
   "metadata": {
    "collapsed": true
   },
   "outputs": [],
   "source": [
    "# Transform column headers to lower case\n",
    "df_sanitation.columns = map(str.lower, df_sanitation.columns)\n",
    "\n",
    "# Replace whitespace in headers\n",
    "df_sanitation.columns = [x.strip().replace(' ', '_') for x in df_sanitation.columns]"
   ]
  },
  {
   "cell_type": "code",
   "execution_count": 83,
   "metadata": {
    "collapsed": false
   },
   "outputs": [],
   "source": [
    "# Remove missings\n",
    "df_inspection = df_inspection.loc[~df_inspection['license_id'].isnull(), :]\n",
    "df_sanitation = df_sanitation.loc[~df_sanitation['longitude'].isnull(), :]\n",
    "\n",
    "# Format lycence id to int\n",
    "df_inspection['license_id'] = df_inspection['license_id'].astype(int)\n",
    "df_inspection['zip'] = df_inspection['zip'].fillna(0.0).astype(int)\n"
   ]
  },
  {
   "cell_type": "code",
   "execution_count": 12,
   "metadata": {
    "collapsed": false
   },
   "outputs": [],
   "source": [
    "# select only relevant columns from businesses\n",
    "df_business_merge = df_business[['license_id', 'address', 'city', 'ward', 'police_district', 'license_description', 'application_created_date', 'conditional_approval', 'license_status']]"
   ]
  },
  {
   "cell_type": "code",
   "execution_count": 13,
   "metadata": {
    "collapsed": false
   },
   "outputs": [],
   "source": [
    "# Left join\n",
    "df_merge = pd.merge(df_inspection, df_business_merge, how='left', left_on='license_id', right_on='license_id', left_index=False, right_index=False)"
   ]
  },
  {
   "cell_type": "markdown",
   "metadata": {},
   "source": [
    "Add crime data"
   ]
  },
  {
   "cell_type": "code",
   "execution_count": 14,
   "metadata": {
    "collapsed": false
   },
   "outputs": [],
   "source": [
    "x_train = create_risk_cells(df_crimes_2015.longitude, df_crimes_2015.latitude, 100*100)\n",
    "y_train = pd.Series(range(0, x_train.shape[0], 1))\n"
   ]
  },
  {
   "cell_type": "code",
   "execution_count": 15,
   "metadata": {
    "collapsed": false
   },
   "outputs": [],
   "source": [
    "knn = KNN(n_neighbors=1)\n",
    "fit_knn = knn.fit(x_train.values, y_train.values)\n",
    "\n",
    "x_test = df_crimes_2015[[\"longitude\", \"latitude\"]].values\n",
    "df_crimes_2015['cluster'] = pd.DataFrame(fit_knn.predict(x_test)).values\n"
   ]
  },
  {
   "cell_type": "markdown",
   "metadata": {},
   "source": [
    "Add sanitation data"
   ]
  },
  {
   "cell_type": "code",
   "execution_count": 91,
   "metadata": {
    "collapsed": false
   },
   "outputs": [],
   "source": [
    "df_sanitation.loc[:, 'cluster'] = pd.DataFrame(fit_knn.predict(df_sanitation[[\"longitude\", \"latitude\"]].values)).values"
   ]
  },
  {
   "cell_type": "code",
   "execution_count": 103,
   "metadata": {
    "collapsed": false
   },
   "outputs": [],
   "source": [
    "df_crimes_2015.category = df_crimes_2015.primary_type\n",
    "df_crimes_2015.loc[~df_crimes_2015.primary_type.isin(['THEFT', 'BATTERY', 'CRIMINAL DAMAGE', 'NARCOTICS', 'OTHER OFFENSE', 'ASSAULT', 'DECEPTIVE PRACTICE', 'BURGLARY', 'MOTOR VEHICLE THEFT']), 'category'] = \"OTHER OFFENSE\"\n",
    "df_theft = df_crimes_2015.loc[df_crimes_2015.primary_type == 'THEFT', :]\n",
    "df_burglary = df_crimes_2015.loc[df_crimes_2015.primary_type == 'BURGLARY', :]\n",
    "df_other_crime = df_crimes_2015.loc[~df_crimes_2015.primary_type.isin(['THEFT', 'BURGLARY']), :]\n"
   ]
  },
  {
   "cell_type": "code",
   "execution_count": 104,
   "metadata": {
    "collapsed": false
   },
   "outputs": [],
   "source": [
    "# Create Heatmap\n",
    "crime_map = df_theft.groupby('cluster').size()\n",
    "df_theft = pd.DataFrame({'cluster_name': pd.Series(crime_map.index), 'crime_count_theft': pd.Series(crime_map.values)})\n",
    "\n",
    "# Create Heatmap\n",
    "crime_map = df_burglary.groupby('cluster').size()\n",
    "df_burglary = pd.DataFrame({'cluster_name': pd.Series(crime_map.index), 'crime_count_burglary': pd.Series(crime_map.values)})\n",
    "\n",
    "# Create Heatmap\n",
    "crime_map = df_other_crime.groupby('cluster').size()\n",
    "df_other_crime = pd.DataFrame({'cluster_name': pd.Series(crime_map.index), 'crime_count_other_crime': pd.Series(crime_map.values)})\n",
    "\n",
    "# Sanitation data\n",
    "sanitation_map = df_sanitation.groupby('cluster').size()\n",
    "df_sanitation_map = pd.DataFrame({'cluster_name': pd.Series(sanitation_map.index), 'sanitation_violation_count': pd.Series(sanitation_map.values)})\n"
   ]
  },
  {
   "cell_type": "code",
   "execution_count": 105,
   "metadata": {
    "collapsed": false
   },
   "outputs": [],
   "source": [
    "# Merge all together\n",
    "df_merge = df_merge.loc[~df_merge.longitude.isnull(), :]\n",
    "x_test = df_merge[[\"longitude\", \"latitude\"]].values\n",
    "df_merge['cluster'] = pd.DataFrame(fit_knn.predict(x_test)).values\n",
    "\n",
    "# Left join\n",
    "df_merge_crime = pd.merge(df_merge, df_theft, how='left', left_on='cluster', right_on='cluster_name', left_index=False, right_index=False)\n",
    "df_merge_crime = pd.merge(df_merge_crime, df_burglary, how='left', left_on='cluster', right_on='cluster_name', left_index=False, right_index=False)\n",
    "df_merge_crime = pd.merge(df_merge_crime, df_other_crime, how='left', left_on='cluster', right_on='cluster_name', left_index=False, right_index=False)\n",
    "df_merge_crime = pd.merge(df_merge_crime, df_sanitation_map, how='left', left_on='cluster', right_on='cluster_name', left_index=False, right_index=False)\n"
   ]
  },
  {
   "cell_type": "code",
   "execution_count": 19,
   "metadata": {
    "collapsed": false
   },
   "outputs": [],
   "source": [
    "# Calculate cluster proportion of previous failures\n",
    "#fail_sum = df_merge_crime[['y_fail', 'cluster']].groupby(['cluster']).sum()\n",
    "#fail_count = df_merge_crime[['y_fail', 'cluster']].groupby(['cluster']).count()\n",
    "#df_cluster = pd.DataFrame({'cluster_name': pd.Series(fail_sum.y_fail.index), 'failed_inspections': pd.Series(fail_sum.y_fail.values), 'sum_inspections': pd.Series(fail_count.y_fail.values)})\n",
    "#df_cluster['proportion_prev_failed'] = df_cluster.failed_inspections / df_cluster.sum_inspections\n"
   ]
  },
  {
   "cell_type": "code",
   "execution_count": 20,
   "metadata": {
    "collapsed": true
   },
   "outputs": [],
   "source": [
    "# Merge all together\n",
    "#df_merge_crime = pd.merge(df_merge_crime, df_cluster[['cluster_name', 'proportion_prev_failed']], how='left', left_on='cluster', right_on='cluster_name', left_index=False, right_index=False)"
   ]
  },
  {
   "cell_type": "markdown",
   "metadata": {
    "collapsed": false
   },
   "source": [
    "Further cleanup"
   ]
  },
  {
   "cell_type": "code",
   "execution_count": 106,
   "metadata": {
    "collapsed": true
   },
   "outputs": [],
   "source": [
    "# Replace inspection values where the n of occurances is smaller than 30\n",
    "inspection_type_table = df_merge_crime['inspection_type'].value_counts()\n",
    "list_smaller_30 = inspection_type_table[inspection_type_table < 30].index.values\n",
    "index_smaller_30 = df_merge_crime['inspection_type'].isin(list_smaller_30)\n",
    "df_merge_crime.loc[index_smaller_30, 'inspection_type'] = \"Other\"\n"
   ]
  },
  {
   "cell_type": "code",
   "execution_count": 229,
   "metadata": {
    "collapsed": true
   },
   "outputs": [],
   "source": [
    "# Set missings to zero\n",
    "df_merge_crime.loc[df_merge_crime.days_since_last_inspection.isnull(), 'days_since_last_inspection'] = 0\n",
    "\n",
    "# Remove missings\n",
    "df_merge_crime = df_merge_crime.loc[~df_merge_crime.tmax_5.isnull(), :]\n",
    "df_merge_crime = df_merge_crime.sort_values('inspection_date_string')"
   ]
  },
  {
   "cell_type": "code",
   "execution_count": 381,
   "metadata": {
    "collapsed": true
   },
   "outputs": [],
   "source": [
    "# Extract x and y\n",
    "y = df_merge_crime[['y']]\n",
    "x = df_merge_crime.drop(['y', 'y_description', 'license_id'], axis=1)"
   ]
  },
  {
   "cell_type": "code",
   "execution_count": 382,
   "metadata": {
    "collapsed": false
   },
   "outputs": [],
   "source": [
    "# Handle inspection date\n",
    "x.loc[:, 'inspection_date_string'] = pd.to_datetime(x['inspection_date_string'])\n",
    "x.loc[:, 'inspection_weekday'] = x['inspection_date_string'].dt.weekday_name\n",
    "x.loc[:, 'inspection_week'] = x['inspection_date_string'].dt.week"
   ]
  },
  {
   "cell_type": "code",
   "execution_count": 383,
   "metadata": {
    "collapsed": false
   },
   "outputs": [],
   "source": [
    "x.loc[:, 'inspection_weekday'] = x['inspection_date_string'].dt.weekday_name"
   ]
  },
  {
   "cell_type": "code",
   "execution_count": 384,
   "metadata": {
    "collapsed": false
   },
   "outputs": [],
   "source": [
    "x = x.drop(['inspection_dt', 'zip', 'child', 'inspection_type', 'address', 'city', 'license_description',\n",
    "           'application_created_date', 'y_fail', 'cluster_name_x', 'cluster_name_y', 'latitude', 'longitude'], axis=1)\n",
    "\n",
    "# Recode 'pass with condition' to pass\n",
    "y = y.astype(int)\n",
    "y[y > 1] = 1 "
   ]
  },
  {
   "cell_type": "code",
   "execution_count": 385,
   "metadata": {
    "collapsed": false
   },
   "outputs": [],
   "source": [
    "# Handle missings\n",
    "x.loc[:, x.dtypes == \"int32\"] = x.loc[:, x.dtypes == \"int32\"].fillna(0)\n",
    "x.loc[:, x.dtypes == \"float64\"] = x.loc[:, x.dtypes == \"float64\"].fillna(0.0)\n",
    "x.loc[:, x.dtypes == \"int64\"] = x.loc[:, x.dtypes == \"int64\"].fillna(0)\n",
    "x.loc[:, x.dtypes == \"object\"] = x.loc[:, x.dtypes == \"object\"].fillna('Missing')\n",
    "x.loc[:, x.dtypes == \"datetime64[ns]\"] = x.loc[:, x.dtypes == \"datetime64[ns]\"].fillna('Missing')"
   ]
  },
  {
   "cell_type": "code",
   "execution_count": 386,
   "metadata": {
    "collapsed": false
   },
   "outputs": [],
   "source": [
    "# Get dummy variables\n",
    "x = pd.get_dummies(x)"
   ]
  },
  {
   "cell_type": "code",
   "execution_count": 387,
   "metadata": {
    "collapsed": false
   },
   "outputs": [],
   "source": [
    "# Take last 60 days\n",
    "x_60_day = x.loc[x.inspection_date_string >= '2016.09.01', :]\n",
    "y_60_day = y.loc[x.inspection_date_string >= '2016.09.01', :]"
   ]
  },
  {
   "cell_type": "code",
   "execution_count": 388,
   "metadata": {
    "collapsed": false
   },
   "outputs": [],
   "source": [
    "# Take last 60 days\n",
    "x_other = x.loc[x.inspection_date_string < '2016.09.01', :]\n",
    "y_other = y.loc[x.inspection_date_string < '2016.09.01', :]"
   ]
  },
  {
   "cell_type": "code",
   "execution_count": 389,
   "metadata": {
    "collapsed": false
   },
   "outputs": [],
   "source": [
    "# Create testing and training set (70% Train, 30% Test)\n",
    "np.random.seed(123) # Set random seed\n",
    "x_train, x_test, y_train, y_test = train_test_split(x_other, y_other, test_size=0.3)\n"
   ]
  },
  {
   "cell_type": "code",
   "execution_count": 390,
   "metadata": {
    "collapsed": true
   },
   "outputs": [],
   "source": [
    "x_train = x_train.drop(['inspection_date_string'], axis=1)\n",
    "x_test = x_test.drop(['inspection_date_string'], axis=1)\n",
    "x_60_day = x_60_day.drop(['inspection_date_string'], axis=1)"
   ]
  },
  {
   "cell_type": "code",
   "execution_count": 337,
   "metadata": {
    "collapsed": false
   },
   "outputs": [],
   "source": [
    "#y_60_day = pd.concat([x_60_day.inspection_date_string, x_60_day.license_id, y_60_day], axis=1)"
   ]
  },
  {
   "cell_type": "code",
   "execution_count": 391,
   "metadata": {
    "collapsed": false
   },
   "outputs": [],
   "source": [
    "# Save the x 60 days\n",
    "#x_60_day.to_csv('data/x_60_days.csv')\n",
    "#y_60_day.to_csv('data/y_60_days.csv')"
   ]
  },
  {
   "cell_type": "markdown",
   "metadata": {},
   "source": [
    "## Baseline model"
   ]
  },
  {
   "cell_type": "markdown",
   "metadata": {},
   "source": [
    "For the baseline model there are two natural choice. The first is to assume that every restaurant is potentially going to fail. So every class is set to zero. The second model is to randomly classify the restaurants according to the proportion.  "
   ]
  },
  {
   "cell_type": "code",
   "execution_count": 392,
   "metadata": {
    "collapsed": true
   },
   "outputs": [],
   "source": [
    "#--------  zero_class\n",
    "# A function that builds a random classifier\n",
    "# Input: \n",
    "#      df_y    (Panda df of the y variable)\n",
    "# Returns: \n",
    "#      pred    (Random zero one class with the same proportion)\n",
    "\n",
    "def zero_class(df_y):\n",
    "    pred = np.repeat(0, df_y.shape[0])\n",
    "\n",
    "    return pred"
   ]
  },
  {
   "cell_type": "code",
   "execution_count": 393,
   "metadata": {
    "collapsed": false
   },
   "outputs": [
    {
     "name": "stdout",
     "output_type": "stream",
     "text": [
      "Zero model accuracy 21.91 %\n",
      "\n",
      "Confusion matrix (zero model):\n"
     ]
    },
    {
     "data": {
      "text/html": [
       "<div>\n",
       "<table border=\"1\" class=\"dataframe\">\n",
       "  <thead>\n",
       "    <tr style=\"text-align: right;\">\n",
       "      <th>Predicted</th>\n",
       "      <th>0</th>\n",
       "      <th>All</th>\n",
       "    </tr>\n",
       "    <tr>\n",
       "      <th>True</th>\n",
       "      <th></th>\n",
       "      <th></th>\n",
       "    </tr>\n",
       "  </thead>\n",
       "  <tbody>\n",
       "    <tr>\n",
       "      <th>0</th>\n",
       "      <td>7513</td>\n",
       "      <td>7513</td>\n",
       "    </tr>\n",
       "    <tr>\n",
       "      <th>1</th>\n",
       "      <td>26779</td>\n",
       "      <td>26779</td>\n",
       "    </tr>\n",
       "    <tr>\n",
       "      <th>All</th>\n",
       "      <td>34292</td>\n",
       "      <td>34292</td>\n",
       "    </tr>\n",
       "  </tbody>\n",
       "</table>\n",
       "</div>"
      ],
      "text/plain": [
       "Predicted      0    All\n",
       "True                   \n",
       "0           7513   7513\n",
       "1          26779  26779\n",
       "All        34292  34292"
      ]
     },
     "execution_count": 393,
     "metadata": {},
     "output_type": "execute_result"
    }
   ],
   "source": [
    "y_test_pred = zero_class(y_test)\n",
    "model_accuracy = np.mean(y_test_pred == y_test.y)\n",
    "\n",
    "print \"Zero model accuracy\", round(model_accuracy * 100, 2), \"%\\n\"\n",
    "print \"Confusion matrix (zero model):\"\n",
    "pd.crosstab(y_test.y, y_test_pred, rownames=['True'], colnames=['Predicted'], margins=True)\n"
   ]
  },
  {
   "cell_type": "markdown",
   "metadata": {},
   "source": [
    "The zero model has an accuracy of 22.28%. This is to be assumed as the target variable is unbalanced."
   ]
  },
  {
   "cell_type": "code",
   "execution_count": 394,
   "metadata": {
    "collapsed": false
   },
   "outputs": [
    {
     "name": "stdout",
     "output_type": "stream",
     "text": [
      "Random model accuracy 34.12 %\n",
      "\n",
      "Confusion matrix (random model):\n"
     ]
    },
    {
     "data": {
      "text/html": [
       "<div>\n",
       "<table border=\"1\" class=\"dataframe\">\n",
       "  <thead>\n",
       "    <tr style=\"text-align: right;\">\n",
       "      <th>Predicted</th>\n",
       "      <th>0</th>\n",
       "      <th>1</th>\n",
       "      <th>All</th>\n",
       "    </tr>\n",
       "    <tr>\n",
       "      <th>True</th>\n",
       "      <th></th>\n",
       "      <th></th>\n",
       "      <th></th>\n",
       "    </tr>\n",
       "  </thead>\n",
       "  <tbody>\n",
       "    <tr>\n",
       "      <th>0</th>\n",
       "      <td>5890</td>\n",
       "      <td>1623</td>\n",
       "      <td>7513</td>\n",
       "    </tr>\n",
       "    <tr>\n",
       "      <th>1</th>\n",
       "      <td>20967</td>\n",
       "      <td>5812</td>\n",
       "      <td>26779</td>\n",
       "    </tr>\n",
       "    <tr>\n",
       "      <th>All</th>\n",
       "      <td>26857</td>\n",
       "      <td>7435</td>\n",
       "      <td>34292</td>\n",
       "    </tr>\n",
       "  </tbody>\n",
       "</table>\n",
       "</div>"
      ],
      "text/plain": [
       "Predicted      0     1    All\n",
       "True                         \n",
       "0           5890  1623   7513\n",
       "1          20967  5812  26779\n",
       "All        26857  7435  34292"
      ]
     },
     "execution_count": 394,
     "metadata": {},
     "output_type": "execute_result"
    }
   ],
   "source": [
    "np.random.seed(123) # Set random seed\n",
    "y_test_pred = random_classifier(y_test)\n",
    "model_accuracy = np.mean(y_test_pred == y_test.y)\n",
    "\n",
    "print \"Random model accuracy\", round(model_accuracy * 100, 2), \"%\\n\"\n",
    "print \"Confusion matrix (random model):\"\n",
    "pd.crosstab(y_test.y, y_test_pred, rownames=['True'], colnames=['Predicted'], margins=True)\n"
   ]
  },
  {
   "cell_type": "markdown",
   "metadata": {},
   "source": [
    "The random model has an accuracy of around 34% which is better than the zero class model, i.e., the model that assumes that every restaurant is going to fail. The 34% serve as the baseline accuracy rate that has to be beaten. "
   ]
  },
  {
   "cell_type": "markdown",
   "metadata": {},
   "source": [
    "## Random forest"
   ]
  },
  {
   "cell_type": "code",
   "execution_count": 395,
   "metadata": {
    "collapsed": false
   },
   "outputs": [],
   "source": [
    "# Random forest model\n",
    "np.random.seed(123) # Set random seed\n",
    "rf_model = RandomForestClassifier(n_estimators=500, oob_score=False, class_weight=\"balanced\", max_features=9).fit(x_train, y_train.y)"
   ]
  },
  {
   "cell_type": "code",
   "execution_count": 396,
   "metadata": {
    "collapsed": false
   },
   "outputs": [
    {
     "name": "stdout",
     "output_type": "stream",
     "text": [
      "Random forest accuracy 83.61 %\n",
      "\n",
      "Confusion matrix (random forest model):\n"
     ]
    },
    {
     "data": {
      "text/html": [
       "<div>\n",
       "<table border=\"1\" class=\"dataframe\">\n",
       "  <thead>\n",
       "    <tr style=\"text-align: right;\">\n",
       "      <th>Predicted</th>\n",
       "      <th>0</th>\n",
       "      <th>1</th>\n",
       "      <th>All</th>\n",
       "    </tr>\n",
       "    <tr>\n",
       "      <th>True</th>\n",
       "      <th></th>\n",
       "      <th></th>\n",
       "      <th></th>\n",
       "    </tr>\n",
       "  </thead>\n",
       "  <tbody>\n",
       "    <tr>\n",
       "      <th>0</th>\n",
       "      <td>3753</td>\n",
       "      <td>3760</td>\n",
       "      <td>7513</td>\n",
       "    </tr>\n",
       "    <tr>\n",
       "      <th>1</th>\n",
       "      <td>1860</td>\n",
       "      <td>24919</td>\n",
       "      <td>26779</td>\n",
       "    </tr>\n",
       "    <tr>\n",
       "      <th>All</th>\n",
       "      <td>5613</td>\n",
       "      <td>28679</td>\n",
       "      <td>34292</td>\n",
       "    </tr>\n",
       "  </tbody>\n",
       "</table>\n",
       "</div>"
      ],
      "text/plain": [
       "Predicted     0      1    All\n",
       "True                         \n",
       "0          3753   3760   7513\n",
       "1          1860  24919  26779\n",
       "All        5613  28679  34292"
      ]
     },
     "execution_count": 396,
     "metadata": {},
     "output_type": "execute_result"
    }
   ],
   "source": [
    "y_test_pred = rf_model.predict(x_test)\n",
    "model_accuracy = np.mean(y_test_pred == y_test.y)\n",
    "\n",
    "print \"Random forest accuracy\", round(model_accuracy * 100, 2), \"%\\n\"\n",
    "print \"Confusion matrix (random forest model):\"\n",
    "pd.crosstab(y_test.y, y_test_pred, rownames=['True'], colnames=['Predicted'], margins=True)"
   ]
  },
  {
   "cell_type": "markdown",
   "metadata": {},
   "source": [
    "As can be seen, the random forest performs much better than the baseline model. "
   ]
  },
  {
   "cell_type": "markdown",
   "metadata": {},
   "source": [
    "## Decision Tree"
   ]
  },
  {
   "cell_type": "code",
   "execution_count": 184,
   "metadata": {
    "collapsed": false
   },
   "outputs": [],
   "source": [
    "# Decision Tree\n",
    "np.random.seed(123) # Set random seed\n",
    "tree_fit = DecisionTree(max_depth=100, class_weight=\"balanced\").fit(x_train, y_train)"
   ]
  },
  {
   "cell_type": "code",
   "execution_count": 185,
   "metadata": {
    "collapsed": false
   },
   "outputs": [
    {
     "name": "stdout",
     "output_type": "stream",
     "text": [
      "Single tree accuracy 79.67 %\n",
      "\n",
      "Confusion matrix (Tree):\n"
     ]
    },
    {
     "data": {
      "text/html": [
       "<div>\n",
       "<table border=\"1\" class=\"dataframe\">\n",
       "  <thead>\n",
       "    <tr style=\"text-align: right;\">\n",
       "      <th>Predicted</th>\n",
       "      <th>0</th>\n",
       "      <th>1</th>\n",
       "      <th>All</th>\n",
       "    </tr>\n",
       "    <tr>\n",
       "      <th>True</th>\n",
       "      <th></th>\n",
       "      <th></th>\n",
       "      <th></th>\n",
       "    </tr>\n",
       "  </thead>\n",
       "  <tbody>\n",
       "    <tr>\n",
       "      <th>0</th>\n",
       "      <td>4049</td>\n",
       "      <td>3586</td>\n",
       "      <td>7635</td>\n",
       "    </tr>\n",
       "    <tr>\n",
       "      <th>1</th>\n",
       "      <td>3384</td>\n",
       "      <td>23273</td>\n",
       "      <td>26657</td>\n",
       "    </tr>\n",
       "    <tr>\n",
       "      <th>All</th>\n",
       "      <td>7433</td>\n",
       "      <td>26859</td>\n",
       "      <td>34292</td>\n",
       "    </tr>\n",
       "  </tbody>\n",
       "</table>\n",
       "</div>"
      ],
      "text/plain": [
       "Predicted     0      1    All\n",
       "True                         \n",
       "0          4049   3586   7635\n",
       "1          3384  23273  26657\n",
       "All        7433  26859  34292"
      ]
     },
     "execution_count": 185,
     "metadata": {},
     "output_type": "execute_result"
    }
   ],
   "source": [
    "y_test_pred = tree_fit.predict(x_test)\n",
    "model_accuracy = np.mean(y_test_pred == y_test.y)\n",
    "\n",
    "print \"Single tree accuracy\", round(model_accuracy * 100, 2), \"%\\n\"\n",
    "print \"Confusion matrix (Tree):\"\n",
    "pd.crosstab(y_test.y, y_test_pred, rownames=['True'], colnames=['Predicted'], margins=True)"
   ]
  },
  {
   "cell_type": "markdown",
   "metadata": {},
   "source": [
    "## ADA Boost"
   ]
  },
  {
   "cell_type": "code",
   "execution_count": 186,
   "metadata": {
    "collapsed": true
   },
   "outputs": [],
   "source": [
    "# ADA Boost\n",
    "np.random.seed(123) # Set random seed\n",
    "ada_fit = AdaBoostClassifier().fit(x_train, y_train.y)"
   ]
  },
  {
   "cell_type": "code",
   "execution_count": 187,
   "metadata": {
    "collapsed": false
   },
   "outputs": [
    {
     "name": "stdout",
     "output_type": "stream",
     "text": [
      "ADA boost accuracy 81.07 %\n",
      "\n",
      "Confusion matrix (ADA boost):\n"
     ]
    },
    {
     "data": {
      "text/html": [
       "<div>\n",
       "<table border=\"1\" class=\"dataframe\">\n",
       "  <thead>\n",
       "    <tr style=\"text-align: right;\">\n",
       "      <th>Predicted</th>\n",
       "      <th>0</th>\n",
       "      <th>1</th>\n",
       "      <th>All</th>\n",
       "    </tr>\n",
       "    <tr>\n",
       "      <th>True</th>\n",
       "      <th></th>\n",
       "      <th></th>\n",
       "      <th></th>\n",
       "    </tr>\n",
       "  </thead>\n",
       "  <tbody>\n",
       "    <tr>\n",
       "      <th>0</th>\n",
       "      <td>3537</td>\n",
       "      <td>4098</td>\n",
       "      <td>7635</td>\n",
       "    </tr>\n",
       "    <tr>\n",
       "      <th>1</th>\n",
       "      <td>2393</td>\n",
       "      <td>24264</td>\n",
       "      <td>26657</td>\n",
       "    </tr>\n",
       "    <tr>\n",
       "      <th>All</th>\n",
       "      <td>5930</td>\n",
       "      <td>28362</td>\n",
       "      <td>34292</td>\n",
       "    </tr>\n",
       "  </tbody>\n",
       "</table>\n",
       "</div>"
      ],
      "text/plain": [
       "Predicted     0      1    All\n",
       "True                         \n",
       "0          3537   4098   7635\n",
       "1          2393  24264  26657\n",
       "All        5930  28362  34292"
      ]
     },
     "execution_count": 187,
     "metadata": {},
     "output_type": "execute_result"
    }
   ],
   "source": [
    "y_test_pred = ada_fit.predict(x_test)\n",
    "model_accuracy = np.mean(y_test_pred == y_test.y)\n",
    "\n",
    "print \"ADA boost accuracy\", round(model_accuracy * 100, 2), \"%\\n\"\n",
    "print \"Confusion matrix (ADA boost):\"\n",
    "pd.crosstab(y_test.y, y_test_pred, rownames=['True'], colnames=['Predicted'], margins=True)"
   ]
  },
  {
   "cell_type": "markdown",
   "metadata": {},
   "source": [
    "## LDA"
   ]
  },
  {
   "cell_type": "code",
   "execution_count": 188,
   "metadata": {
    "collapsed": false
   },
   "outputs": [],
   "source": [
    "# LDA\n",
    "lda_fit = LDA().fit(x_train, y_train.y)"
   ]
  },
  {
   "cell_type": "code",
   "execution_count": 189,
   "metadata": {
    "collapsed": false
   },
   "outputs": [
    {
     "name": "stdout",
     "output_type": "stream",
     "text": [
      "LDA accuracy 77.91 %\n",
      "\n",
      "Confusion matrix (LDA):\n"
     ]
    },
    {
     "data": {
      "text/html": [
       "<div>\n",
       "<table border=\"1\" class=\"dataframe\">\n",
       "  <thead>\n",
       "    <tr style=\"text-align: right;\">\n",
       "      <th>Predicted</th>\n",
       "      <th>0</th>\n",
       "      <th>1</th>\n",
       "      <th>All</th>\n",
       "    </tr>\n",
       "    <tr>\n",
       "      <th>True</th>\n",
       "      <th></th>\n",
       "      <th></th>\n",
       "      <th></th>\n",
       "    </tr>\n",
       "  </thead>\n",
       "  <tbody>\n",
       "    <tr>\n",
       "      <th>0</th>\n",
       "      <td>1187</td>\n",
       "      <td>6448</td>\n",
       "      <td>7635</td>\n",
       "    </tr>\n",
       "    <tr>\n",
       "      <th>1</th>\n",
       "      <td>1126</td>\n",
       "      <td>25531</td>\n",
       "      <td>26657</td>\n",
       "    </tr>\n",
       "    <tr>\n",
       "      <th>All</th>\n",
       "      <td>2313</td>\n",
       "      <td>31979</td>\n",
       "      <td>34292</td>\n",
       "    </tr>\n",
       "  </tbody>\n",
       "</table>\n",
       "</div>"
      ],
      "text/plain": [
       "Predicted     0      1    All\n",
       "True                         \n",
       "0          1187   6448   7635\n",
       "1          1126  25531  26657\n",
       "All        2313  31979  34292"
      ]
     },
     "execution_count": 189,
     "metadata": {},
     "output_type": "execute_result"
    }
   ],
   "source": [
    "y_test_pred = lda_fit.predict(x_test)\n",
    "model_accuracy = np.mean(y_test_pred == y_test.y)\n",
    "\n",
    "print \"LDA accuracy\", round(model_accuracy * 100, 2), \"%\\n\"\n",
    "print \"Confusion matrix (LDA):\"\n",
    "pd.crosstab(y_test.y, y_test_pred, rownames=['True'], colnames=['Predicted'], margins=True)"
   ]
  },
  {
   "cell_type": "markdown",
   "metadata": {},
   "source": [
    "## QDA"
   ]
  },
  {
   "cell_type": "code",
   "execution_count": 190,
   "metadata": {
    "collapsed": false
   },
   "outputs": [],
   "source": [
    "# QDA\n",
    "qda_fit = QDA().fit(x_train, y_train.y)"
   ]
  },
  {
   "cell_type": "code",
   "execution_count": 191,
   "metadata": {
    "collapsed": false
   },
   "outputs": [
    {
     "name": "stdout",
     "output_type": "stream",
     "text": [
      "QDA accuracy 76.16 %\n",
      "\n",
      "Confusion matrix (QDA):\n"
     ]
    },
    {
     "data": {
      "text/html": [
       "<div>\n",
       "<table border=\"1\" class=\"dataframe\">\n",
       "  <thead>\n",
       "    <tr style=\"text-align: right;\">\n",
       "      <th>Predicted</th>\n",
       "      <th>0</th>\n",
       "      <th>1</th>\n",
       "      <th>All</th>\n",
       "    </tr>\n",
       "    <tr>\n",
       "      <th>True</th>\n",
       "      <th></th>\n",
       "      <th></th>\n",
       "      <th></th>\n",
       "    </tr>\n",
       "  </thead>\n",
       "  <tbody>\n",
       "    <tr>\n",
       "      <th>0</th>\n",
       "      <td>4427</td>\n",
       "      <td>3208</td>\n",
       "      <td>7635</td>\n",
       "    </tr>\n",
       "    <tr>\n",
       "      <th>1</th>\n",
       "      <td>4967</td>\n",
       "      <td>21690</td>\n",
       "      <td>26657</td>\n",
       "    </tr>\n",
       "    <tr>\n",
       "      <th>All</th>\n",
       "      <td>9394</td>\n",
       "      <td>24898</td>\n",
       "      <td>34292</td>\n",
       "    </tr>\n",
       "  </tbody>\n",
       "</table>\n",
       "</div>"
      ],
      "text/plain": [
       "Predicted     0      1    All\n",
       "True                         \n",
       "0          4427   3208   7635\n",
       "1          4967  21690  26657\n",
       "All        9394  24898  34292"
      ]
     },
     "execution_count": 191,
     "metadata": {},
     "output_type": "execute_result"
    }
   ],
   "source": [
    "y_test_pred = qda_fit.predict(x_test)\n",
    "model_accuracy = np.mean(y_test_pred == y_test.y)\n",
    "\n",
    "print \"QDA accuracy\", round(model_accuracy * 100, 2), \"%\\n\"\n",
    "print \"Confusion matrix (QDA):\"\n",
    "pd.crosstab(y_test.y, y_test_pred, rownames=['True'], colnames=['Predicted'], margins=True)"
   ]
  },
  {
   "cell_type": "markdown",
   "metadata": {},
   "source": [
    "## Weighted logistic regression"
   ]
  },
  {
   "cell_type": "code",
   "execution_count": 192,
   "metadata": {
    "collapsed": true
   },
   "outputs": [],
   "source": [
    "# Weighted logistic regression\n",
    "weighted_logistic_fit = LogisticRegression(class_weight='balanced').fit(x_train, y_train.y)"
   ]
  },
  {
   "cell_type": "code",
   "execution_count": 193,
   "metadata": {
    "collapsed": false
   },
   "outputs": [
    {
     "name": "stdout",
     "output_type": "stream",
     "text": [
      "Weighted logistic regression accuracy 70.48 %\n",
      "\n",
      "Confusion matrix (Weighted logistic regression):\n"
     ]
    },
    {
     "data": {
      "text/html": [
       "<div>\n",
       "<table border=\"1\" class=\"dataframe\">\n",
       "  <thead>\n",
       "    <tr style=\"text-align: right;\">\n",
       "      <th>Predicted</th>\n",
       "      <th>0</th>\n",
       "      <th>1</th>\n",
       "      <th>All</th>\n",
       "    </tr>\n",
       "    <tr>\n",
       "      <th>True</th>\n",
       "      <th></th>\n",
       "      <th></th>\n",
       "      <th></th>\n",
       "    </tr>\n",
       "  </thead>\n",
       "  <tbody>\n",
       "    <tr>\n",
       "      <th>0</th>\n",
       "      <td>7160</td>\n",
       "      <td>475</td>\n",
       "      <td>7635</td>\n",
       "    </tr>\n",
       "    <tr>\n",
       "      <th>1</th>\n",
       "      <td>9647</td>\n",
       "      <td>17010</td>\n",
       "      <td>26657</td>\n",
       "    </tr>\n",
       "    <tr>\n",
       "      <th>All</th>\n",
       "      <td>16807</td>\n",
       "      <td>17485</td>\n",
       "      <td>34292</td>\n",
       "    </tr>\n",
       "  </tbody>\n",
       "</table>\n",
       "</div>"
      ],
      "text/plain": [
       "Predicted      0      1    All\n",
       "True                          \n",
       "0           7160    475   7635\n",
       "1           9647  17010  26657\n",
       "All        16807  17485  34292"
      ]
     },
     "execution_count": 193,
     "metadata": {},
     "output_type": "execute_result"
    }
   ],
   "source": [
    "y_test_pred = weighted_logistic_fit.predict(x_test)\n",
    "model_accuracy = np.mean(y_test_pred == y_test.y)\n",
    "\n",
    "print \"Weighted logistic regression accuracy\", round(model_accuracy * 100, 2), \"%\\n\"\n",
    "print \"Confusion matrix (Weighted logistic regression):\"\n",
    "pd.crosstab(y_test.y, y_test_pred, rownames=['True'], colnames=['Predicted'], margins=True)"
   ]
  },
  {
   "cell_type": "markdown",
   "metadata": {},
   "source": [
    "## Save models"
   ]
  },
  {
   "cell_type": "code",
   "execution_count": 204,
   "metadata": {
    "collapsed": false
   },
   "outputs": [],
   "source": [
    "# Save random forest to to disk\n",
    "path = 'models/rf_model.sav'\n",
    "pickle.dump(rf_model, open(path, 'wb'))\n",
    "\n",
    "# Save tree to to disk\n",
    "path = 'models/tree.fit.sav'\n",
    "pickle.dump(tree_fit, open(path, 'wb'))\n",
    "\n",
    "# Save ada boost to disk\n",
    "path = 'models/ada_fit.sav'\n",
    "pickle.dump(ada_fit, open(path, 'wb'))\n",
    "\n",
    "# Save ldm to disk\n",
    "path = 'models/lda_model.sav'\n",
    "pickle.dump(lda_fit, open(path, 'wb'))\n",
    "\n",
    "# Save qda to disk\n",
    "path = 'models/qda_model.sav'\n",
    "pickle.dump(qda_fit, open(path, 'wb'))\n",
    "\n",
    "# Save logistic regression to disk\n",
    "path = 'models/log_model.sav'\n",
    "pickle.dump(weighted_logistic_fit, open(path, 'wb'))\n"
   ]
  },
  {
   "cell_type": "code",
   "execution_count": 85,
   "metadata": {
    "collapsed": true
   },
   "outputs": [],
   "source": [
    "# load the model from disk\n",
    "# loaded_model = pickle.load(open(filename, 'rb'))"
   ]
  },
  {
   "cell_type": "markdown",
   "metadata": {},
   "source": [
    "## Create an ensemble model\n",
    "\n",
    "There are three very popular methods for combining predictions  from different models. Those are:\n",
    "\n",
    "- **Bagging:** Building multiple models (typically of the same type) from different subsamples of the training dataset.\n",
    "- **Boosting:** Building multiple models (typically of the same type) each of which learns to fix the prediction errors of a prior model in the chain.\n",
    "- **Stacking:** Building multiple models (typically of differing types) and supervisor model that learns how to best combine the predictions of the primary models.\n",
    "\n",
    "The here used approach falls into the category of stacking. A good approach to do this is to use a GLM or logistic regression on the predictions from the used models. The resulting response is the y variable that indicates if an email is classified as spam or not.\n",
    "\n",
    "Building a glm on the training data leads to the coefficients for each of the predictors that gives \"weights\" to the prediction generadet by the seperated models. "
   ]
  },
  {
   "cell_type": "code",
   "execution_count": 195,
   "metadata": {
    "collapsed": false
   },
   "outputs": [],
   "source": [
    "# predicting on the training set\n",
    "train_pred_rf = rf_model.predict_proba(x_train)[:, 0]\n",
    "train_pred_tree = tree_fit.predict_proba(x_train)[:, 0]\n",
    "train_pred_ada = ada_fit.predict_proba(x_train)[:, 0]\n",
    "train_pred_log = weighted_logistic_fit.predict_proba(x_train)[:, 0]\n",
    "train_pred_qda = qda_fit.predict_proba(x_train)[:, 0]\n",
    "train_pred_lda = lda_fit.predict_proba(x_train)[:, 0]"
   ]
  },
  {
   "cell_type": "code",
   "execution_count": 196,
   "metadata": {
    "collapsed": true
   },
   "outputs": [],
   "source": [
    "# predicting on the training set\n",
    "test_pred_rf = rf_model.predict_proba(x_test)[:, 0]\n",
    "test_pred_tree = tree_fit.predict_proba(x_test)[:, 0]\n",
    "test_pred_ada = ada_fit.predict_proba(x_test)[:, 0]\n",
    "test_pred_log = weighted_logistic_fit.predict_proba(x_test)[:, 0]\n",
    "test_pred_qda = qda_fit.predict_proba(x_test)[:, 0]\n",
    "test_pred_lda = lda_fit.predict_proba(x_test)[:, 0]"
   ]
  },
  {
   "cell_type": "code",
   "execution_count": 197,
   "metadata": {
    "collapsed": false
   },
   "outputs": [],
   "source": [
    "pred_train = pd.DataFrame({\"rf\": train_pred_rf, \"tree\": train_pred_tree, \"ada\": train_pred_ada, \"log\": train_pred_log, \"lda\": train_pred_lda, \"qda\": train_pred_qda})\n",
    "pred_test = pd.DataFrame({\"rf\": test_pred_rf, \"tree\": test_pred_tree, \"ada\": test_pred_ada, \"log\": test_pred_log, \"lda\": test_pred_lda, \"qda\": test_pred_qda})"
   ]
  },
  {
   "cell_type": "code",
   "execution_count": 198,
   "metadata": {
    "collapsed": false
   },
   "outputs": [],
   "source": [
    "x_train_quad = preprocessing.PolynomialFeatures(degree = 3, interaction_only=False).fit_transform(pred_train)\n",
    "x_test_quad = preprocessing.PolynomialFeatures(degree = 3, interaction_only=False).fit_transform(pred_test)"
   ]
  },
  {
   "cell_type": "code",
   "execution_count": 199,
   "metadata": {
    "collapsed": false
   },
   "outputs": [
    {
     "name": "stdout",
     "output_type": "stream",
     "text": [
      "Ensemble accuracy 79.69 %\n",
      "\n",
      "Confusion matrix (Ensemble):\n"
     ]
    },
    {
     "data": {
      "text/html": [
       "<div>\n",
       "<table border=\"1\" class=\"dataframe\">\n",
       "  <thead>\n",
       "    <tr style=\"text-align: right;\">\n",
       "      <th>Predicted</th>\n",
       "      <th>0</th>\n",
       "      <th>1</th>\n",
       "      <th>All</th>\n",
       "    </tr>\n",
       "    <tr>\n",
       "      <th>True</th>\n",
       "      <th></th>\n",
       "      <th></th>\n",
       "      <th></th>\n",
       "    </tr>\n",
       "  </thead>\n",
       "  <tbody>\n",
       "    <tr>\n",
       "      <th>0</th>\n",
       "      <td>4049</td>\n",
       "      <td>3586</td>\n",
       "      <td>7635</td>\n",
       "    </tr>\n",
       "    <tr>\n",
       "      <th>1</th>\n",
       "      <td>3380</td>\n",
       "      <td>23277</td>\n",
       "      <td>26657</td>\n",
       "    </tr>\n",
       "    <tr>\n",
       "      <th>All</th>\n",
       "      <td>7429</td>\n",
       "      <td>26863</td>\n",
       "      <td>34292</td>\n",
       "    </tr>\n",
       "  </tbody>\n",
       "</table>\n",
       "</div>"
      ],
      "text/plain": [
       "Predicted     0      1    All\n",
       "True                         \n",
       "0          4049   3586   7635\n",
       "1          3380  23277  26657\n",
       "All        7429  26863  34292"
      ]
     },
     "execution_count": 199,
     "metadata": {},
     "output_type": "execute_result"
    }
   ],
   "source": [
    "# Logistic ensemble model\n",
    "log_model = LogisticRegression(C=10^6, class_weight='balanced').fit(x_train_quad, y_train)\n",
    "y_test_pred = log_model.predict(x_test_quad)\n",
    "model_accuracy = np.mean(y_test_pred == y_test.y)\n",
    "\n",
    "print \"Ensemble accuracy\", round(model_accuracy * 100, 2), \"%\\n\"\n",
    "print \"Confusion matrix (Ensemble):\"\n",
    "pd.crosstab(y_test.y, y_test_pred, rownames=['True'], colnames=['Predicted'], margins=True)"
   ]
  },
  {
   "cell_type": "markdown",
   "metadata": {
    "collapsed": false
   },
   "source": [
    "Currently the heighest accuracy is reached with the random forest model."
   ]
  },
  {
   "cell_type": "markdown",
   "metadata": {},
   "source": [
    "## Variable importance"
   ]
  },
  {
   "cell_type": "code",
   "execution_count": 397,
   "metadata": {
    "collapsed": false
   },
   "outputs": [],
   "source": [
    "# Extract importance list\n",
    "importance_list = rf_model.feature_importances_\n",
    "name_list = x.columns\n",
    "\n",
    "# Remove values with zero\n",
    "name_list = name_list[importance_list > 0]\n",
    "importance_list = importance_list[importance_list > 0]\n",
    "\n",
    "# Add together\n",
    "importance_list, name_list = zip(*sorted(zip(importance_list, name_list)))\n"
   ]
  },
  {
   "cell_type": "code",
   "execution_count": 403,
   "metadata": {
    "collapsed": false
   },
   "outputs": [
    {
     "data": {
      "image/png": "[encoded data removed]",
      "text/plain": [
       "<matplotlib.figure.Figure at 0xc8759e8>"
      ]
     },
     "metadata": {},
     "output_type": "display_data"
    }
   ],
   "source": [
    "# Include only the 10 most important predictors\n",
    "importance_list_10 = importance_list[0:10]\n",
    "name_list_10 = name_list[(len(name_list)-10):len(name_list)]\n",
    "\n",
    "# Ploting\n",
    "plt.figure(figsize=(18, 10))\n",
    "plt.barh(range(len(name_list_10)),importance_list_10,align='center', color = \"darkblue\", alpha = 0.6)\n",
    "plt.yticks(range(len(name_list_10)),name_list_10)\n",
    "plt.xlabel('Relative Importance in the Random Forest')\n",
    "plt.ylabel('Features')\n",
    "plt.title('Relative importance of Each Feature')\n",
    "plt.grid()\n",
    "plt.show()\n"
   ]
  },
  {
   "cell_type": "markdown",
   "metadata": {},
   "source": [
    "## Test on future data"
   ]
  },
  {
   "cell_type": "code",
   "execution_count": 247,
   "metadata": {
    "collapsed": false
   },
   "outputs": [
    {
     "name": "stdout",
     "output_type": "stream",
     "text": [
      "Random forest accuracy 84.11 %\n",
      "\n",
      "Confusion matrix (random forest model):\n"
     ]
    },
    {
     "data": {
      "text/html": [
       "<div>\n",
       "<table border=\"1\" class=\"dataframe\">\n",
       "  <thead>\n",
       "    <tr style=\"text-align: right;\">\n",
       "      <th>Predicted</th>\n",
       "      <th>0</th>\n",
       "      <th>1</th>\n",
       "      <th>All</th>\n",
       "    </tr>\n",
       "    <tr>\n",
       "      <th>True</th>\n",
       "      <th></th>\n",
       "      <th></th>\n",
       "      <th></th>\n",
       "    </tr>\n",
       "  </thead>\n",
       "  <tbody>\n",
       "    <tr>\n",
       "      <th>0</th>\n",
       "      <td>171</td>\n",
       "      <td>239</td>\n",
       "      <td>410</td>\n",
       "    </tr>\n",
       "    <tr>\n",
       "      <th>1</th>\n",
       "      <td>51</td>\n",
       "      <td>1364</td>\n",
       "      <td>1415</td>\n",
       "    </tr>\n",
       "    <tr>\n",
       "      <th>All</th>\n",
       "      <td>222</td>\n",
       "      <td>1603</td>\n",
       "      <td>1825</td>\n",
       "    </tr>\n",
       "  </tbody>\n",
       "</table>\n",
       "</div>"
      ],
      "text/plain": [
       "Predicted    0     1   All\n",
       "True                      \n",
       "0          171   239   410\n",
       "1           51  1364  1415\n",
       "All        222  1603  1825"
      ]
     },
     "execution_count": 247,
     "metadata": {},
     "output_type": "execute_result"
    }
   ],
   "source": [
    "y_test_pred = rf_model.predict(x_60_day)\n",
    "model_accuracy = np.mean(y_test_pred == y_60_day.y)\n",
    "\n",
    "print \"Random forest accuracy\", round(model_accuracy * 100, 2), \"%\\n\"\n",
    "print \"Confusion matrix (random forest model):\"\n",
    "pd.crosstab(y_60_day.y, y_test_pred, rownames=['True'], colnames=['Predicted'], margins=True)"
   ]
  },
  {
   "cell_type": "markdown",
   "metadata": {},
   "source": [
    "## Model tuning (with time series split)"
   ]
  },
  {
   "cell_type": "code",
   "execution_count": 248,
   "metadata": {
    "collapsed": false
   },
   "outputs": [],
   "source": [
    "# Time series split\n",
    "max_features = [2, 5, 10, 15, 20]\n",
    "\n",
    "# Create numpy arrays\n",
    "np_x_train = x_train.values\n",
    "np_x_test = x_test.values\n",
    "np_y_train = y_train.values\n",
    "np_y_test = x_test.values\n"
   ]
  },
  {
   "cell_type": "code",
   "execution_count": 283,
   "metadata": {
    "collapsed": true
   },
   "outputs": [],
   "source": [
    "model_accuracy = []"
   ]
  },
  {
   "cell_type": "code",
   "execution_count": 308,
   "metadata": {
    "collapsed": false
   },
   "outputs": [],
   "source": [
    "max_features = max_features = [2, 4, 6, 8, 9, 10, 12, 14]\n",
    "n_splits = 5"
   ]
  },
  {
   "cell_type": "code",
   "execution_count": 309,
   "metadata": {
    "collapsed": false
   },
   "outputs": [
    {
     "name": "stdout",
     "output_type": "stream",
     "text": [
      "value: 2\n"
     ]
    },
    {
     "name": "stderr",
     "output_type": "stream",
     "text": [
      "C:\\Local\\Software\\Anaconda\\lib\\site-packages\\ipykernel\\__main__.py:13: DataConversionWarning: A column-vector y was passed when a 1d array was expected. Please change the shape of y to (n_samples,), for example using ravel().\n"
     ]
    }
   ],
   "source": [
    "# TimeSeriesSplit\n",
    "df_accuracy = []\n",
    "for value in max_features:\n",
    "    print 'value:', value\n",
    "    df_empty = []\n",
    "    # Create generator\n",
    "    time_series_generator = TimeSeriesSplit(n_splits=n_splits).split(np_x_train)\n",
    "    for train_index, test_index in time_series_generator:\n",
    "        x_validate_train, x_validate_test = np_x_train[train_index], np_x_train[test_index]\n",
    "        y_validate_train, y_validate_test = np_y_train[train_index], np_y_train[test_index]\n",
    "\n",
    "        np.random.seed(123) # Set random seed\n",
    "        rf_model = RandomForestClassifier(n_estimators=100, oob_score=True, class_weight=\"balanced\", max_features=value).fit(x_validate_train, y_validate_train)\n",
    "        \n",
    "        y_test_pred = rf_model.predict(x_validate_test)\n",
    "        model_accuracy = np.mean(y_test_pred == y_validate_test)\n",
    "        df_empty.append(model_accuracy)\n",
    "\n",
    "    df_accuracy.append(np.mean(df_empty))\n"
   ]
  },
  {
   "cell_type": "markdown",
   "metadata": {},
   "source": [
    "The best model appears to be reached with only 2 variables at each split. That mean for the final model we're taking only 2 variable. However, this in turn implies that we should use a lot of trees."
   ]
  },
  {
   "cell_type": "code",
   "execution_count": 310,
   "metadata": {
    "collapsed": false
   },
   "outputs": [
    {
     "data": {
      "text/plain": [
       "[0.72334232686605959]"
      ]
     },
     "execution_count": 310,
     "metadata": {},
     "output_type": "execute_result"
    }
   ],
   "source": [
    "df_accuracy"
   ]
  },
  {
   "cell_type": "code",
   "execution_count": 305,
   "metadata": {
    "collapsed": true
   },
   "outputs": [],
   "source": [
    "# Random forest model\n",
    "np.random.seed(123) # Set random seed\n",
    "rf_model = RandomForestClassifier(n_estimators=1000, oob_score=False, class_weight=\"balanced\", max_features=2).fit(x_train, y_train.y)"
   ]
  },
  {
   "cell_type": "code",
   "execution_count": 306,
   "metadata": {
    "collapsed": false
   },
   "outputs": [
    {
     "name": "stdout",
     "output_type": "stream",
     "text": [
      "Random forest accuracy 81.97 %\n",
      "\n",
      "Confusion matrix (random forest model):\n"
     ]
    },
    {
     "data": {
      "text/html": [
       "<div>\n",
       "<table border=\"1\" class=\"dataframe\">\n",
       "  <thead>\n",
       "    <tr style=\"text-align: right;\">\n",
       "      <th>Predicted</th>\n",
       "      <th>0</th>\n",
       "      <th>1</th>\n",
       "      <th>All</th>\n",
       "    </tr>\n",
       "    <tr>\n",
       "      <th>True</th>\n",
       "      <th></th>\n",
       "      <th></th>\n",
       "      <th></th>\n",
       "    </tr>\n",
       "  </thead>\n",
       "  <tbody>\n",
       "    <tr>\n",
       "      <th>0</th>\n",
       "      <td>2353</td>\n",
       "      <td>5160</td>\n",
       "      <td>7513</td>\n",
       "    </tr>\n",
       "    <tr>\n",
       "      <th>1</th>\n",
       "      <td>1022</td>\n",
       "      <td>25757</td>\n",
       "      <td>26779</td>\n",
       "    </tr>\n",
       "    <tr>\n",
       "      <th>All</th>\n",
       "      <td>3375</td>\n",
       "      <td>30917</td>\n",
       "      <td>34292</td>\n",
       "    </tr>\n",
       "  </tbody>\n",
       "</table>\n",
       "</div>"
      ],
      "text/plain": [
       "Predicted     0      1    All\n",
       "True                         \n",
       "0          2353   5160   7513\n",
       "1          1022  25757  26779\n",
       "All        3375  30917  34292"
      ]
     },
     "execution_count": 306,
     "metadata": {},
     "output_type": "execute_result"
    }
   ],
   "source": [
    "y_test_pred = rf_model.predict(x_test)\n",
    "model_accuracy = np.mean(y_test_pred == y_test.y)\n",
    "\n",
    "print \"Random forest accuracy\", round(model_accuracy * 100, 2), \"%\\n\"\n",
    "print \"Confusion matrix (random forest model):\"\n",
    "pd.crosstab(y_test.y, y_test_pred, rownames=['True'], colnames=['Predicted'], margins=True)"
   ]
  },
  {
   "cell_type": "code",
   "execution_count": 402,
   "metadata": {
    "collapsed": false
   },
   "outputs": [
    {
     "data": {
      "text/plain": [
       "(80012, 49)"
      ]
     },
     "execution_count": 402,
     "metadata": {},
     "output_type": "execute_result"
    }
   ],
   "source": [
    "x_train.shape"
   ]
  }
 ],
 "metadata": {
  "anaconda-cloud": {},
  "kernelspec": {
   "display_name": "Python [Root]",
   "language": "python",
   "name": "Python [Root]"
  },
  "language_info": {
   "codemirror_mode": {
    "name": "ipython",
    "version": 2
   },
   "file_extension": ".py",
   "mimetype": "text/x-python",
   "name": "python",
   "nbconvert_exporter": "python",
   "pygments_lexer": "ipython2",
   "version": "2.7.12"
  }
 },
 "nbformat": 4,
 "nbformat_minor": 0
}
