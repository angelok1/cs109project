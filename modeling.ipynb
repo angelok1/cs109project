{
 "cells": [
  {
   "cell_type": "markdown",
   "metadata": {},
   "source": [
    "## Preparation"
   ]
  },
  {
   "cell_type": "code",
   "execution_count": 1,
   "metadata": {
    "collapsed": true
   },
   "outputs": [],
   "source": [
    "# Clear namespace\n",
    "for name in dir():\n",
    "    if not name.startswith('_'):\n",
    "        del globals()[name]"
   ]
  },
  {
   "cell_type": "markdown",
   "metadata": {},
   "source": [
    "Import libraries"
   ]
  },
  {
   "cell_type": "code",
   "execution_count": 2,
   "metadata": {
    "collapsed": false
   },
   "outputs": [],
   "source": [
    "# Data manipulation\n",
    "import numpy as np\n",
    "import pandas as pd\n",
    "\n",
    "# Ploting\n",
    "import matplotlib\n",
    "import matplotlib.pyplot as plt\n",
    "%matplotlib inline\n",
    "\n",
    "# Scientific computing\n",
    "import scipy as sp\n",
    "\n",
    "# Machine Learning\n",
    "from sklearn.cross_validation import train_test_split\n",
    "from sklearn import linear_model\n",
    "from sklearn.decomposition import PCA\n",
    "from sklearn.cross_validation import KFold\n",
    "from sklearn import svm\n",
    "from sklearn.neighbors import KNeighborsRegressor as KNN\n",
    "from sklearn.ensemble import RandomForestClassifier, AdaBoostClassifier\n",
    "from sklearn.linear_model import LogisticRegression\n",
    "from sklearn.grid_search import GridSearchCV\n",
    "from sklearn.cross_validation import StratifiedShuffleSplit\n",
    "from sklearn.metrics import f1_score\n",
    "from sklearn import tree\n",
    "from sklearn.discriminant_analysis import LinearDiscriminantAnalysis as LDA\n",
    "from sklearn.discriminant_analysis import QuadraticDiscriminantAnalysis as QDA\n",
    "\n",
    "# Safe models\n",
    "import pickle"
   ]
  },
  {
   "cell_type": "markdown",
   "metadata": {},
   "source": [
    "## Functions"
   ]
  },
  {
   "cell_type": "code",
   "execution_count": 3,
   "metadata": {
    "collapsed": true
   },
   "outputs": [],
   "source": [
    "#--------  table\n",
    "# A function that is similar to the R table function\n",
    "# Input: \n",
    "#      x (x values)\n",
    "# Returns: \n",
    "#      table (table)\n",
    "\n",
    "def table(x):\n",
    "    table = pd.DataFrame(x.value_counts(dropna=True))\n",
    "    return table\n",
    "\n",
    "#--------  Scatter Plot\n",
    "# A function that visualizes the data\n",
    "# Input: \n",
    "#      x (variable on the x-axis)\n",
    "#      y (variable on the y_axis)\n",
    "#      df (panda data frame)\n",
    "#      group (grouping variable, i.e., variable to plot)\n",
    "#      col (vector of colors)\n",
    "#      alpha (alpha value for colors)\n",
    "#      size (size of the dots)\n",
    "#      title (title of the plot)\n",
    "#      marker (shape of the marker, default to 'o')\n",
    "#      add_line (add a line plot)\n",
    "#      linewidth (thinkness of the added line)\n",
    "#      figsize (size of the figure)\n",
    "\n",
    "def scatter_plot(x, y, df, group, col, alpha, size, title, marker='o', add_line=False, linewidth=1, figsize=(15, 10)):\n",
    "    \n",
    "    # Define plot\n",
    "    fig = plt.figure(figsize=figsize)\n",
    "    ax = plt.axes()\n",
    "\n",
    "    # Extract unique categories\n",
    "    cat = df[group].unique()\n",
    "\n",
    "    # Loop trough categories\n",
    "    for i in range(0, len(cat)) :\n",
    "            ax.scatter(df[x][df[group] == cat[i]].values,\n",
    "                       df[y][df[group] == cat[i]].values,\n",
    "                       c=col[i], alpha=alpha, s=size,\n",
    "                       label=cat[i], edgecolors='none',\n",
    "                       marker=marker)\n",
    "    # Add line plot\n",
    "    if add_line:\n",
    "            for i in range(0, len(cat)) :\n",
    "                ax.plot(df[x][df[group] == cat[i]].values,\n",
    "                           df[y][df[group] == cat[i]].values,\n",
    "                           c=col[i], alpha=alpha, linewidth=linewidth)\n",
    "\n",
    "    # Add legend, grid etc.\n",
    "    ax.legend(loc=0, scatterpoints = 1) # Legend with just one dot\n",
    "    ax.set_xlabel(x); ax.set_ylabel(y)\n",
    "    ax.set_title(title)\n",
    "    plt.grid()\n",
    "    \n",
    "#--------  random_classifier\n",
    "# A function that builds a random classifier\n",
    "# Input: \n",
    "#      df_y    (Panda df of the y variable)\n",
    "# Returns: \n",
    "#      pred    (Random zero one class with the same proportion)\n",
    "\n",
    "def random_classifier(df_y):\n",
    "    # Transform y to panda dataframe\n",
    "    prop = df_y[\"y\"].value_counts() / df_y.shape[0]\n",
    "\n",
    "    pred = np.random.binomial(1, prop[0], df_y.shape[0])\n",
    "\n",
    "    return pred"
   ]
  },
  {
   "cell_type": "markdown",
   "metadata": {},
   "source": [
    "## 1: Importing Data"
   ]
  },
  {
   "cell_type": "code",
   "execution_count": 4,
   "metadata": {
    "collapsed": false
   },
   "outputs": [
    {
     "name": "stderr",
     "output_type": "stream",
     "text": [
      "C:\\Local\\Software\\Anaconda\\lib\\site-packages\\IPython\\core\\interactiveshell.py:2723: DtypeWarning: Columns (9,16,17) have mixed types. Specify dtype option on import or set low_memory=False.\n",
      "  interactivity=interactivity, compiler=compiler, result=result)\n"
     ]
    }
   ],
   "source": [
    "# load business data\n",
    "df_business = pd.read_csv('data/Business_Licenses.csv')"
   ]
  },
  {
   "cell_type": "code",
   "execution_count": 5,
   "metadata": {
    "collapsed": false
   },
   "outputs": [],
   "source": [
    "# load crime data\n",
    "df_crimes = pd.read_csv('data/Crimes_-_2001_to_present.csv')"
   ]
  },
  {
   "cell_type": "code",
   "execution_count": 6,
   "metadata": {
    "collapsed": true
   },
   "outputs": [],
   "source": [
    "# load food inspection data\n",
    "df_inspection = pd.read_csv('inspection_merged_climate.csv')"
   ]
  },
  {
   "cell_type": "markdown",
   "metadata": {},
   "source": [
    "## 2: Data Cleaning"
   ]
  },
  {
   "cell_type": "markdown",
   "metadata": {},
   "source": [
    "Business data"
   ]
  },
  {
   "cell_type": "code",
   "execution_count": 7,
   "metadata": {
    "collapsed": false
   },
   "outputs": [],
   "source": [
    "# Transform column headers to lower case\n",
    "df_business.columns = map(str.lower, df_business.columns)\n",
    "\n",
    "# Replace whitespace in headers\n",
    "df_business.columns = [x.strip().replace(' ', '_') for x in df_business.columns]\n",
    "\n",
    "# Format to datetime string\n",
    "df_business['license_term_start_date'] =  pd.to_datetime(df_business['license_term_start_date'], format='%m/%d/%Y')\n",
    "df_business['license_term_expiration_date'] =  pd.to_datetime(df_business['license_term_expiration_date'], format='%m/%d/%Y')\n",
    "df_business['license_approved_for_issuance'] =  pd.to_datetime(df_business['license_approved_for_issuance'], format='%m/%d/%Y')\n",
    "df_business['date_issued'] =  pd.to_datetime(df_business['date_issued'], format='%m/%d/%Y')\n",
    "df_business['application_created_date'] =  pd.to_datetime(df_business['application_created_date'], format='%m/%d/%Y')\n",
    "\n",
    "# Filter\n",
    "#df_business = df_business[~((df_business['application_type'] == 'C_CAPA') | (df_business['application_type'] == 'C_SBA'))]\n",
    "\n",
    "# Exclude NA's\n",
    "#df_business = df_business[~pd.isnull(df_business['license_term_start_date'])]\n",
    "#df_business = df_business[~pd.isnull(df_business['license_term_expiration_date'])]\n"
   ]
  },
  {
   "cell_type": "markdown",
   "metadata": {},
   "source": [
    "Crime data"
   ]
  },
  {
   "cell_type": "code",
   "execution_count": 8,
   "metadata": {
    "collapsed": true
   },
   "outputs": [],
   "source": [
    "# Transform column headers to lower case\n",
    "df_crimes.columns = map(str.lower, df_crimes.columns)\n",
    "\n",
    "# Replace whitespace in headers\n",
    "df_crimes.columns = [x.strip().replace(' ', '_') for x in df_crimes.columns]\n",
    "\n",
    "# Select only 2015 data\n",
    "df_crimes_2015 = df_crimes[df_crimes['year'] == 2015]\n",
    "df_crimes_2015.head()\n",
    "\n",
    "# Exclude NA's\n",
    "df_crimes_2015 = df_crimes_2015[~pd.isnull(df_crimes_2015['latitude'])]\n"
   ]
  },
  {
   "cell_type": "markdown",
   "metadata": {},
   "source": [
    "Inspection data"
   ]
  },
  {
   "cell_type": "code",
   "execution_count": 9,
   "metadata": {
    "collapsed": false
   },
   "outputs": [],
   "source": [
    "# Transform column headers to lower case\n",
    "df_inspection.columns = map(str.lower, df_inspection.columns)\n",
    "\n",
    "# Replace whitespace in headers\n",
    "df_inspection.columns = [x.strip().replace(' ', '_') for x in df_inspection.columns]\n",
    "\n",
    "# Replace question mark (?) with whitespace in headers\n",
    "df_inspection.columns = [x.strip().replace('?', ' ') for x in df_inspection.columns]\n",
    "\n",
    "# Replace colon (:) with whitespace in headers\n",
    "df_inspection.columns = [x.strip().replace(':', '') for x in df_inspection.columns]\n",
    "\n",
    "# Replace double unserscore (__) with underscore (_) in headers\n",
    "df_inspection.columns = [x.strip().replace('__', '_') for x in df_inspection.columns]\n",
    "\n",
    "# Drop id row \n",
    "df_inspection = df_inspection.drop('unnamed_0', axis=1)\n",
    "\n",
    "# Renaming\n",
    "df_inspection = df_inspection.rename(columns={'license_#':'license_id'})"
   ]
  },
  {
   "cell_type": "code",
   "execution_count": 10,
   "metadata": {
    "collapsed": false
   },
   "outputs": [
    {
     "name": "stdout",
     "output_type": "stream",
     "text": [
      "False    118166\n",
      "True         13\n",
      "Name: license_id, dtype: int64\n"
     ]
    }
   ],
   "source": [
    "# Count missings in licence_id\n",
    "print df_inspection['license_id'].isnull().value_counts()"
   ]
  },
  {
   "cell_type": "code",
   "execution_count": 11,
   "metadata": {
    "collapsed": false
   },
   "outputs": [],
   "source": [
    "# Remove missings\n",
    "df_inspection = df_inspection.loc[~df_inspection['license_id'].isnull(), :]\n",
    "\n",
    "# Format lycence id to int\n",
    "df_inspection['license_id'] = df_inspection['license_id'].astype(int)\n",
    "df_inspection['zip'] = df_inspection['zip'].fillna(0.0).astype(int)\n"
   ]
  },
  {
   "cell_type": "code",
   "execution_count": 12,
   "metadata": {
    "collapsed": false
   },
   "outputs": [],
   "source": [
    "# select only relevant columns from businesses\n",
    "df_business_merge = df_business[['license_id', 'address', 'city', 'ward', 'police_district', 'license_description', 'application_created_date', 'conditional_approval', 'license_status']]"
   ]
  },
  {
   "cell_type": "code",
   "execution_count": 13,
   "metadata": {
    "collapsed": false
   },
   "outputs": [],
   "source": [
    "# Left join\n",
    "df_merge = pd.merge(df_inspection, df_business_merge, how='left', left_on='license_id', right_on='license_id', left_index=False, right_index=False)"
   ]
  },
  {
   "cell_type": "markdown",
   "metadata": {},
   "source": [
    "Add crime data"
   ]
  },
  {
   "cell_type": "code",
   "execution_count": 14,
   "metadata": {
    "collapsed": false
   },
   "outputs": [],
   "source": [
    "# Create cartesian combination\n",
    "def cartesian(x1, x2):\n",
    "    return np.transpose([np.tile(x1, len(x2)), np.repeat(x2, len(x1))])\n",
    "\n",
    "# Create risk cells\n",
    "def create_risk_cells(longitude, latitude, n_cells):\n",
    "    n = int(np.sqrt(n_cells))\n",
    "    x1 = np.zeros(n)\n",
    "    x2 = np.zeros(n)\n",
    "\n",
    "    min_long = min(longitude)\n",
    "    min_lat = min(latitude)\n",
    "    step_long = (max(longitude) - min(longitude)) / n\n",
    "    step_lang = (max(latitude) - min(latitude)) / n\n",
    "    \n",
    "    for i in range(0, n):\n",
    "        x1[i] = min_long + (step_long * i)\n",
    "        x2[i] = min_lat + (step_lang * i) \n",
    "        \n",
    "    return pd.DataFrame(cartesian(x1, x2))\n",
    "\n"
   ]
  },
  {
   "cell_type": "code",
   "execution_count": 15,
   "metadata": {
    "collapsed": false
   },
   "outputs": [],
   "source": [
    "x_train = create_risk_cells(df_crimes_2015.longitude, df_crimes_2015.latitude, 100*100)\n",
    "y_train = pd.Series(range(0, x_train.shape[0], 1))\n"
   ]
  },
  {
   "cell_type": "code",
   "execution_count": 16,
   "metadata": {
    "collapsed": false
   },
   "outputs": [],
   "source": [
    "knn = KNN(n_neighbors=1)\n",
    "fit_knn = knn.fit(x_train.values, y_train.values)\n",
    "\n",
    "x_test = df_crimes_2015[[\"longitude\", \"latitude\"]].values\n",
    "df_crimes_2015['cluster'] = pd.DataFrame(fit_knn.predict(x_test)).values\n"
   ]
  },
  {
   "cell_type": "code",
   "execution_count": 17,
   "metadata": {
    "collapsed": false
   },
   "outputs": [],
   "source": [
    "df_crimes_2015.category = df_crimes_2015.primary_type\n",
    "df_crimes_2015.loc[~df_crimes_2015.primary_type.isin(['THEFT', 'BATTERY', 'CRIMINAL DAMAGE', 'NARCOTICS', 'OTHER OFFENSE', 'ASSAULT', 'DECEPTIVE PRACTICE', 'BURGLARY', 'MOTOR VEHICLE THEFT']), 'category'] = \"OTHER OFFENSE\"\n",
    "df_theft = df_crimes_2015.loc[df_crimes_2015.primary_type == 'THEFT', :]\n",
    "df_burglary = df_crimes_2015.loc[df_crimes_2015.primary_type == 'BURGLARY', :]\n",
    "df_other_crime = df_crimes_2015.loc[~df_crimes_2015.primary_type.isin(['THEFT', 'BURGLARY']), :]\n"
   ]
  },
  {
   "cell_type": "code",
   "execution_count": 18,
   "metadata": {
    "collapsed": false
   },
   "outputs": [],
   "source": [
    "# Create Heatmap\n",
    "crime_map = df_theft.groupby('cluster').size()\n",
    "df_theft = pd.DataFrame({'cluster_name': pd.Series(crime_map.index), 'crime_count_theft': pd.Series(crime_map.values)})\n",
    "\n",
    "# Create Heatmap\n",
    "crime_map = df_burglary.groupby('cluster').size()\n",
    "df_burglary = pd.DataFrame({'cluster_name': pd.Series(crime_map.index), 'crime_count_burglary': pd.Series(crime_map.values)})\n",
    "\n",
    "# Create Heatmap\n",
    "crime_map = df_other_crime.groupby('cluster').size()\n",
    "df_other_crime = pd.DataFrame({'cluster_name': pd.Series(crime_map.index), 'crime_count_other_crime': pd.Series(crime_map.values)})\n"
   ]
  },
  {
   "cell_type": "code",
   "execution_count": 19,
   "metadata": {
    "collapsed": false
   },
   "outputs": [],
   "source": [
    "df_merge = df_merge.loc[~df_merge.longitude.isnull(), :]\n",
    "x_test = df_merge[[\"longitude\", \"latitude\"]].values\n",
    "df_merge['cluster'] = pd.DataFrame(fit_knn.predict(x_test)).values\n"
   ]
  },
  {
   "cell_type": "code",
   "execution_count": 20,
   "metadata": {
    "collapsed": false
   },
   "outputs": [],
   "source": [
    "# Left join\n",
    "df_merge_crime = pd.merge(df_merge, df_theft, how='left', left_on='cluster', right_on='cluster_name', left_index=False, right_index=False)\n",
    "df_merge_crime = pd.merge(df_merge_crime, df_burglary, how='left', left_on='cluster', right_on='cluster_name', left_index=False, right_index=False)\n",
    "df_merge_crime = pd.merge(df_merge_crime, df_other_crime, how='left', left_on='cluster', right_on='cluster_name', left_index=False, right_index=False)\n"
   ]
  },
  {
   "cell_type": "markdown",
   "metadata": {
    "collapsed": false
   },
   "source": [
    "Further cleanup"
   ]
  },
  {
   "cell_type": "code",
   "execution_count": 21,
   "metadata": {
    "collapsed": true
   },
   "outputs": [],
   "source": [
    "# Replace inspection values where the n of occurances is smaller than 30\n",
    "inspection_type_table = df_merge_crime['inspection_type'].value_counts()\n",
    "list_smaller_30 = inspection_type_table[inspection_type_table < 30].index.values\n",
    "index_smaller_30 = df_merge_crime['inspection_type'].isin(list_smaller_30)\n",
    "df_merge_crime.loc[index_smaller_30, 'inspection_type'] = \"Other\"\n"
   ]
  },
  {
   "cell_type": "code",
   "execution_count": 22,
   "metadata": {
    "collapsed": true
   },
   "outputs": [],
   "source": [
    "# Set missings to zero\n",
    "df_merge_crime.loc[df_merge_crime.days_since_last_inspection.isnull(), 'days_since_last_inspection'] = 0\n",
    "\n",
    "# Remove missings\n",
    "df_merge_crime = df_merge_crime.loc[~df_merge_crime.tmax_5.isnull(), :]"
   ]
  },
  {
   "cell_type": "code",
   "execution_count": 23,
   "metadata": {
    "collapsed": false
   },
   "outputs": [],
   "source": [
    "# Extract x and y\n",
    "y = df_merge_crime[['y']]\n",
    "x = df_merge_crime.drop(['y', 'y_description', 'license_id'], axis=1)\n",
    "x = x.drop(['inspection_date_string', 'inspection_dt', 'zip', 'child', 'ever_failed', 'inspection_type', 'address', 'city', 'license_description',\n",
    "           'application_created_date', 'y_fail'], axis=1)\n",
    "\n",
    "# Recode 'pass with condition' to pass\n",
    "y = y.astype(int)\n",
    "y[y > 1] = 1 \n"
   ]
  },
  {
   "cell_type": "code",
   "execution_count": 24,
   "metadata": {
    "collapsed": false
   },
   "outputs": [],
   "source": [
    "# Handle missings\n",
    "x.loc[:, x.dtypes == \"int32\"] = x.loc[:, x.dtypes == \"int32\"].fillna(0)\n",
    "x.loc[:, x.dtypes == \"float64\"] = x.loc[:, x.dtypes == \"float64\"].fillna(0.0)\n",
    "x.loc[:, x.dtypes == \"int64\"] = x.loc[:, x.dtypes == \"int64\"].fillna(0)\n",
    "x.loc[:, x.dtypes == \"object\"] = x.loc[:, x.dtypes == \"object\"].fillna('Missing')\n",
    "x.loc[:, x.dtypes == \"datetime64[ns]\"] = x.loc[:, x.dtypes == \"datetime64[ns]\"].fillna('Missing')"
   ]
  },
  {
   "cell_type": "code",
   "execution_count": 25,
   "metadata": {
    "collapsed": true
   },
   "outputs": [],
   "source": [
    "# Get dummy variables\n",
    "x = pd.get_dummies(x)"
   ]
  },
  {
   "cell_type": "code",
   "execution_count": 26,
   "metadata": {
    "collapsed": false
   },
   "outputs": [],
   "source": [
    "# Create testing and training set (70% Train, 30% Test)\n",
    "np.random.seed(123) # Set random seed\n",
    "x_train, x_test, y_train, y_test = train_test_split(x, y, test_size=0.3)\n"
   ]
  },
  {
   "cell_type": "markdown",
   "metadata": {},
   "source": [
    "## Baseline model"
   ]
  },
  {
   "cell_type": "markdown",
   "metadata": {},
   "source": [
    "For the baseline model there are two natural choice. The first is to assume that every restaurant is potentially going to fail. So every class is set to zero. The second model is to randomly classify the restaurants according to the proportion.  "
   ]
  },
  {
   "cell_type": "code",
   "execution_count": 27,
   "metadata": {
    "collapsed": true
   },
   "outputs": [],
   "source": [
    "#--------  zero_class\n",
    "# A function that builds a random classifier\n",
    "# Input: \n",
    "#      df_y    (Panda df of the y variable)\n",
    "# Returns: \n",
    "#      pred    (Random zero one class with the same proportion)\n",
    "\n",
    "def zero_class(df_y):\n",
    "    pred = np.repeat(0, df_y.shape[0])\n",
    "\n",
    "    return pred"
   ]
  },
  {
   "cell_type": "code",
   "execution_count": 28,
   "metadata": {
    "collapsed": false
   },
   "outputs": [
    {
     "name": "stdout",
     "output_type": "stream",
     "text": [
      "Zero model accuracy 22.57 %\n",
      "\n",
      "Confusion matrix (zero model):\n"
     ]
    },
    {
     "data": {
      "text/html": [
       "<div>\n",
       "<table border=\"1\" class=\"dataframe\">\n",
       "  <thead>\n",
       "    <tr style=\"text-align: right;\">\n",
       "      <th>Predicted</th>\n",
       "      <th>0</th>\n",
       "      <th>All</th>\n",
       "    </tr>\n",
       "    <tr>\n",
       "      <th>True</th>\n",
       "      <th></th>\n",
       "      <th></th>\n",
       "    </tr>\n",
       "  </thead>\n",
       "  <tbody>\n",
       "    <tr>\n",
       "      <th>0</th>\n",
       "      <td>7862</td>\n",
       "      <td>7862</td>\n",
       "    </tr>\n",
       "    <tr>\n",
       "      <th>1</th>\n",
       "      <td>26977</td>\n",
       "      <td>26977</td>\n",
       "    </tr>\n",
       "    <tr>\n",
       "      <th>All</th>\n",
       "      <td>34839</td>\n",
       "      <td>34839</td>\n",
       "    </tr>\n",
       "  </tbody>\n",
       "</table>\n",
       "</div>"
      ],
      "text/plain": [
       "Predicted      0    All\n",
       "True                   \n",
       "0           7862   7862\n",
       "1          26977  26977\n",
       "All        34839  34839"
      ]
     },
     "execution_count": 28,
     "metadata": {},
     "output_type": "execute_result"
    }
   ],
   "source": [
    "y_test_pred = zero_class(y_test)\n",
    "model_accuracy = np.mean(y_test_pred == y_test.y)\n",
    "\n",
    "print \"Zero model accuracy\", round(model_accuracy * 100, 2), \"%\\n\"\n",
    "print \"Confusion matrix (zero model):\"\n",
    "pd.crosstab(y_test.y, y_test_pred, rownames=['True'], colnames=['Predicted'], margins=True)\n"
   ]
  },
  {
   "cell_type": "markdown",
   "metadata": {},
   "source": [
    "The zero model has an accuracy of 22.28%. This is to be assumed as the target variable is unbalanced."
   ]
  },
  {
   "cell_type": "code",
   "execution_count": 29,
   "metadata": {
    "collapsed": false
   },
   "outputs": [
    {
     "name": "stdout",
     "output_type": "stream",
     "text": [
      "Random model accuracy 34.58 %\n",
      "\n",
      "Confusion matrix (random model):\n"
     ]
    },
    {
     "data": {
      "text/html": [
       "<div>\n",
       "<table border=\"1\" class=\"dataframe\">\n",
       "  <thead>\n",
       "    <tr style=\"text-align: right;\">\n",
       "      <th>Predicted</th>\n",
       "      <th>0</th>\n",
       "      <th>1</th>\n",
       "      <th>All</th>\n",
       "    </tr>\n",
       "    <tr>\n",
       "      <th>True</th>\n",
       "      <th></th>\n",
       "      <th></th>\n",
       "      <th></th>\n",
       "    </tr>\n",
       "  </thead>\n",
       "  <tbody>\n",
       "    <tr>\n",
       "      <th>0</th>\n",
       "      <td>6070</td>\n",
       "      <td>1792</td>\n",
       "      <td>7862</td>\n",
       "    </tr>\n",
       "    <tr>\n",
       "      <th>1</th>\n",
       "      <td>20998</td>\n",
       "      <td>5979</td>\n",
       "      <td>26977</td>\n",
       "    </tr>\n",
       "    <tr>\n",
       "      <th>All</th>\n",
       "      <td>27068</td>\n",
       "      <td>7771</td>\n",
       "      <td>34839</td>\n",
       "    </tr>\n",
       "  </tbody>\n",
       "</table>\n",
       "</div>"
      ],
      "text/plain": [
       "Predicted      0     1    All\n",
       "True                         \n",
       "0           6070  1792   7862\n",
       "1          20998  5979  26977\n",
       "All        27068  7771  34839"
      ]
     },
     "execution_count": 29,
     "metadata": {},
     "output_type": "execute_result"
    }
   ],
   "source": [
    "np.random.seed(123) # Set random seed\n",
    "y_test_pred = random_classifier(y_test)\n",
    "model_accuracy = np.mean(y_test_pred == y_test.y)\n",
    "\n",
    "print \"Random model accuracy\", round(model_accuracy * 100, 2), \"%\\n\"\n",
    "print \"Confusion matrix (random model):\"\n",
    "pd.crosstab(y_test.y, y_test_pred, rownames=['True'], colnames=['Predicted'], margins=True)\n"
   ]
  },
  {
   "cell_type": "markdown",
   "metadata": {},
   "source": [
    "The random model has an accuracy of around 34% which is better than the zero class model, i.e., the model that assumes that every restaurant is going to fail. The 34% serve as the baseline accuracy rate that has to be beaten. "
   ]
  },
  {
   "cell_type": "markdown",
   "metadata": {},
   "source": [
    "## Random forest"
   ]
  },
  {
   "cell_type": "code",
   "execution_count": 30,
   "metadata": {
    "collapsed": false
   },
   "outputs": [],
   "source": [
    "# Random forest model\n",
    "np.random.seed(123) # Set random seed\n",
    "rf_model = RandomForestClassifier(n_estimators=100, oob_score=True, class_weight=\"balanced\").fit(x_train, y_train.y)"
   ]
  },
  {
   "cell_type": "code",
   "execution_count": 31,
   "metadata": {
    "collapsed": false
   },
   "outputs": [
    {
     "name": "stdout",
     "output_type": "stream",
     "text": [
      "Random forest accuracy 82.13 %\n",
      "\n",
      "Confusion matrix (random forest model):\n"
     ]
    },
    {
     "data": {
      "text/html": [
       "<div>\n",
       "<table border=\"1\" class=\"dataframe\">\n",
       "  <thead>\n",
       "    <tr style=\"text-align: right;\">\n",
       "      <th>Predicted</th>\n",
       "      <th>0</th>\n",
       "      <th>1</th>\n",
       "      <th>All</th>\n",
       "    </tr>\n",
       "    <tr>\n",
       "      <th>True</th>\n",
       "      <th></th>\n",
       "      <th></th>\n",
       "      <th></th>\n",
       "    </tr>\n",
       "  </thead>\n",
       "  <tbody>\n",
       "    <tr>\n",
       "      <th>0</th>\n",
       "      <td>3845</td>\n",
       "      <td>4017</td>\n",
       "      <td>7862</td>\n",
       "    </tr>\n",
       "    <tr>\n",
       "      <th>1</th>\n",
       "      <td>2207</td>\n",
       "      <td>24770</td>\n",
       "      <td>26977</td>\n",
       "    </tr>\n",
       "    <tr>\n",
       "      <th>All</th>\n",
       "      <td>6052</td>\n",
       "      <td>28787</td>\n",
       "      <td>34839</td>\n",
       "    </tr>\n",
       "  </tbody>\n",
       "</table>\n",
       "</div>"
      ],
      "text/plain": [
       "Predicted     0      1    All\n",
       "True                         \n",
       "0          3845   4017   7862\n",
       "1          2207  24770  26977\n",
       "All        6052  28787  34839"
      ]
     },
     "execution_count": 31,
     "metadata": {},
     "output_type": "execute_result"
    }
   ],
   "source": [
    "y_test_pred = rf_model.predict(x_test)\n",
    "model_accuracy = np.mean(y_test_pred == y_test.y)\n",
    "\n",
    "print \"Random forest accuracy\", round(model_accuracy * 100, 2), \"%\\n\"\n",
    "print \"Confusion matrix (random forest model):\"\n",
    "pd.crosstab(y_test.y, y_test_pred, rownames=['True'], colnames=['Predicted'], margins=True)"
   ]
  },
  {
   "cell_type": "markdown",
   "metadata": {},
   "source": [
    "As can be seen, the random forest performs much better than the baseline model. "
   ]
  },
  {
   "cell_type": "markdown",
   "metadata": {},
   "source": [
    "## SVM"
   ]
  },
  {
   "cell_type": "code",
   "execution_count": null,
   "metadata": {
    "collapsed": false
   },
   "outputs": [],
   "source": [
    "# Support vector machine\n",
    "np.random.seed(123) # Set random seed\n",
    "svm_fit = svm.SVC(C=1.0, kernel='rbf', probability=True).fit(x_train, y_train.y)\n"
   ]
  },
  {
   "cell_type": "code",
   "execution_count": 24,
   "metadata": {
    "collapsed": false
   },
   "outputs": [
    {
     "name": "stdout",
     "output_type": "stream",
     "text": [
      "SVM accuracy 77.88 %\n",
      "\n",
      "Confusion matrix (SVM):\n"
     ]
    },
    {
     "data": {
      "text/html": [
       "<div>\n",
       "<table border=\"1\" class=\"dataframe\">\n",
       "  <thead>\n",
       "    <tr style=\"text-align: right;\">\n",
       "      <th>Predicted</th>\n",
       "      <th>0</th>\n",
       "      <th>1</th>\n",
       "      <th>All</th>\n",
       "    </tr>\n",
       "    <tr>\n",
       "      <th>True</th>\n",
       "      <th></th>\n",
       "      <th></th>\n",
       "      <th></th>\n",
       "    </tr>\n",
       "  </thead>\n",
       "  <tbody>\n",
       "    <tr>\n",
       "      <th>0</th>\n",
       "      <td>175</td>\n",
       "      <td>7725</td>\n",
       "      <td>7900</td>\n",
       "    </tr>\n",
       "    <tr>\n",
       "      <th>1</th>\n",
       "      <td>115</td>\n",
       "      <td>27435</td>\n",
       "      <td>27550</td>\n",
       "    </tr>\n",
       "    <tr>\n",
       "      <th>All</th>\n",
       "      <td>290</td>\n",
       "      <td>35160</td>\n",
       "      <td>35450</td>\n",
       "    </tr>\n",
       "  </tbody>\n",
       "</table>\n",
       "</div>"
      ],
      "text/plain": [
       "Predicted    0      1    All\n",
       "True                        \n",
       "0          175   7725   7900\n",
       "1          115  27435  27550\n",
       "All        290  35160  35450"
      ]
     },
     "execution_count": 24,
     "metadata": {},
     "output_type": "execute_result"
    }
   ],
   "source": [
    "y_test_pred = svm_fit.predict(x_test)\n",
    "model_accuracy = np.mean(y_test_pred == y_test.y)\n",
    "\n",
    "print \"SVM accuracy\", round(model_accuracy * 100, 2), \"%\\n\"\n",
    "print \"Confusion matrix (SVM):\"\n",
    "pd.crosstab(y_test.y, y_test_pred, rownames=['True'], colnames=['Predicted'], margins=True)"
   ]
  },
  {
   "cell_type": "markdown",
   "metadata": {},
   "source": [
    "## ADA Boost"
   ]
  },
  {
   "cell_type": "code",
   "execution_count": 32,
   "metadata": {
    "collapsed": true
   },
   "outputs": [],
   "source": [
    "# ADA Boost\n",
    "np.random.seed(123) # Set random seed\n",
    "ada_fit = AdaBoostClassifier().fit(x_train, y_train.y)"
   ]
  },
  {
   "cell_type": "code",
   "execution_count": 33,
   "metadata": {
    "collapsed": false
   },
   "outputs": [
    {
     "name": "stdout",
     "output_type": "stream",
     "text": [
      "ADA boost accuracy 80.79 %\n",
      "\n",
      "Confusion matrix (ADA boost):\n"
     ]
    },
    {
     "data": {
      "text/html": [
       "<div>\n",
       "<table border=\"1\" class=\"dataframe\">\n",
       "  <thead>\n",
       "    <tr style=\"text-align: right;\">\n",
       "      <th>Predicted</th>\n",
       "      <th>0</th>\n",
       "      <th>1</th>\n",
       "      <th>All</th>\n",
       "    </tr>\n",
       "    <tr>\n",
       "      <th>True</th>\n",
       "      <th></th>\n",
       "      <th></th>\n",
       "      <th></th>\n",
       "    </tr>\n",
       "  </thead>\n",
       "  <tbody>\n",
       "    <tr>\n",
       "      <th>0</th>\n",
       "      <td>3369</td>\n",
       "      <td>4493</td>\n",
       "      <td>7862</td>\n",
       "    </tr>\n",
       "    <tr>\n",
       "      <th>1</th>\n",
       "      <td>2198</td>\n",
       "      <td>24779</td>\n",
       "      <td>26977</td>\n",
       "    </tr>\n",
       "    <tr>\n",
       "      <th>All</th>\n",
       "      <td>5567</td>\n",
       "      <td>29272</td>\n",
       "      <td>34839</td>\n",
       "    </tr>\n",
       "  </tbody>\n",
       "</table>\n",
       "</div>"
      ],
      "text/plain": [
       "Predicted     0      1    All\n",
       "True                         \n",
       "0          3369   4493   7862\n",
       "1          2198  24779  26977\n",
       "All        5567  29272  34839"
      ]
     },
     "execution_count": 33,
     "metadata": {},
     "output_type": "execute_result"
    }
   ],
   "source": [
    "y_test_pred = ada_fit.predict(x_test)\n",
    "model_accuracy = np.mean(y_test_pred == y_test.y)\n",
    "\n",
    "print \"ADA boost accuracy\", round(model_accuracy * 100, 2), \"%\\n\"\n",
    "print \"Confusion matrix (ADA boost):\"\n",
    "pd.crosstab(y_test.y, y_test_pred, rownames=['True'], colnames=['Predicted'], margins=True)"
   ]
  },
  {
   "cell_type": "markdown",
   "metadata": {},
   "source": [
    "## LDA"
   ]
  },
  {
   "cell_type": "code",
   "execution_count": 35,
   "metadata": {
    "collapsed": false
   },
   "outputs": [],
   "source": [
    "#LDA\n",
    "lda_fit = LDA().fit(x_train, y_train.y)"
   ]
  },
  {
   "cell_type": "code",
   "execution_count": 44,
   "metadata": {
    "collapsed": false
   },
   "outputs": [
    {
     "name": "stdout",
     "output_type": "stream",
     "text": [
      "LDA accuracy 77.63 %\n",
      "\n",
      "Confusion matrix (LDA):\n"
     ]
    },
    {
     "data": {
      "text/html": [
       "<div>\n",
       "<table border=\"1\" class=\"dataframe\">\n",
       "  <thead>\n",
       "    <tr style=\"text-align: right;\">\n",
       "      <th>Predicted</th>\n",
       "      <th>0</th>\n",
       "      <th>1</th>\n",
       "      <th>All</th>\n",
       "    </tr>\n",
       "    <tr>\n",
       "      <th>True</th>\n",
       "      <th></th>\n",
       "      <th></th>\n",
       "      <th></th>\n",
       "    </tr>\n",
       "  </thead>\n",
       "  <tbody>\n",
       "    <tr>\n",
       "      <th>0</th>\n",
       "      <td>1028</td>\n",
       "      <td>6834</td>\n",
       "      <td>7862</td>\n",
       "    </tr>\n",
       "    <tr>\n",
       "      <th>1</th>\n",
       "      <td>959</td>\n",
       "      <td>26018</td>\n",
       "      <td>26977</td>\n",
       "    </tr>\n",
       "    <tr>\n",
       "      <th>All</th>\n",
       "      <td>1987</td>\n",
       "      <td>32852</td>\n",
       "      <td>34839</td>\n",
       "    </tr>\n",
       "  </tbody>\n",
       "</table>\n",
       "</div>"
      ],
      "text/plain": [
       "Predicted     0      1    All\n",
       "True                         \n",
       "0          1028   6834   7862\n",
       "1           959  26018  26977\n",
       "All        1987  32852  34839"
      ]
     },
     "execution_count": 44,
     "metadata": {},
     "output_type": "execute_result"
    }
   ],
   "source": [
    "y_test_pred = lda_fit.predict(x_test)\n",
    "model_accuracy = np.mean(y_test_pred == y_test.y)\n",
    "\n",
    "print \"LDA accuracy\", round(model_accuracy * 100, 2), \"%\\n\"\n",
    "print \"Confusion matrix (LDA):\"\n",
    "pd.crosstab(y_test.y, y_test_pred, rownames=['True'], colnames=['Predicted'], margins=True)"
   ]
  },
  {
   "cell_type": "markdown",
   "metadata": {},
   "source": [
    "## QDA"
   ]
  },
  {
   "cell_type": "code",
   "execution_count": 38,
   "metadata": {
    "collapsed": false
   },
   "outputs": [],
   "source": [
    "#QDA\n",
    "qda_fit = QDA().fit(x_train, y_train.y)"
   ]
  },
  {
   "cell_type": "code",
   "execution_count": 45,
   "metadata": {
    "collapsed": false
   },
   "outputs": [
    {
     "name": "stdout",
     "output_type": "stream",
     "text": [
      "QDA accuracy 77.56 %\n",
      "\n",
      "Confusion matrix (QDA):\n"
     ]
    },
    {
     "data": {
      "text/html": [
       "<div>\n",
       "<table border=\"1\" class=\"dataframe\">\n",
       "  <thead>\n",
       "    <tr style=\"text-align: right;\">\n",
       "      <th>Predicted</th>\n",
       "      <th>0</th>\n",
       "      <th>1</th>\n",
       "      <th>All</th>\n",
       "    </tr>\n",
       "    <tr>\n",
       "      <th>True</th>\n",
       "      <th></th>\n",
       "      <th></th>\n",
       "      <th></th>\n",
       "    </tr>\n",
       "  </thead>\n",
       "  <tbody>\n",
       "    <tr>\n",
       "      <th>0</th>\n",
       "      <td>221</td>\n",
       "      <td>7641</td>\n",
       "      <td>7862</td>\n",
       "    </tr>\n",
       "    <tr>\n",
       "      <th>1</th>\n",
       "      <td>178</td>\n",
       "      <td>26799</td>\n",
       "      <td>26977</td>\n",
       "    </tr>\n",
       "    <tr>\n",
       "      <th>All</th>\n",
       "      <td>399</td>\n",
       "      <td>34440</td>\n",
       "      <td>34839</td>\n",
       "    </tr>\n",
       "  </tbody>\n",
       "</table>\n",
       "</div>"
      ],
      "text/plain": [
       "Predicted    0      1    All\n",
       "True                        \n",
       "0          221   7641   7862\n",
       "1          178  26799  26977\n",
       "All        399  34440  34839"
      ]
     },
     "execution_count": 45,
     "metadata": {},
     "output_type": "execute_result"
    }
   ],
   "source": [
    "y_test_pred = qda_fit.predict(x_test)\n",
    "model_accuracy = np.mean(y_test_pred == y_test.y)\n",
    "\n",
    "print \"QDA accuracy\", round(model_accuracy * 100, 2), \"%\\n\"\n",
    "print \"Confusion matrix (QDA):\"\n",
    "pd.crosstab(y_test.y, y_test_pred, rownames=['True'], colnames=['Predicted'], margins=True)"
   ]
  },
  {
   "cell_type": "markdown",
   "metadata": {},
   "source": [
    "## Weighted logistic regression"
   ]
  },
  {
   "cell_type": "code",
   "execution_count": 42,
   "metadata": {
    "collapsed": true
   },
   "outputs": [],
   "source": [
    "# Weighted logistic regression\n",
    "weighted_logistic_fit = LogisticRegression(class_weight='balanced').fit(x_train, y_train.y)"
   ]
  },
  {
   "cell_type": "code",
   "execution_count": 46,
   "metadata": {
    "collapsed": false
   },
   "outputs": [
    {
     "name": "stdout",
     "output_type": "stream",
     "text": [
      "Weighted logistic regression accuracy 70.59 %\n",
      "\n",
      "Confusion matrix (Weighted logistic regression):\n"
     ]
    },
    {
     "data": {
      "text/html": [
       "<div>\n",
       "<table border=\"1\" class=\"dataframe\">\n",
       "  <thead>\n",
       "    <tr style=\"text-align: right;\">\n",
       "      <th>Predicted</th>\n",
       "      <th>0</th>\n",
       "      <th>1</th>\n",
       "      <th>All</th>\n",
       "    </tr>\n",
       "    <tr>\n",
       "      <th>True</th>\n",
       "      <th></th>\n",
       "      <th></th>\n",
       "      <th></th>\n",
       "    </tr>\n",
       "  </thead>\n",
       "  <tbody>\n",
       "    <tr>\n",
       "      <th>0</th>\n",
       "      <td>7274</td>\n",
       "      <td>588</td>\n",
       "      <td>7862</td>\n",
       "    </tr>\n",
       "    <tr>\n",
       "      <th>1</th>\n",
       "      <td>9659</td>\n",
       "      <td>17318</td>\n",
       "      <td>26977</td>\n",
       "    </tr>\n",
       "    <tr>\n",
       "      <th>All</th>\n",
       "      <td>16933</td>\n",
       "      <td>17906</td>\n",
       "      <td>34839</td>\n",
       "    </tr>\n",
       "  </tbody>\n",
       "</table>\n",
       "</div>"
      ],
      "text/plain": [
       "Predicted      0      1    All\n",
       "True                          \n",
       "0           7274    588   7862\n",
       "1           9659  17318  26977\n",
       "All        16933  17906  34839"
      ]
     },
     "execution_count": 46,
     "metadata": {},
     "output_type": "execute_result"
    }
   ],
   "source": [
    "y_test_pred = weighted_logistic_fit.predict(x_test)\n",
    "model_accuracy = np.mean(y_test_pred == y_test.y)\n",
    "\n",
    "print \"Weighted logistic regression accuracy\", round(model_accuracy * 100, 2), \"%\\n\"\n",
    "print \"Confusion matrix (Weighted logistic regression):\"\n",
    "pd.crosstab(y_test.y, y_test_pred, rownames=['True'], colnames=['Predicted'], margins=True)"
   ]
  },
  {
   "cell_type": "markdown",
   "metadata": {},
   "source": [
    "## Save model"
   ]
  },
  {
   "cell_type": "code",
   "execution_count": 29,
   "metadata": {
    "collapsed": false
   },
   "outputs": [],
   "source": [
    "# Save svm to to disk\n",
    "path = 'models/svm_model.sav'\n",
    "pickle.dump(svm_fit, open(path, 'wb'))\n",
    "\n",
    "# Save random forest to to disk\n",
    "path = 'models/rf_model.sav'\n",
    "pickle.dump(rf_model, open(path, 'wb'))"
   ]
  },
  {
   "cell_type": "code",
   "execution_count": null,
   "metadata": {
    "collapsed": true
   },
   "outputs": [],
   "source": [
    "# load the model from disk\n",
    "# loaded_model = pickle.load(open(filename, 'rb'))"
   ]
  },
  {
   "cell_type": "markdown",
   "metadata": {},
   "source": [
    "## Create an ensemble model\n",
    "\n",
    "There are three very popular methods for combining predictions  from different models. Those are:\n",
    "\n",
    "- **Bagging:** Building multiple models (typically of the same type) from different subsamples of the training dataset.\n",
    "- **Boosting:** Building multiple models (typically of the same type) each of which learns to fix the prediction errors of a prior model in the chain.\n",
    "- **Stacking:** Building multiple models (typically of differing types) and supervisor model that learns how to best combine the predictions of the primary models.\n",
    "\n",
    "The here used approach falls into the category of stacking. A good approach to do this is to use a GLM or logistic regression on the predictions from the 10 models. The resulting response is the y variable that indicates if an email is classified as spam or not.\n",
    "\n",
    "Building a glm on the training data leads to the coefficients for each of the predictors that gives \"weights\" to the prediction generadet by the seperated models. "
   ]
  },
  {
   "cell_type": "code",
   "execution_count": 47,
   "metadata": {
    "collapsed": true
   },
   "outputs": [],
   "source": [
    "# predicting on the training set\n",
    "train_pred_rf = rf_model.predict(x_train)\n",
    "#train_pred_svm = svm_fit.predict(x_train)\n",
    "train_pred_ada = ada_fit.predict(x_train)\n",
    "train_pred_log = weighted_logistic_fit.predict(x_train)\n",
    "train_pred_qda = qda_fit.predict(x_train)\n",
    "train_pred_lda = lda_fit.predict(x_train)\n"
   ]
  },
  {
   "cell_type": "code",
   "execution_count": 48,
   "metadata": {
    "collapsed": true
   },
   "outputs": [],
   "source": [
    "# predicting on the training set\n",
    "test_pred_rf = rf_model.predict(x_test)\n",
    "#test_pred_svm = svm_fit.predict(x_test)\n",
    "test_pred_ada = ada_fit.predict(x_test)\n",
    "test_pred_log = weighted_logistic_fit.predict(x_test)\n",
    "test_pred_qda = qda_fit.predict(x_test)\n",
    "test_pred_lda = lda_fit.predict(x_test)"
   ]
  },
  {
   "cell_type": "code",
   "execution_count": 49,
   "metadata": {
    "collapsed": false
   },
   "outputs": [],
   "source": [
    "pred_train = pd.DataFrame({\"rf\": train_pred_rf, \"ada\": train_pred_ada, \"log\": train_pred_log, \"lda\": train_pred_lda, \"qda\": train_pred_qda})\n",
    "pred_test = pd.DataFrame({\"rf\": test_pred_rf, \"ada\": test_pred_ada, \"log\": test_pred_log, \"lda\": test_pred_lda, \"qda\": test_pred_qda})\n"
   ]
  },
  {
   "cell_type": "code",
   "execution_count": 77,
   "metadata": {
    "collapsed": false
   },
   "outputs": [
    {
     "name": "stdout",
     "output_type": "stream",
     "text": [
      "Ensemble accuracy 82.13 %\n",
      "\n",
      "Confusion matrix (Ensemble):\n"
     ]
    },
    {
     "name": "stderr",
     "output_type": "stream",
     "text": [
      "C:\\Local\\Software\\Anaconda\\lib\\site-packages\\sklearn\\utils\\validation.py:515: DataConversionWarning: A column-vector y was passed when a 1d array was expected. Please change the shape of y to (n_samples, ), for example using ravel().\n",
      "  y = column_or_1d(y, warn=True)\n"
     ]
    },
    {
     "data": {
      "text/html": [
       "<div>\n",
       "<table border=\"1\" class=\"dataframe\">\n",
       "  <thead>\n",
       "    <tr style=\"text-align: right;\">\n",
       "      <th>Predicted</th>\n",
       "      <th>0</th>\n",
       "      <th>1</th>\n",
       "      <th>All</th>\n",
       "    </tr>\n",
       "    <tr>\n",
       "      <th>True</th>\n",
       "      <th></th>\n",
       "      <th></th>\n",
       "      <th></th>\n",
       "    </tr>\n",
       "  </thead>\n",
       "  <tbody>\n",
       "    <tr>\n",
       "      <th>0</th>\n",
       "      <td>3845</td>\n",
       "      <td>4017</td>\n",
       "      <td>7862</td>\n",
       "    </tr>\n",
       "    <tr>\n",
       "      <th>1</th>\n",
       "      <td>2207</td>\n",
       "      <td>24770</td>\n",
       "      <td>26977</td>\n",
       "    </tr>\n",
       "    <tr>\n",
       "      <th>All</th>\n",
       "      <td>6052</td>\n",
       "      <td>28787</td>\n",
       "      <td>34839</td>\n",
       "    </tr>\n",
       "  </tbody>\n",
       "</table>\n",
       "</div>"
      ],
      "text/plain": [
       "Predicted     0      1    All\n",
       "True                         \n",
       "0          3845   4017   7862\n",
       "1          2207  24770  26977\n",
       "All        6052  28787  34839"
      ]
     },
     "execution_count": 77,
     "metadata": {},
     "output_type": "execute_result"
    }
   ],
   "source": [
    "# Logistic ensemble model\n",
    "log_model = LogisticRegression().fit(pred_train, y_train)\n",
    "y_test_pred = log_model.predict(pred_test)\n",
    "model_accuracy = np.mean(y_test_pred == y_test.y)\n",
    "\n",
    "print \"Ensemble accuracy\", round(model_accuracy * 100, 2), \"%\\n\"\n",
    "print \"Confusion matrix (Ensemble):\"\n",
    "pd.crosstab(y_test.y, y_test_pred, rownames=['True'], colnames=['Predicted'], margins=True)"
   ]
  },
  {
   "cell_type": "markdown",
   "metadata": {
    "collapsed": false
   },
   "source": [
    "Currently the heighest accuracy is reached with the random forest model."
   ]
  },
  {
   "cell_type": "markdown",
   "metadata": {},
   "source": [
    "## Variable importance"
   ]
  },
  {
   "cell_type": "code",
   "execution_count": 78,
   "metadata": {
    "collapsed": false
   },
   "outputs": [],
   "source": [
    "# Extract importance list\n",
    "importance_list = rf_model.feature_importances_\n",
    "name_list = x.columns\n",
    "\n",
    "# Remove values with zero\n",
    "name_list = name_list[importance_list > 0]\n",
    "importance_list = importance_list[importance_list > 0]\n",
    "\n",
    "# Add together\n",
    "importance_list, name_list = zip(*sorted(zip(importance_list, name_list)))\n"
   ]
  },
  {
   "cell_type": "code",
   "execution_count": 79,
   "metadata": {
    "collapsed": false
   },
   "outputs": [
    {
     "data": {
      "image/png": "[encoded data removed]",
      "text/plain": [
       "<matplotlib.figure.Figure at 0x1fdc9438>"
      ]
     },
     "metadata": {},
     "output_type": "display_data"
    }
   ],
   "source": [
    "plt.figure(figsize=(18, 10))\n",
    "plt.barh(range(len(name_list)),importance_list,align='center', color = \"darkblue\", alpha = 0.6)\n",
    "plt.yticks(range(len(name_list)),name_list)\n",
    "plt.xlabel('Relative Importance in the Random Forest')\n",
    "plt.ylabel('Features')\n",
    "plt.title('Relative importance of Each Feature')\n",
    "plt.grid()\n",
    "plt.show()\n"
   ]
  }
 ],
 "metadata": {
  "anaconda-cloud": {},
  "kernelspec": {
   "display_name": "Python [Root]",
   "language": "python",
   "name": "Python [Root]"
  },
  "language_info": {
   "codemirror_mode": {
    "name": "ipython",
    "version": 2
   },
   "file_extension": ".py",
   "mimetype": "text/x-python",
   "name": "python",
   "nbconvert_exporter": "python",
   "pygments_lexer": "ipython2",
   "version": "2.7.12"
  }
 },
 "nbformat": 4,
 "nbformat_minor": 0
}
