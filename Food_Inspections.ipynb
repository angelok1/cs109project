{
 "cells": [
  {
   "cell_type": "code",
   "execution_count": 1,
   "metadata": {
    "collapsed": true
   },
   "outputs": [],
   "source": [
    "import numpy as np\n",
    "import pandas as pd\n",
    "import scipy as sp\n",
    "from scipy.stats import mode\n",
    "from sklearn import linear_model\n",
    "import matplotlib\n",
    "import matplotlib.pyplot as plt\n",
    "from sklearn import discriminant_analysis\n",
    "from sklearn.decomposition import PCA\n",
    "from sklearn import preprocessing\n",
    "from sklearn.linear_model import LogisticRegression as LogReg\n",
    "from sklearn.linear_model import LinearRegression as LinReg\n",
    "import sklearn.neighbors as knn\n",
    "from sklearn.cross_validation import train_test_split\n",
    "from scipy import linalg\n",
    "import matplotlib as mpl\n",
    "%matplotlib inline"
   ]
  },
  {
   "cell_type": "markdown",
   "metadata": {},
   "source": [
    "# Food Inspection Data\n",
    "## First Look"
   ]
  },
  {
   "cell_type": "code",
   "execution_count": 2,
   "metadata": {
    "collapsed": false
   },
   "outputs": [
    {
     "data": {
      "text/html": [
       "<div>\n",
       "<table border=\"1\" class=\"dataframe\">\n",
       "  <thead>\n",
       "    <tr style=\"text-align: right;\">\n",
       "      <th></th>\n",
       "      <th>Inspection ID</th>\n",
       "      <th>DBA Name</th>\n",
       "      <th>AKA Name</th>\n",
       "      <th>License #</th>\n",
       "      <th>Facility Type</th>\n",
       "      <th>Risk</th>\n",
       "      <th>Address</th>\n",
       "      <th>City</th>\n",
       "      <th>State</th>\n",
       "      <th>Zip</th>\n",
       "      <th>Inspection Date</th>\n",
       "      <th>Inspection Type</th>\n",
       "      <th>Results</th>\n",
       "      <th>Latitude</th>\n",
       "      <th>Longitude</th>\n",
       "      <th>Location</th>\n",
       "    </tr>\n",
       "  </thead>\n",
       "  <tbody>\n",
       "    <tr>\n",
       "      <th>0</th>\n",
       "      <td>1970782</td>\n",
       "      <td>MARINO'S DISTRIBUTION , INC.</td>\n",
       "      <td>MARINO'S DISTRIBUTION</td>\n",
       "      <td>2495906.0</td>\n",
       "      <td>Grocery Store</td>\n",
       "      <td>Risk 3 (Low)</td>\n",
       "      <td>3939 S KEDZIE AVE</td>\n",
       "      <td>CHICAGO</td>\n",
       "      <td>IL</td>\n",
       "      <td>60632.0</td>\n",
       "      <td>11/3/16</td>\n",
       "      <td>License</td>\n",
       "      <td>Pass</td>\n",
       "      <td>41.821458</td>\n",
       "      <td>-87.704350</td>\n",
       "      <td>(41.82145816352694, -87.70435016027005)</td>\n",
       "    </tr>\n",
       "    <tr>\n",
       "      <th>1</th>\n",
       "      <td>1970772</td>\n",
       "      <td>STARBUCKS COFFEE #2827</td>\n",
       "      <td>STARBUCKS COFFEE #2827</td>\n",
       "      <td>2093906.0</td>\n",
       "      <td>Restaurant</td>\n",
       "      <td>Risk 2 (Medium)</td>\n",
       "      <td>1174 E 55TH ST</td>\n",
       "      <td>CHICAGO</td>\n",
       "      <td>IL</td>\n",
       "      <td>60615.0</td>\n",
       "      <td>11/3/16</td>\n",
       "      <td>Canvass</td>\n",
       "      <td>Pass</td>\n",
       "      <td>41.795175</td>\n",
       "      <td>-87.596601</td>\n",
       "      <td>(41.79517545018063, -87.59660147733702)</td>\n",
       "    </tr>\n",
       "    <tr>\n",
       "      <th>2</th>\n",
       "      <td>1970752</td>\n",
       "      <td>I 57 FUEL MART, INC</td>\n",
       "      <td>I 57 FUEL MART, INC</td>\n",
       "      <td>2495782.0</td>\n",
       "      <td>Grocery Store</td>\n",
       "      <td>Risk 3 (Low)</td>\n",
       "      <td>9901-9909 S HALSTED ST</td>\n",
       "      <td>CHICAGO</td>\n",
       "      <td>IL</td>\n",
       "      <td>60628.0</td>\n",
       "      <td>11/3/16</td>\n",
       "      <td>License</td>\n",
       "      <td>Pass</td>\n",
       "      <td>41.714126</td>\n",
       "      <td>-87.642853</td>\n",
       "      <td>(41.71412564927746, -87.64285254744291)</td>\n",
       "    </tr>\n",
       "    <tr>\n",
       "      <th>3</th>\n",
       "      <td>1955335</td>\n",
       "      <td>CHIPOTLE MEXICAN GRILL#2768</td>\n",
       "      <td>CHIPOTLE</td>\n",
       "      <td>2476569.0</td>\n",
       "      <td>Restaurant</td>\n",
       "      <td>Risk 1 (High)</td>\n",
       "      <td>806 W 63RD ST</td>\n",
       "      <td>CHICAGO</td>\n",
       "      <td>IL</td>\n",
       "      <td>60621.0</td>\n",
       "      <td>11/2/16</td>\n",
       "      <td>License Re-Inspection</td>\n",
       "      <td>Pass</td>\n",
       "      <td>41.779856</td>\n",
       "      <td>-87.645142</td>\n",
       "      <td>(41.77985559084816, -87.64514243359771)</td>\n",
       "    </tr>\n",
       "    <tr>\n",
       "      <th>4</th>\n",
       "      <td>1955334</td>\n",
       "      <td>CHIPOTLE MEXICAN GRILL#2768</td>\n",
       "      <td>CHIPOTLE</td>\n",
       "      <td>2476568.0</td>\n",
       "      <td>Restaurant</td>\n",
       "      <td>Risk 1 (High)</td>\n",
       "      <td>806 W 63RD ST</td>\n",
       "      <td>CHICAGO</td>\n",
       "      <td>IL</td>\n",
       "      <td>60621.0</td>\n",
       "      <td>11/2/16</td>\n",
       "      <td>License Re-Inspection</td>\n",
       "      <td>Pass</td>\n",
       "      <td>41.779856</td>\n",
       "      <td>-87.645142</td>\n",
       "      <td>(41.77985559084816, -87.64514243359771)</td>\n",
       "    </tr>\n",
       "  </tbody>\n",
       "</table>\n",
       "</div>"
      ],
      "text/plain": [
       "   Inspection ID                      DBA Name                AKA Name  \\\n",
       "0        1970782  MARINO'S DISTRIBUTION , INC.   MARINO'S DISTRIBUTION   \n",
       "1        1970772        STARBUCKS COFFEE #2827  STARBUCKS COFFEE #2827   \n",
       "2        1970752           I 57 FUEL MART, INC     I 57 FUEL MART, INC   \n",
       "3        1955335   CHIPOTLE MEXICAN GRILL#2768                CHIPOTLE   \n",
       "4        1955334   CHIPOTLE MEXICAN GRILL#2768                CHIPOTLE   \n",
       "\n",
       "   License #  Facility Type             Risk                  Address  \\\n",
       "0  2495906.0  Grocery Store     Risk 3 (Low)       3939 S KEDZIE AVE    \n",
       "1  2093906.0     Restaurant  Risk 2 (Medium)          1174 E 55TH ST    \n",
       "2  2495782.0  Grocery Store     Risk 3 (Low)  9901-9909 S HALSTED ST    \n",
       "3  2476569.0     Restaurant    Risk 1 (High)           806 W 63RD ST    \n",
       "4  2476568.0     Restaurant    Risk 1 (High)           806 W 63RD ST    \n",
       "\n",
       "      City State      Zip Inspection Date        Inspection Type Results  \\\n",
       "0  CHICAGO    IL  60632.0         11/3/16                License    Pass   \n",
       "1  CHICAGO    IL  60615.0         11/3/16                Canvass    Pass   \n",
       "2  CHICAGO    IL  60628.0         11/3/16                License    Pass   \n",
       "3  CHICAGO    IL  60621.0         11/2/16  License Re-Inspection    Pass   \n",
       "4  CHICAGO    IL  60621.0         11/2/16  License Re-Inspection    Pass   \n",
       "\n",
       "    Latitude  Longitude                                 Location  \n",
       "0  41.821458 -87.704350  (41.82145816352694, -87.70435016027005)  \n",
       "1  41.795175 -87.596601  (41.79517545018063, -87.59660147733702)  \n",
       "2  41.714126 -87.642853  (41.71412564927746, -87.64285254744291)  \n",
       "3  41.779856 -87.645142  (41.77985559084816, -87.64514243359771)  \n",
       "4  41.779856 -87.645142  (41.77985559084816, -87.64514243359771)  "
      ]
     },
     "execution_count": 2,
     "metadata": {},
     "output_type": "execute_result"
    }
   ],
   "source": [
    "df = pd.read_csv('data/Food_Inspections.csv')\n",
    "df.head()"
   ]
  },
  {
   "cell_type": "code",
   "execution_count": 3,
   "metadata": {
    "collapsed": false
   },
   "outputs": [
    {
     "data": {
      "text/plain": [
       "(87952, 16)"
      ]
     },
     "execution_count": 3,
     "metadata": {},
     "output_type": "execute_result"
    }
   ],
   "source": [
    "rest = df[df[\"Facility Type\"] == \"Restaurant\"]\n",
    "rest.shape"
   ]
  },
  {
   "cell_type": "code",
   "execution_count": 4,
   "metadata": {
    "collapsed": false
   },
   "outputs": [
    {
     "data": {
      "text/plain": [
       "array(['Pass', 'Pass w/ Conditions', 'Fail', 'No Entry', 'Not Ready',\n",
       "       'Out of Business', 'Business Not Located'], dtype=object)"
      ]
     },
     "execution_count": 4,
     "metadata": {},
     "output_type": "execute_result"
    }
   ],
   "source": [
    "rest.Results.unique()"
   ]
  },
  {
   "cell_type": "code",
   "execution_count": 5,
   "metadata": {
    "collapsed": false
   },
   "outputs": [
    {
     "data": {
      "text/plain": [
       "array(['Risk 2 (Medium)', 'Risk 1 (High)', 'Risk 3 (Low)', 'All', nan], dtype=object)"
      ]
     },
     "execution_count": 5,
     "metadata": {},
     "output_type": "execute_result"
    }
   ],
   "source": [
    "rest.Risk.unique()"
   ]
  },
  {
   "cell_type": "code",
   "execution_count": 6,
   "metadata": {
    "collapsed": false
   },
   "outputs": [
    {
     "data": {
      "text/plain": [
       "array(['CHICAGO', nan, 'Chicago', 'CCHICAGO', 'chicago', 'CHICAGOCHICAGO',\n",
       "       'CHICAGOI'], dtype=object)"
      ]
     },
     "execution_count": 6,
     "metadata": {},
     "output_type": "execute_result"
    }
   ],
   "source": [
    "rest.City.unique()"
   ]
  },
  {
   "cell_type": "markdown",
   "metadata": {},
   "source": [
    "## Inspection Type"
   ]
  },
  {
   "cell_type": "markdown",
   "metadata": {},
   "source": [
    "We've got some data cleanup to do, but we can ignore city since they're all chicago..."
   ]
  },
  {
   "cell_type": "code",
   "execution_count": 7,
   "metadata": {
    "collapsed": false
   },
   "outputs": [
    {
     "data": {
      "text/plain": [
       "array(['Canvass', 'License Re-Inspection', 'Complaint', 'License',\n",
       "       'Canvass Re-Inspection', 'Short Form Complaint',\n",
       "       'Complaint Re-Inspection', 'Suspected Food Poisoning Re-inspection',\n",
       "       'Suspected Food Poisoning', 'Tag Removal', 'Consultation',\n",
       "       'Recent Inspection', nan, 'Not Ready', 'License-Task Force',\n",
       "       'Complaint-Fire Re-inspection', 'Complaint-Fire',\n",
       "       'Short Form Fire-Complaint', 'KITCHEN CLOSED FOR RENOVATION',\n",
       "       'Non-Inspection', 'CORRECTIVE ACTION', 'LICENSE CANCELED BY OWNER',\n",
       "       'Task Force Liquor 1475', 'fire complaint',\n",
       "       'TWO PEOPLE ATE AND GOT SICK.', 'Pre-License Consultation',\n",
       "       'CANVASS SPECIAL EVENTS', 'OUT OF BUSINESS', 'No entry', 'NO ENTRY',\n",
       "       'Package Liquor 1474', 'Sample Collection', 'FIRE/COMPLAIN',\n",
       "       '1315 license reinspection', 'Task Force Liquor Catering', 'SFP',\n",
       "       'CANVAS', 'no entry', 'SFP/COMPLAINT', 'Special Events (Festivals)',\n",
       "       'SFP/Complaint', 'expansion', 'SFP RECENTLY INSPECTED', 'CANVASS',\n",
       "       'CANVASS RE INSPECTION OF CLOSE UP', 'LICENSE REQUEST', 'TASKFORCE',\n",
       "       'LICENSE TASK FORCE / NOT -FOR-PROFIT CLUB',\n",
       "       'LICENSE TASK FORCE / NOT -FOR-PROFIT CLU', 'LICENSE/NOT READY',\n",
       "       'NO ENTRY-SHORT COMPLAINT)', 'error save', 'CHANGED COURT DATE',\n",
       "       'LIQUOR CATERING', 'Out of Business', 'No Entry',\n",
       "       'citation re-issued', 'TASTE OF CHICAGO', 'HACCP QUESTIONAIRE',\n",
       "       'finish complaint inspection from 5-18-10',\n",
       "       'TASK FORCE LIQUOR (1481)', 'CANVASS FOR RIB FEST',\n",
       "       'RE-INSPECTION OF CLOSE-UP', 'REINSPECTION',\n",
       "       'LIQOUR TASK FORCE NOT READY', 'TASK FORCE NOT READY',\n",
       "       'POSSIBLE FBI'], dtype=object)"
      ]
     },
     "execution_count": 7,
     "metadata": {},
     "output_type": "execute_result"
    }
   ],
   "source": [
    "rest[\"Inspection Type\"].unique()"
   ]
  },
  {
   "cell_type": "markdown",
   "metadata": {},
   "source": [
    "Some of these look suspect... so we'll clean some up.. but what are the task force items? Some of these require some domain specific knowledge to interpret."
   ]
  },
  {
   "cell_type": "code",
   "execution_count": 8,
   "metadata": {
    "collapsed": false
   },
   "outputs": [
    {
     "name": "stderr",
     "output_type": "stream",
     "text": [
      "/Users/angelo/anaconda/lib/python2.7/site-packages/pandas/core/indexing.py:465: SettingWithCopyWarning: \n",
      "A value is trying to be set on a copy of a slice from a DataFrame.\n",
      "Try using .loc[row_indexer,col_indexer] = value instead\n",
      "\n",
      "See the caveats in the documentation: http://pandas.pydata.org/pandas-docs/stable/indexing.html#indexing-view-versus-copy\n",
      "  self.obj[item] = s\n"
     ]
    }
   ],
   "source": [
    "#let's cleanup these...\n",
    "rest.loc[rest[\"Inspection Type\"] == \"TWO PEOPLE ATE AND GOT SICK.\", \"Inspection Type\"] = \"Suspected Food Poisoning\"\n",
    "rest.loc[rest[\"Inspection Type\"] == \"TASK FORCE LIQUOR (1481)\",\"Inspection Type\"] = \"Task Force Liquor\"\n",
    "rest.loc[rest[\"Inspection Type\"] == \"Task Force Liquor 1475\",\"Inspection Type\"] = \"Task Force Liquor\"\n",
    "rest.loc[rest[\"Inspection Type\"] == \"Package Liquor 1474\",\"Inspection Type\"] = \"Task Force Liquor\"\n",
    "rest.loc[rest[\"Inspection Type\"] == \"1315 license reinspection\",\"Inspection Type\"] = \"License Re-Inspection\"\n",
    "rest.loc[rest[\"Inspection Type\"] == \"Out of Business\",\"Inspection Type\"] = \"OUT OF BUSINESS\"\n",
    "rest.loc[rest[\"Inspection Type\"] == \"No entry\",\"Inspection Type\"] = \"NO ENTRY\"\n",
    "rest.loc[rest[\"Inspection Type\"] == \"No Entry\",\"Inspection Type\"] = \"NO ENTRY\"\n",
    "rest.loc[rest[\"Inspection Type\"] == \"LICENSE TASK FORCE / NOT -FOR-PROFIT CLU\",\"Inspection Type\"] = \"LICENSE TASK FORCE / NOT -FOR-PROFIT CLUB\""
   ]
  },
  {
   "cell_type": "code",
   "execution_count": 9,
   "metadata": {
    "collapsed": false
   },
   "outputs": [
    {
     "data": {
      "text/plain": [
       "array(['Canvass', 'License Re-Inspection', 'Complaint', 'License',\n",
       "       'Canvass Re-Inspection', 'Short Form Complaint',\n",
       "       'Complaint Re-Inspection', 'Suspected Food Poisoning Re-inspection',\n",
       "       'Suspected Food Poisoning', 'Tag Removal', 'Consultation',\n",
       "       'Recent Inspection', nan, 'Not Ready', 'License-Task Force',\n",
       "       'Complaint-Fire Re-inspection', 'Complaint-Fire',\n",
       "       'Short Form Fire-Complaint', 'KITCHEN CLOSED FOR RENOVATION',\n",
       "       'Non-Inspection', 'CORRECTIVE ACTION', 'LICENSE CANCELED BY OWNER',\n",
       "       'Task Force Liquor', 'fire complaint', 'Pre-License Consultation',\n",
       "       'CANVASS SPECIAL EVENTS', 'OUT OF BUSINESS', 'NO ENTRY',\n",
       "       'Sample Collection', 'FIRE/COMPLAIN', 'Task Force Liquor Catering',\n",
       "       'SFP', 'CANVAS', 'no entry', 'SFP/COMPLAINT',\n",
       "       'Special Events (Festivals)', 'SFP/Complaint', 'expansion',\n",
       "       'SFP RECENTLY INSPECTED', 'CANVASS',\n",
       "       'CANVASS RE INSPECTION OF CLOSE UP', 'LICENSE REQUEST', 'TASKFORCE',\n",
       "       'LICENSE TASK FORCE / NOT -FOR-PROFIT CLUB', 'LICENSE/NOT READY',\n",
       "       'NO ENTRY-SHORT COMPLAINT)', 'error save', 'CHANGED COURT DATE',\n",
       "       'LIQUOR CATERING', 'citation re-issued', 'TASTE OF CHICAGO',\n",
       "       'HACCP QUESTIONAIRE', 'finish complaint inspection from 5-18-10',\n",
       "       'CANVASS FOR RIB FEST', 'RE-INSPECTION OF CLOSE-UP', 'REINSPECTION',\n",
       "       'LIQOUR TASK FORCE NOT READY', 'TASK FORCE NOT READY',\n",
       "       'POSSIBLE FBI'], dtype=object)"
      ]
     },
     "execution_count": 9,
     "metadata": {},
     "output_type": "execute_result"
    }
   ],
   "source": [
    "rest[\"Inspection Type\"].unique()"
   ]
  },
  {
   "cell_type": "markdown",
   "metadata": {},
   "source": [
    "This is interesting! We could combine and cleanup some of these..."
   ]
  },
  {
   "cell_type": "code",
   "execution_count": 10,
   "metadata": {
    "collapsed": false
   },
   "outputs": [
    {
     "data": {
      "text/plain": [
       "15854"
      ]
     },
     "execution_count": 10,
     "metadata": {},
     "output_type": "execute_result"
    }
   ],
   "source": [
    "#How many difference licenses... but, we need to cleanup some by making some determination...\n",
    "#some of these businesses have more than one license. Are they separate food & liquor licenses? \n",
    "rest[\"License #\"].unique().shape[0]"
   ]
  },
  {
   "cell_type": "code",
   "execution_count": 11,
   "metadata": {
    "collapsed": false
   },
   "outputs": [
    {
     "data": {
      "text/plain": [
       "(78897, 16)"
      ]
     },
     "execution_count": 11,
     "metadata": {},
     "output_type": "execute_result"
    }
   ],
   "source": [
    "#We want the business that are pass/fail\n",
    "rest = rest[(rest[\"Results\"] == \"Pass\") | (rest[\"Results\"] == \"Pass w/ Conditions\") | (rest[\"Results\"] == \"Fail\")]\n",
    "rest.shape"
   ]
  },
  {
   "cell_type": "code",
   "execution_count": 12,
   "metadata": {
    "collapsed": false
   },
   "outputs": [
    {
     "data": {
      "text/plain": [
       "(78897, 13)"
      ]
     },
     "execution_count": 12,
     "metadata": {},
     "output_type": "execute_result"
    }
   ],
   "source": [
    "#we'll remove superfluous columns\n",
    "rest = rest.drop('Location', 1)\n",
    "rest = rest.drop('State', 1)\n",
    "rest = rest.drop('City', 1)\n",
    "rest.shape"
   ]
  },
  {
   "cell_type": "code",
   "execution_count": 13,
   "metadata": {
    "collapsed": true
   },
   "outputs": [],
   "source": [
    "#let's recode the pass/fail\n",
    "rest.loc[rest.Results != 'Fail', 'Y'] = 0\n",
    "rest.loc[rest.Results == 'Fail', 'Y'] = 1"
   ]
  },
  {
   "cell_type": "code",
   "execution_count": 14,
   "metadata": {
    "collapsed": false
   },
   "outputs": [
    {
     "name": "stdout",
     "output_type": "stream",
     "text": [
      "P(Y=Fail|Inspection Type=Canvass) = 0.1982\n",
      "P(Y=Fail|Inspection Type=License Re-Inspection) = 0.1080\n",
      "P(Y=Fail|Inspection Type=Complaint) = 0.3198\n",
      "P(Y=Fail|Inspection Type=License) = 0.4139\n",
      "P(Y=Fail|Inspection Type=Canvass Re-Inspection) = 0.0463\n",
      "P(Y=Fail|Inspection Type=Short Form Complaint) = 0.1273\n",
      "P(Y=Fail|Inspection Type=Complaint Re-Inspection) = 0.0842\n",
      "P(Y=Fail|Inspection Type=Suspected Food Poisoning Re-inspection) = 0.0821\n",
      "P(Y=Fail|Inspection Type=Suspected Food Poisoning) = 0.2482\n",
      "P(Y=Fail|Inspection Type=Tag Removal) = 0.0435\n",
      "P(Y=Fail|Inspection Type=Consultation) = 0.1448\n",
      "P(Y=Fail|Inspection Type=Recent Inspection) = 0.0690\n",
      "P(Y=Fail|Inspection Type=nan) = 0.0000\n",
      "P(Y=Fail|Inspection Type=Complaint-Fire Re-inspection) = 0.1053\n",
      "P(Y=Fail|Inspection Type=Complaint-Fire) = 0.3902\n",
      "P(Y=Fail|Inspection Type=Short Form Fire-Complaint) = 0.2738\n",
      "P(Y=Fail|Inspection Type=Non-Inspection) = 1.0000\n",
      "P(Y=Fail|Inspection Type=License-Task Force) = 0.5986\n",
      "P(Y=Fail|Inspection Type=CORRECTIVE ACTION) = 0.0000\n",
      "P(Y=Fail|Inspection Type=Task Force Liquor) = 0.4886\n",
      "P(Y=Fail|Inspection Type=fire complaint) = 0.0000\n",
      "P(Y=Fail|Inspection Type=Pre-License Consultation) = 0.9000\n",
      "P(Y=Fail|Inspection Type=CANVASS SPECIAL EVENTS) = 0.0000\n",
      "P(Y=Fail|Inspection Type=NO ENTRY) = 0.4630\n",
      "P(Y=Fail|Inspection Type=Sample Collection) = 0.0000\n",
      "P(Y=Fail|Inspection Type=FIRE/COMPLAIN) = 1.0000\n",
      "P(Y=Fail|Inspection Type=Task Force Liquor Catering) = 0.0000\n",
      "P(Y=Fail|Inspection Type=SFP) = 0.2500\n",
      "P(Y=Fail|Inspection Type=CANVAS) = 0.0000\n",
      "P(Y=Fail|Inspection Type=no entry) = 1.0000\n",
      "P(Y=Fail|Inspection Type=SFP/COMPLAINT) = 0.2500\n",
      "P(Y=Fail|Inspection Type=Special Events (Festivals)) = 0.1429\n",
      "P(Y=Fail|Inspection Type=SFP/Complaint) = 1.0000\n",
      "P(Y=Fail|Inspection Type=expansion) = 0.0000\n",
      "P(Y=Fail|Inspection Type=OUT OF BUSINESS) = 0.4909\n",
      "P(Y=Fail|Inspection Type=SFP RECENTLY INSPECTED) = 0.0000\n",
      "P(Y=Fail|Inspection Type=Not Ready) = 1.0000\n",
      "P(Y=Fail|Inspection Type=CANVASS RE INSPECTION OF CLOSE UP) = 0.0000\n",
      "P(Y=Fail|Inspection Type=TASKFORCE) = 1.0000\n",
      "P(Y=Fail|Inspection Type=LICENSE TASK FORCE / NOT -FOR-PROFIT CLUB) = 0.0000\n",
      "P(Y=Fail|Inspection Type=LICENSE/NOT READY) = 1.0000\n",
      "P(Y=Fail|Inspection Type=NO ENTRY-SHORT COMPLAINT)) = 1.0000\n",
      "P(Y=Fail|Inspection Type=error save) = 0.0000\n",
      "P(Y=Fail|Inspection Type=CHANGED COURT DATE) = 0.0000\n",
      "P(Y=Fail|Inspection Type=LIQUOR CATERING) = 1.0000\n",
      "P(Y=Fail|Inspection Type=citation re-issued) = 0.0000\n",
      "P(Y=Fail|Inspection Type=TASTE OF CHICAGO) = 0.0000\n",
      "P(Y=Fail|Inspection Type=HACCP QUESTIONAIRE) = 0.0000\n",
      "P(Y=Fail|Inspection Type=finish complaint inspection from 5-18-10) = 1.0000\n",
      "P(Y=Fail|Inspection Type=LICENSE REQUEST) = 1.0000\n",
      "P(Y=Fail|Inspection Type=CANVASS FOR RIB FEST) = 0.0000\n",
      "P(Y=Fail|Inspection Type=RE-INSPECTION OF CLOSE-UP) = 1.0000\n",
      "P(Y=Fail|Inspection Type=REINSPECTION) = 0.0000\n",
      "P(Y=Fail|Inspection Type=LIQOUR TASK FORCE NOT READY) = 1.0000\n",
      "P(Y=Fail|Inspection Type=TASK FORCE NOT READY) = 1.0000\n",
      "P(Y=Fail|Inspection Type=POSSIBLE FBI) = 0.0000\n"
     ]
    }
   ],
   "source": [
    "#Here are some interesting pieces of aggregated info based on Inspection Type\n",
    "\n",
    "insp_types = rest[\"Inspection Type\"].unique()\n",
    "\n",
    "for i in insp_types:\n",
    "    insp = rest[rest[\"Inspection Type\"] == i]\n",
    "    total = float(insp.shape[0])\n",
    "    if(total != 0):\n",
    "        print \"P(Y=Fail|Inspection Type=%s) = %.4f\" % (i, insp[insp[\"Results\"] == 'Fail'].shape[0]/total)\n",
    "    else:\n",
    "        print \"P(Y=Fail|Inspection Type=%s) = %.4f\" % (i, 0)"
   ]
  },
  {
   "cell_type": "markdown",
   "metadata": {},
   "source": [
    "Some of these zeros and ones can be removed... "
   ]
  },
  {
   "cell_type": "code",
   "execution_count": 15,
   "metadata": {
    "collapsed": false
   },
   "outputs": [
    {
     "data": {
      "text/plain": [
       "1.0"
      ]
     },
     "execution_count": 15,
     "metadata": {},
     "output_type": "execute_result"
    }
   ],
   "source": [
    "#What's the proportion of business that fail a license request?\n",
    "lic = rest[rest[\"Inspection Type\"] == 'LICENSE REQUEST']\n",
    "lic[lic[\"Results\"] == 'Fail'].shape[0]/float(lic.shape[0])"
   ]
  },
  {
   "cell_type": "markdown",
   "metadata": {},
   "source": [
    "So, it looks like everyone fails when they first apply for a license... that's probably not relevent to us, so we could discard those"
   ]
  },
  {
   "cell_type": "code",
   "execution_count": 16,
   "metadata": {
    "collapsed": false
   },
   "outputs": [
    {
     "data": {
      "text/plain": [
       "array(['Fail'], dtype=object)"
      ]
     },
     "execution_count": 16,
     "metadata": {},
     "output_type": "execute_result"
    }
   ],
   "source": [
    "lic.Results.unique()"
   ]
  },
  {
   "cell_type": "code",
   "execution_count": 17,
   "metadata": {
    "collapsed": false
   },
   "outputs": [
    {
     "data": {
      "text/plain": [
       "0.10801493823613904"
      ]
     },
     "execution_count": 17,
     "metadata": {},
     "output_type": "execute_result"
    }
   ],
   "source": [
    "#ok, so everyone fails a license request the first time... (I wonder if that means we can exclude those)\n",
    "#what about a license reinspection?\n",
    "lic = rest[rest[\"Inspection Type\"] == 'License Re-Inspection']\n",
    "lic[lic[\"Results\"] == 'Fail'].shape[0]/float(lic.shape[0])"
   ]
  },
  {
   "cell_type": "markdown",
   "metadata": {},
   "source": [
    "## Number of Inspections"
   ]
  },
  {
   "cell_type": "markdown",
   "metadata": {},
   "source": [
    "When reinspected, 90% pass. I wonder if the 10% that fail here will fail over and over again? Worth considering"
   ]
  },
  {
   "cell_type": "code",
   "execution_count": 18,
   "metadata": {
    "collapsed": false
   },
   "outputs": [],
   "source": [
    "#How many inspections per license\n",
    "df_inspection_counts = pd.DataFrame()\n",
    "res = rest[[\"Results\", \"License #\"]].groupby(\"License #\").count()\n",
    "\n",
    "df_inspection_counts[\"total_inspections\"] = res[\"Results\"].reset_index()[\"Results\"]\n",
    "\n",
    "failures = rest[rest[\"Results\"] == \"Fail\"]\n",
    "res = failures[[\"Results\", \"License #\"]].groupby(\"License #\").count()\n",
    "\n",
    "df_inspection_counts[\"failed_inspections\"] = res[\"Results\"].reset_index()[\"Results\"]\n",
    "\n",
    "df_inspection_counts = df_inspection_counts.fillna(0, axis=0)\n",
    "\n",
    "df_inspection_counts[\"prop\"] = df_inspection_counts[\"failed_inspections\"]/df_inspection_counts[\"total_inspections\"]"
   ]
  },
  {
   "cell_type": "code",
   "execution_count": 19,
   "metadata": {
    "collapsed": false
   },
   "outputs": [
    {
     "data": {
      "text/plain": [
       "5.2011998154130135"
      ]
     },
     "execution_count": 19,
     "metadata": {},
     "output_type": "execute_result"
    }
   ],
   "source": [
    "df_inspection_counts[\"total_inspections\"].mean()"
   ]
  },
  {
   "cell_type": "markdown",
   "metadata": {},
   "source": [
    "On average, there are 5 inspections per license."
   ]
  },
  {
   "cell_type": "code",
   "execution_count": 20,
   "metadata": {
    "collapsed": false
   },
   "outputs": [
    {
     "data": {
      "text/plain": [
       "<matplotlib.text.Text at 0x116f60750>"
      ]
     },
     "execution_count": 20,
     "metadata": {},
     "output_type": "execute_result"
    },
    {
     "data": {
      "image/png": "[encoded data removed]",
      "text/plain": [
       "<matplotlib.figure.Figure at 0x116b95a10>"
      ]
     },
     "metadata": {},
     "output_type": "display_data"
    }
   ],
   "source": [
    "#df_inspection_counts\n",
    "plt.scatter(df_inspection_counts[\"total_inspections\"], df_inspection_counts[\"prop\"] )\n",
    "plt.axhline(5, label=\"Mean\")\n",
    "plt.xlabel(\"Total Inspections\")\n",
    "plt.ylabel(\"Failure proportion\")\n",
    "plt.title(\"Failure proportion vs number of inspections\")"
   ]
  },
  {
   "cell_type": "markdown",
   "metadata": {},
   "source": [
    "This is interesting... The more times an establishment is inspected, the smaller the failure proportion. That could mean a lot of things... does it mean they get better over time? You'd think that the more complaints, the more inspections, and the more failures..."
   ]
  },
  {
   "cell_type": "code",
   "execution_count": 21,
   "metadata": {
    "collapsed": false
   },
   "outputs": [
    {
     "data": {
      "text/html": [
       "<div>\n",
       "<table border=\"1\" class=\"dataframe\">\n",
       "  <thead>\n",
       "    <tr style=\"text-align: right;\">\n",
       "      <th></th>\n",
       "      <th>Results</th>\n",
       "    </tr>\n",
       "    <tr>\n",
       "      <th>License #</th>\n",
       "      <th></th>\n",
       "    </tr>\n",
       "  </thead>\n",
       "  <tbody>\n",
       "    <tr>\n",
       "      <th>0.0</th>\n",
       "      <td>68</td>\n",
       "    </tr>\n",
       "    <tr>\n",
       "      <th>2.0</th>\n",
       "      <td>10</td>\n",
       "    </tr>\n",
       "    <tr>\n",
       "      <th>9.0</th>\n",
       "      <td>9</td>\n",
       "    </tr>\n",
       "    <tr>\n",
       "      <th>40.0</th>\n",
       "      <td>12</td>\n",
       "    </tr>\n",
       "    <tr>\n",
       "      <th>62.0</th>\n",
       "      <td>11</td>\n",
       "    </tr>\n",
       "  </tbody>\n",
       "</table>\n",
       "</div>"
      ],
      "text/plain": [
       "           Results\n",
       "License #         \n",
       "0.0             68\n",
       "2.0             10\n",
       "9.0              9\n",
       "40.0            12\n",
       "62.0            11"
      ]
     },
     "execution_count": 21,
     "metadata": {},
     "output_type": "execute_result"
    }
   ],
   "source": [
    "rest[[\"Results\", \"License #\"]].groupby(\"License #\").count().head(5)"
   ]
  },
  {
   "cell_type": "markdown",
   "metadata": {},
   "source": [
    "## Inspection Frequency"
   ]
  },
  {
   "cell_type": "code",
   "execution_count": 22,
   "metadata": {
    "collapsed": false
   },
   "outputs": [
    {
     "name": "stdout",
     "output_type": "stream",
     "text": [
      "11/3/16\n",
      "11/2/16\n",
      "11/1/16\n",
      "10/18/16\n",
      "10/28/16\n",
      "10/31/16\n",
      "10/27/16\n",
      "10/26/16\n",
      "10/25/16\n",
      "10/24/16\n",
      "10/21/16\n",
      "10/20/16\n",
      "10/17/16\n",
      "10/14/16\n",
      "10/19/16\n",
      "9/20/16\n",
      "10/13/16\n",
      "10/11/16\n",
      "10/12/16\n",
      "10/7/16\n",
      "10/4/16\n",
      "10/6/16\n",
      "9/30/16\n",
      "9/13/16\n",
      "9/16/16\n",
      "10/5/16\n",
      "9/23/16\n",
      "10/3/16\n",
      "9/29/16\n",
      "9/28/16\n",
      "9/27/16\n",
      "9/26/16\n",
      "9/22/16\n",
      "8/8/16\n",
      "7/25/16\n",
      "7/13/16\n",
      "8/30/16\n",
      "9/21/16\n",
      "7/29/16\n",
      "12/29/15\n",
      "7/5/16\n",
      "9/19/16\n",
      "9/15/16\n",
      "8/2/16\n",
      "9/14/16\n",
      "9/9/16\n",
      "9/1/16\n",
      "9/8/16\n",
      "6/23/16\n",
      "9/12/16\n",
      "6/15/16\n",
      "6/13/16\n",
      "9/7/16\n",
      "4/7/16\n",
      "8/31/16\n",
      "9/6/16\n",
      "9/2/16\n",
      "8/29/16\n",
      "3/3/16\n",
      "8/23/16\n",
      "2/25/16\n",
      "8/22/16\n",
      "8/18/16\n",
      "8/5/16\n",
      "8/12/16\n",
      "8/26/16\n",
      "6/2/16\n",
      "5/12/16\n",
      "8/24/16\n",
      "10/23/15\n",
      "11/24/15\n",
      "8/10/16\n",
      "8/19/16\n",
      "11/9/15\n",
      "8/11/16\n",
      "3/8/16\n",
      "4/28/16\n",
      "8/17/16\n",
      "8/16/16\n",
      "8/15/16\n",
      "8/4/16\n",
      "9/2/15\n",
      "7/28/16\n",
      "10/1/15\n",
      "1/26/16\n",
      "8/9/16\n",
      "1/14/16\n",
      "7/27/16\n",
      "8/3/16\n",
      "9/23/15\n",
      "12/3/15\n",
      "8/1/16\n",
      "7/16/15\n",
      "7/26/16\n",
      "7/13/15\n",
      "7/15/15\n",
      "6/25/15\n",
      "7/19/16\n",
      "7/8/16\n",
      "5/4/16\n",
      "7/22/16\n",
      "7/15/16\n",
      "7/21/16\n",
      "7/7/16\n",
      "12/24/15\n",
      "7/20/16\n",
      "6/30/16\n",
      "10/6/15\n",
      "7/18/16\n",
      "6/21/16\n",
      "7/14/16\n",
      "2/19/16\n",
      "2/18/16\n",
      "9/22/15\n",
      "6/17/16\n",
      "7/12/16\n",
      "5/28/15\n",
      "5/11/15\n",
      "7/11/16\n",
      "5/20/16\n",
      "7/6/16\n",
      "5/25/16\n",
      "4/23/15\n",
      "4/28/15\n",
      "4/24/15\n",
      "7/1/16\n",
      "6/29/16\n",
      "6/24/16\n",
      "6/28/16\n",
      "6/27/16\n",
      "5/12/15\n",
      "5/19/16\n",
      "12/22/15\n",
      "11/13/15\n",
      "6/15/15\n",
      "6/22/16\n",
      "11/10/15\n",
      "6/20/16\n",
      "6/14/16\n",
      "6/16/16\n",
      "4/22/15\n",
      "6/10/16\n",
      "5/24/16\n",
      "6/9/16\n",
      "5/17/16\n",
      "6/8/16\n",
      "4/21/16\n",
      "2/10/16\n",
      "6/7/16\n",
      "4/13/16\n",
      "6/6/16\n",
      "6/3/16\n",
      "4/12/16\n",
      "6/1/16\n",
      "5/31/16\n",
      "5/27/16\n",
      "5/26/16\n",
      "3/11/16\n",
      "5/1/15\n",
      "5/23/16\n",
      "1/27/16\n",
      "5/6/16\n",
      "5/18/16\n",
      "9/28/15\n",
      "4/27/16\n",
      "5/5/16\n",
      "5/16/16\n",
      "5/13/16\n",
      "1/19/16\n",
      "5/3/16\n",
      "5/11/16\n",
      "5/10/16\n",
      "4/29/16\n",
      "5/9/16\n",
      "4/11/16\n",
      "8/10/15\n",
      "4/25/16\n",
      "5/2/16\n",
      "3/31/16\n",
      "4/20/16\n",
      "4/26/16\n",
      "7/17/15\n",
      "10/14/15\n",
      "12/15/15\n",
      "4/22/16\n",
      "7/9/15\n",
      "12/4/15\n",
      "4/19/16\n",
      "11/16/15\n",
      "4/18/16\n",
      "3/22/16\n",
      "4/14/16\n",
      "6/8/15\n",
      "4/15/16\n",
      "9/16/15\n",
      "8/20/15\n",
      "7/31/15\n",
      "4/8/16\n",
      "4/6/16\n",
      "7/10/15\n",
      "4/5/16\n",
      "3/30/16\n",
      "4/1/16\n",
      "10/20/15\n",
      "10/8/15\n",
      "3/17/16\n",
      "3/29/16\n",
      "3/16/16\n",
      "3/25/16\n",
      "3/28/16\n",
      "3/15/16\n",
      "3/24/16\n",
      "12/9/15\n",
      "3/23/16\n",
      "3/21/16\n",
      "3/18/16\n",
      "3/10/16\n",
      "10/2/15\n",
      "9/18/15\n",
      "3/4/16\n",
      "9/14/15\n",
      "3/14/16\n",
      "3/9/16\n",
      "3/1/16\n",
      "1/22/16\n",
      "3/2/16\n",
      "2/24/16\n",
      "2/29/16\n",
      "2/26/16\n",
      "2/23/16\n",
      "9/17/15\n",
      "2/22/16\n",
      "2/9/16\n",
      "2/3/16\n",
      "2/8/16\n",
      "2/17/16\n",
      "2/16/16\n",
      "2/11/16\n",
      "2/5/16\n",
      "1/12/16\n",
      "1/8/16\n",
      "2/4/16\n",
      "2/2/16\n",
      "1/28/16\n",
      "1/29/16\n",
      "1/6/16\n",
      "1/25/16\n",
      "12/31/15\n",
      "1/21/16\n",
      "1/20/16\n",
      "11/6/15\n",
      "1/15/16\n",
      "5/19/15\n",
      "12/17/15\n",
      "1/13/16\n",
      "1/11/16\n",
      "12/18/15\n",
      "10/19/15\n",
      "12/21/15\n",
      "1/7/16\n",
      "12/10/15\n",
      "1/5/16\n",
      "1/4/16\n",
      "12/30/15\n",
      "12/28/15\n",
      "12/23/15\n",
      "12/8/15\n",
      "12/16/15\n",
      "12/14/15\n",
      "12/11/15\n",
      "12/7/15\n",
      "12/2/15\n",
      "11/30/15\n",
      "9/4/15\n",
      "11/20/15\n",
      "12/1/15\n",
      "8/21/15\n",
      "11/27/15\n",
      "11/25/15\n",
      "8/14/15\n",
      "11/23/15\n",
      "8/12/15\n",
      "11/19/15\n",
      "11/18/15\n",
      "11/17/15\n",
      "11/12/15\n",
      "6/24/15\n",
      "11/5/15\n",
      "10/27/15\n",
      "6/19/15\n",
      "11/4/15\n",
      "11/3/15\n",
      "10/30/15\n",
      "10/29/15\n",
      "6/1/15\n",
      "10/16/15\n",
      "10/28/15\n",
      "10/26/15\n",
      "10/22/15\n",
      "10/21/15\n",
      "10/15/15\n",
      "5/29/15\n",
      "10/13/15\n",
      "10/7/15\n",
      "10/9/15\n",
      "4/14/15\n",
      "10/5/15\n",
      "9/30/15\n",
      "7/1/15\n",
      "9/29/15\n",
      "6/30/15\n",
      "6/29/15\n",
      "9/25/15\n",
      "9/24/15\n",
      "6/2/15\n",
      "9/21/15\n",
      "5/26/15\n",
      "9/15/15\n",
      "9/11/15\n",
      "9/1/15\n",
      "9/9/15\n",
      "9/10/15\n",
      "9/8/15\n",
      "9/3/15\n",
      "8/31/15\n",
      "8/28/15\n",
      "4/30/15\n",
      "8/27/15\n",
      "8/19/15\n",
      "8/26/15\n",
      "8/25/15\n",
      "8/24/15\n",
      "8/11/15\n",
      "8/18/15\n",
      "8/17/15\n",
      "8/7/15\n",
      "8/15/15\n",
      "8/13/15\n",
      "8/5/15\n",
      "7/24/15\n",
      "7/23/15\n",
      "8/6/15\n",
      "8/4/15\n",
      "8/3/15\n",
      "7/20/15\n",
      "7/30/15\n",
      "7/29/15\n",
      "7/28/15\n",
      "7/27/15\n",
      "7/21/15\n",
      "6/18/15\n",
      "7/14/15\n",
      "7/7/15\n",
      "7/8/15\n",
      "7/6/15\n",
      "7/2/15\n",
      "6/26/15\n",
      "6/23/15\n",
      "6/22/15\n",
      "6/12/15\n",
      "6/17/15\n",
      "6/16/15\n",
      "6/11/15\n",
      "6/5/15\n",
      "6/3/15\n",
      "6/10/15\n",
      "6/9/15\n",
      "6/4/15\n",
      "5/27/15\n",
      "5/22/15\n",
      "5/20/15\n",
      "5/21/15\n",
      "5/15/15\n",
      "5/18/15\n",
      "5/14/15\n",
      "5/13/15\n",
      "5/8/15\n",
      "5/7/15\n",
      "5/6/15\n",
      "5/5/15\n",
      "4/27/15\n",
      "5/4/15\n",
      "4/29/15\n",
      "4/16/15\n",
      "4/21/15\n",
      "4/20/15\n",
      "4/17/15\n",
      "4/15/15\n",
      "4/13/15\n",
      "3/25/15\n",
      "4/9/15\n",
      "4/10/15\n",
      "3/27/15\n",
      "4/2/15\n",
      "2/6/15\n",
      "2/27/15\n",
      "4/8/15\n",
      "3/4/15\n",
      "1/15/15\n",
      "1/8/15\n",
      "4/7/15\n",
      "3/30/15\n",
      "3/31/15\n",
      "4/6/15\n",
      "4/3/15\n",
      "3/24/15\n",
      "3/19/15\n",
      "3/5/15\n",
      "4/1/15\n",
      "1/27/15\n",
      "1/28/15\n",
      "12/22/14\n",
      "12/16/14\n",
      "3/26/15\n",
      "3/20/15\n",
      "3/17/15\n",
      "3/3/15\n",
      "1/7/15\n",
      "3/23/15\n",
      "12/18/14\n",
      "3/16/15\n",
      "1/14/15\n",
      "3/18/15\n",
      "3/11/15\n",
      "3/13/15\n",
      "3/12/15\n",
      "3/10/15\n",
      "2/24/15\n",
      "3/9/15\n",
      "3/6/15\n",
      "11/20/14\n",
      "11/24/14\n",
      "11/21/14\n",
      "10/27/14\n",
      "10/9/14\n",
      "12/4/14\n",
      "11/19/14\n",
      "2/25/15\n",
      "10/7/14\n",
      "2/26/15\n",
      "12/31/14\n",
      "2/23/15\n",
      "12/30/14\n",
      "2/20/15\n",
      "9/9/14\n",
      "2/13/15\n",
      "2/19/15\n",
      "9/8/14\n",
      "1/23/15\n",
      "1/22/15\n",
      "2/18/15\n",
      "9/12/14\n",
      "2/17/15\n",
      "11/28/14\n",
      "2/11/15\n",
      "2/10/15\n",
      "11/26/14\n",
      "10/23/14\n",
      "2/9/15\n",
      "8/14/14\n",
      "6/18/14\n",
      "6/11/14\n",
      "2/5/15\n",
      "6/4/14\n",
      "1/30/15\n",
      "8/11/14\n",
      "5/13/14\n",
      "2/4/15\n",
      "4/25/14\n",
      "5/1/14\n",
      "8/6/14\n",
      "2/3/15\n",
      "4/18/14\n",
      "5/12/14\n",
      "2/2/15\n",
      "6/30/14\n",
      "10/8/14\n",
      "9/26/14\n",
      "1/29/15\n",
      "12/15/14\n",
      "1/21/15\n",
      "1/26/15\n",
      "3/12/14\n",
      "4/8/14\n",
      "12/29/14\n",
      "9/11/14\n",
      "1/20/15\n",
      "1/16/15\n",
      "1/24/14\n",
      "3/19/14\n",
      "3/13/14\n",
      "11/4/14\n",
      "11/21/13\n",
      "2/25/14\n",
      "12/12/14\n",
      "11/12/13\n",
      "1/13/15\n",
      "2/7/14\n",
      "7/14/14\n",
      "11/8/13\n",
      "1/12/15\n",
      "1/9/15\n",
      "12/26/14\n",
      "1/6/15\n",
      "1/5/15\n",
      "1/2/15\n",
      "11/7/13\n",
      "12/24/14\n",
      "2/14/14\n",
      "12/9/14\n",
      "12/23/14\n",
      "10/17/13\n",
      "12/19/14\n",
      "1/27/14\n",
      "11/15/13\n",
      "12/17/14\n",
      "12/9/13\n",
      "7/10/14\n",
      "7/9/14\n",
      "10/22/13\n",
      "12/11/14\n",
      "12/8/14\n",
      "12/10/14\n",
      "12/3/14\n",
      "12/5/14\n",
      "12/2/14\n",
      "12/1/14\n",
      "11/25/14\n",
      "11/10/14\n",
      "10/23/13\n",
      "11/13/14\n",
      "11/14/14\n",
      "5/16/14\n",
      "11/18/14\n",
      "1/14/14\n",
      "9/17/14\n",
      "11/6/13\n",
      "11/17/14\n",
      "10/16/13\n",
      "10/31/13\n",
      "10/15/13\n",
      "10/3/13\n",
      "11/12/14\n",
      "11/6/14\n",
      "11/7/14\n",
      "11/5/14\n",
      "8/22/14\n",
      "10/24/14\n",
      "10/31/14\n",
      "10/29/14\n",
      "10/30/14\n",
      "10/28/14\n",
      "10/8/13\n",
      "10/22/14\n",
      "4/17/14\n",
      "10/17/14\n",
      "10/1/14\n",
      "10/21/14\n",
      "10/20/14\n",
      "3/14/14\n",
      "9/22/14\n",
      "3/6/14\n",
      "10/16/14\n",
      "10/15/14\n",
      "10/10/14\n",
      "10/14/14\n",
      "12/4/13\n",
      "10/3/14\n",
      "10/6/14\n",
      "9/29/14\n",
      "10/2/14\n",
      "9/10/14\n",
      "9/30/14\n",
      "8/1/14\n",
      "8/29/14\n",
      "9/25/14\n",
      "9/24/14\n",
      "8/20/14\n",
      "9/23/14\n",
      "9/19/14\n",
      "11/22/13\n",
      "8/15/14\n",
      "9/18/14\n",
      "9/16/14\n",
      "9/15/14\n",
      "7/18/14\n",
      "9/4/14\n",
      "7/17/14\n",
      "9/3/14\n",
      "9/5/14\n",
      "8/28/14\n",
      "10/28/13\n",
      "6/3/14\n",
      "8/27/14\n",
      "8/8/14\n",
      "8/26/14\n",
      "8/25/14\n",
      "6/23/14\n",
      "8/21/14\n",
      "8/13/14\n",
      "8/19/14\n",
      "8/18/14\n",
      "8/12/14\n",
      "8/9/14\n",
      "2/20/14\n",
      "8/7/14\n",
      "8/5/14\n",
      "6/19/14\n",
      "8/4/14\n",
      "7/24/14\n",
      "7/23/14\n",
      "7/28/14\n",
      "7/31/14\n",
      "7/30/14\n",
      "7/29/14\n",
      "1/17/14\n",
      "5/14/14\n",
      "7/25/14\n",
      "1/10/14\n",
      "7/22/14\n",
      "7/8/14\n",
      "7/21/14\n",
      "3/21/14\n",
      "5/9/14\n",
      "7/16/14\n",
      "7/15/14\n",
      "7/11/14\n",
      "12/13/13\n",
      "7/3/14\n",
      "7/7/14\n",
      "7/2/14\n",
      "6/10/14\n",
      "6/16/14\n",
      "7/1/14\n",
      "4/24/14\n",
      "6/27/14\n",
      "6/12/14\n",
      "6/26/14\n",
      "6/25/14\n",
      "6/24/14\n",
      "6/20/14\n",
      "4/7/14\n",
      "6/9/14\n",
      "2/28/14\n",
      "6/17/14\n",
      "6/13/14\n",
      "6/6/14\n",
      "10/21/13\n",
      "6/2/14\n",
      "6/5/14\n",
      "5/30/14\n",
      "5/23/14\n",
      "5/29/14\n",
      "5/22/14\n",
      "5/28/14\n",
      "5/27/14\n",
      "5/21/14\n",
      "5/20/14\n",
      "5/19/14\n",
      "5/15/14\n",
      "5/8/14\n",
      "5/7/14\n",
      "5/5/14\n",
      "5/6/14\n",
      "5/2/14\n",
      "2/4/14\n",
      "4/30/14\n",
      "4/29/14\n",
      "1/29/14\n",
      "4/28/14\n",
      "4/11/14\n",
      "4/23/14\n",
      "4/15/14\n",
      "4/22/14\n",
      "4/14/14\n",
      "4/21/14\n",
      "4/16/14\n",
      "2/11/14\n",
      "4/10/14\n",
      "4/4/14\n",
      "4/9/14\n",
      "1/9/14\n",
      "4/2/14\n",
      "4/3/14\n",
      "12/27/13\n",
      "12/26/13\n",
      "4/1/14\n",
      "3/25/14\n",
      "3/28/14\n",
      "3/31/14\n",
      "3/20/14\n",
      "3/27/14\n",
      "3/26/14\n",
      "3/24/14\n",
      "12/19/13\n",
      "3/5/14\n",
      "2/27/14\n",
      "2/26/14\n",
      "3/18/14\n",
      "3/17/14\n",
      "3/11/14\n",
      "3/10/14\n",
      "3/7/14\n",
      "2/18/14\n",
      "2/13/14\n",
      "3/4/14\n",
      "2/10/14\n",
      "12/17/13\n",
      "2/24/14\n",
      "2/21/14\n",
      "2/19/14\n",
      "2/6/14\n",
      "1/30/14\n",
      "2/5/14\n",
      "2/3/14\n",
      "1/16/14\n",
      "12/5/13\n",
      "1/28/14\n",
      "1/23/14\n",
      "1/22/14\n",
      "1/21/14\n",
      "1/15/14\n",
      "1/13/14\n",
      "12/18/13\n",
      "1/8/14\n",
      "1/7/14\n",
      "1/6/14\n",
      "1/3/14\n",
      "1/2/14\n",
      "12/31/13\n",
      "12/30/13\n",
      "12/24/13\n",
      "12/23/13\n",
      "12/20/13\n",
      "12/16/13\n",
      "12/12/13\n",
      "12/11/13\n",
      "12/10/13\n",
      "12/6/13\n",
      "12/3/13\n",
      "12/2/13\n",
      "11/29/13\n",
      "11/27/13\n",
      "11/26/13\n",
      "11/25/13\n",
      "11/20/13\n",
      "11/19/13\n",
      "11/18/13\n",
      "11/14/13\n",
      "11/13/13\n",
      "11/9/13\n",
      "11/5/13\n",
      "11/4/13\n",
      "11/1/13\n",
      "10/30/13\n",
      "10/29/13\n",
      "10/25/13\n",
      "10/24/13\n",
      "10/18/13\n",
      "10/11/13\n",
      "10/10/13\n",
      "10/9/13\n",
      "10/7/13\n",
      "10/4/13\n",
      "10/2/13\n",
      "1/25/13\n",
      "10/1/13\n",
      "9/27/13\n",
      "9/30/13\n",
      "9/26/13\n",
      "9/25/13\n",
      "9/19/13\n",
      "9/24/13\n",
      "9/18/13\n",
      "9/11/13\n",
      "9/23/13\n",
      "9/20/13\n",
      "9/17/13\n",
      "9/16/13\n",
      "8/30/13\n",
      "9/12/13\n",
      "9/13/13\n",
      "9/4/13\n",
      "8/22/13\n",
      "9/3/13\n",
      "8/15/13\n",
      "8/13/13\n",
      "9/10/13\n",
      "8/12/13\n",
      "9/9/13\n",
      "7/24/13\n",
      "9/6/13\n",
      "7/18/13\n",
      "9/5/13\n",
      "7/16/13\n",
      "7/10/13\n",
      "8/26/13\n",
      "8/2/13\n",
      "8/29/13\n",
      "8/28/13\n",
      "7/9/13\n",
      "8/27/13\n",
      "6/21/13\n",
      "6/14/13\n",
      "6/13/13\n",
      "5/30/13\n",
      "8/23/13\n",
      "8/20/13\n",
      "8/21/13\n",
      "4/9/13\n",
      "4/8/13\n",
      "8/19/13\n",
      "4/4/13\n",
      "8/16/13\n",
      "3/12/13\n",
      "12/4/12\n",
      "8/14/13\n",
      "8/9/13\n",
      "3/19/13\n",
      "3/8/13\n",
      "8/6/13\n",
      "3/5/13\n",
      "8/1/13\n",
      "8/8/13\n",
      "2/28/13\n",
      "12/18/12\n",
      "8/7/13\n",
      "12/5/12\n",
      "11/8/12\n",
      "7/31/13\n",
      "8/5/13\n",
      "4/29/13\n",
      "9/28/12\n",
      "4/12/13\n",
      "3/28/13\n",
      "9/20/12\n",
      "9/18/12\n",
      "9/11/12\n",
      "7/30/13\n",
      "10/15/12\n",
      "7/25/13\n",
      "7/29/13\n",
      "7/26/13\n",
      "7/23/13\n",
      "7/19/13\n",
      "7/22/13\n",
      "6/26/13\n",
      "4/18/13\n",
      "7/12/13\n",
      "7/17/13\n",
      "7/3/13\n",
      "7/15/13\n",
      "4/15/13\n",
      "7/11/13\n",
      "8/14/12\n",
      "7/2/13\n",
      "7/31/12\n",
      "5/23/13\n",
      "3/6/13\n",
      "6/25/13\n",
      "7/8/13\n",
      "7/5/13\n",
      "6/18/13\n",
      "7/10/12\n",
      "6/21/12\n",
      "6/20/12\n",
      "7/1/13\n",
      "6/27/13\n",
      "6/10/13\n",
      "6/28/13\n",
      "6/19/12\n",
      "5/22/12\n",
      "11/27/12\n",
      "6/24/13\n",
      "6/4/13\n",
      "6/20/13\n",
      "5/15/12\n",
      "6/12/13\n",
      "6/19/13\n",
      "5/29/12\n",
      "4/16/12\n",
      "6/17/13\n",
      "10/1/12\n",
      "5/23/12\n",
      "6/11/13\n",
      "3/16/12\n",
      "4/25/13\n",
      "9/10/12\n",
      "6/5/13\n",
      "6/7/13\n",
      "6/3/13\n",
      "6/6/13\n",
      "3/15/12\n",
      "3/9/12\n",
      "9/27/12\n",
      "2/25/13\n",
      "5/31/13\n",
      "5/20/13\n",
      "5/29/13\n",
      "5/28/13\n",
      "5/17/13\n",
      "5/24/13\n",
      "5/22/13\n",
      "5/21/13\n",
      "2/28/12\n",
      "5/16/13\n",
      "5/15/13\n",
      "5/14/13\n",
      "5/13/13\n",
      "4/11/13\n",
      "5/6/13\n",
      "5/10/13\n",
      "5/9/13\n",
      "5/3/13\n",
      "5/8/13\n",
      "5/7/13\n",
      "4/22/13\n",
      "5/2/13\n",
      "4/17/13\n",
      "5/1/13\n",
      "4/30/13\n",
      "4/23/13\n",
      "4/26/13\n",
      "4/24/13\n",
      "11/29/12\n",
      "4/19/13\n",
      "4/16/13\n",
      "4/10/13\n",
      "8/20/12\n",
      "3/27/13\n",
      "4/5/13\n",
      "4/3/13\n",
      "4/2/13\n",
      "4/1/13\n",
      "3/29/13\n",
      "3/26/13\n",
      "3/25/13\n",
      "3/22/13\n",
      "3/7/13\n",
      "3/21/13\n",
      "3/20/13\n",
      "3/15/13\n",
      "3/18/13\n",
      "3/14/13\n",
      "3/13/13\n",
      "3/11/13\n",
      "10/2/12\n",
      "2/20/13\n",
      "2/19/13\n",
      "2/15/13\n",
      "3/1/13\n",
      "2/27/13\n",
      "2/26/13\n",
      "1/31/13\n",
      "2/22/13\n",
      "2/21/13\n",
      "2/14/13\n",
      "9/14/12\n",
      "1/10/13\n",
      "2/13/13\n",
      "2/7/13\n",
      "2/11/13\n",
      "2/8/13\n",
      "2/4/13\n",
      "2/6/13\n",
      "2/5/13\n",
      "1/8/13\n",
      "1/24/13\n",
      "2/1/13\n",
      "1/28/13\n",
      "1/30/13\n",
      "1/29/13\n",
      "1/23/13\n",
      "1/22/13\n",
      "1/7/13\n",
      "1/4/13\n",
      "1/18/13\n",
      "1/17/13\n",
      "1/15/13\n",
      "1/16/13\n",
      "1/14/13\n",
      "1/11/13\n",
      "8/29/12\n",
      "1/3/13\n",
      "1/9/13\n",
      "12/31/12\n",
      "12/28/12\n",
      "1/2/13\n",
      "12/27/12\n",
      "12/26/12\n",
      "12/24/12\n",
      "12/21/12\n",
      "12/11/12\n",
      "12/20/12\n",
      "12/19/12\n",
      "12/17/12\n",
      "12/13/12\n",
      "12/12/12\n",
      "12/14/12\n",
      "12/10/12\n",
      "12/7/12\n",
      "12/6/12\n",
      "11/30/12\n",
      "11/28/12\n",
      "11/16/12\n",
      "11/21/12\n",
      "11/26/12\n",
      "7/9/12\n",
      "11/23/12\n",
      "11/19/12\n",
      "11/20/12\n",
      "11/5/12\n",
      "7/6/12\n",
      "11/17/12\n",
      "11/15/12\n",
      "11/9/12\n",
      "11/14/12\n",
      "11/13/12\n",
      "11/1/12\n",
      "11/7/12\n",
      "11/2/12\n",
      "11/6/12\n",
      "5/14/12\n",
      "10/29/12\n",
      "10/26/12\n",
      "10/25/12\n",
      "10/30/12\n",
      "10/22/12\n",
      "10/23/12\n",
      "10/18/12\n",
      "10/24/12\n",
      "10/12/12\n",
      "10/19/12\n",
      "10/10/12\n",
      "10/17/12\n",
      "10/5/12\n",
      "10/16/12\n",
      "5/10/12\n",
      "10/11/12\n",
      "9/24/12\n",
      "10/4/12\n",
      "10/9/12\n",
      "10/3/12\n",
      "9/19/12\n",
      "9/21/12\n",
      "9/26/12\n",
      "9/25/12\n",
      "8/24/12\n",
      "8/8/12\n",
      "9/17/12\n",
      "4/4/12\n",
      "9/13/12\n",
      "9/12/12\n",
      "3/29/12\n",
      "9/7/12\n",
      "9/6/12\n",
      "9/5/12\n",
      "9/4/12\n",
      "8/27/12\n",
      "8/30/12\n",
      "8/31/12\n",
      "8/28/12\n",
      "7/30/12\n",
      "8/22/12\n",
      "3/6/12\n",
      "8/23/12\n",
      "8/16/12\n",
      "8/21/12\n",
      "8/15/12\n",
      "8/13/12\n",
      "8/17/12\n",
      "8/10/12\n",
      "2/17/12\n",
      "8/3/12\n",
      "7/19/12\n",
      "8/9/12\n",
      "7/3/12\n",
      "6/28/12\n",
      "8/7/12\n",
      "8/6/12\n",
      "7/25/12\n",
      "6/14/12\n",
      "7/12/12\n",
      "8/2/12\n",
      "8/1/12\n",
      "7/27/12\n",
      "7/26/12\n",
      "7/24/12\n",
      "7/11/12\n",
      "7/23/12\n",
      "7/20/12\n",
      "7/18/12\n",
      "7/17/12\n",
      "7/16/12\n",
      "7/13/12\n",
      "6/6/12\n",
      "5/18/12\n",
      "7/7/12\n",
      "5/16/12\n",
      "7/5/12\n",
      "7/2/12\n",
      "6/29/12\n",
      "6/27/12\n",
      "6/26/12\n",
      "6/25/12\n",
      "6/22/12\n",
      "4/25/12\n",
      "6/18/12\n",
      "6/15/12\n",
      "4/6/12\n",
      "6/13/12\n",
      "4/5/12\n",
      "6/12/12\n",
      "6/11/12\n",
      "3/13/12\n",
      "6/8/12\n",
      "6/4/12\n",
      "6/7/12\n",
      "5/31/12\n",
      "6/5/12\n",
      "6/1/12\n",
      "5/30/12\n",
      "5/25/12\n",
      "4/23/12\n",
      "5/24/12\n",
      "5/21/12\n",
      "5/17/12\n",
      "5/11/12\n",
      "3/12/12\n",
      "5/8/12\n",
      "5/9/12\n",
      "5/7/12\n",
      "5/4/12\n",
      "5/3/12\n",
      "5/2/12\n",
      "3/26/12\n",
      "5/1/12\n",
      "4/30/12\n",
      "4/27/12\n",
      "4/26/12\n",
      "4/24/12\n",
      "4/20/12\n",
      "4/18/12\n",
      "4/17/12\n",
      "3/8/12\n",
      "4/19/12\n",
      "4/10/12\n",
      "4/13/12\n",
      "4/12/12\n",
      "4/11/12\n",
      "4/9/12\n",
      "4/8/12\n",
      "4/3/12\n",
      "4/2/12\n",
      "3/30/12\n",
      "3/28/12\n",
      "3/27/12\n",
      "3/7/12\n",
      "3/20/12\n",
      "3/23/12\n",
      "3/22/12\n",
      "3/21/12\n",
      "3/19/12\n",
      "3/17/12\n",
      "3/14/12\n",
      "2/24/12\n",
      "3/1/12\n",
      "2/29/12\n",
      "3/3/12\n",
      "3/2/12\n",
      "2/27/12\n",
      "2/21/12\n",
      "2/23/12\n",
      "2/16/12\n",
      "2/15/12\n",
      "2/14/12\n",
      "2/8/12\n",
      "2/7/12\n",
      "2/10/12\n",
      "2/2/12\n",
      "1/17/12\n",
      "1/13/12\n",
      "1/20/12\n",
      "2/9/12\n",
      "1/5/12\n",
      "12/28/11\n",
      "6/7/10\n",
      "12/27/11\n",
      "2/3/12\n",
      "2/6/12\n",
      "11/28/11\n",
      "1/31/12\n",
      "2/1/12\n",
      "1/30/12\n",
      "11/8/11\n",
      "10/11/11\n",
      "1/27/12\n",
      "8/30/11\n",
      "10/18/11\n",
      "1/26/12\n",
      "1/24/12\n",
      "9/14/11\n",
      "9/20/11\n",
      "1/25/12\n",
      "12/22/11\n",
      "12/20/11\n",
      "8/10/11\n",
      "1/23/12\n",
      "12/2/11\n",
      "11/22/11\n",
      "1/19/12\n",
      "8/9/11\n",
      "1/18/12\n",
      "11/21/11\n",
      "11/18/11\n",
      "7/8/11\n",
      "1/6/12\n",
      "1/12/12\n",
      "11/2/11\n",
      "11/15/11\n",
      "1/10/12\n",
      "1/9/12\n",
      "8/19/11\n",
      "11/14/11\n",
      "1/4/12\n",
      "1/3/12\n",
      "8/5/11\n",
      "12/30/11\n",
      "12/29/11\n",
      "7/26/11\n",
      "7/7/11\n",
      "6/30/11\n",
      "12/23/11\n",
      "6/23/11\n",
      "12/21/11\n",
      "12/19/11\n",
      "12/15/11\n",
      "6/16/11\n",
      "12/16/11\n",
      "6/13/11\n",
      "10/24/11\n",
      "12/14/11\n",
      "4/25/11\n",
      "2/23/11\n",
      "6/21/11\n",
      "12/13/11\n",
      "4/15/11\n",
      "4/14/11\n",
      "12/12/11\n",
      "12/9/11\n",
      "12/8/11\n",
      "10/19/10\n",
      "12/7/11\n",
      "12/6/11\n",
      "4/13/11\n",
      "10/19/11\n",
      "12/5/11\n",
      "6/29/11\n",
      "4/11/11\n",
      "12/1/11\n",
      "11/17/11\n",
      "11/30/11\n",
      "4/6/11\n",
      "11/29/11\n",
      "3/22/11\n",
      "9/13/11\n",
      "9/12/11\n",
      "11/16/11\n",
      "11/23/11\n",
      "3/21/11\n",
      "11/25/11\n",
      "9/9/11\n",
      "11/24/11\n",
      "3/3/11\n",
      "10/18/10\n",
      "7/13/10\n",
      "1/14/11\n",
      "10/7/11\n",
      "8/29/11\n",
      "10/26/11\n",
      "4/28/11\n",
      "11/1/11\n",
      "11/10/11\n",
      "11/13/11\n",
      "4/4/11\n",
      "11/9/11\n",
      "6/17/10\n",
      "11/4/11\n",
      "10/20/11\n",
      "11/7/11\n",
      "9/27/11\n",
      "3/30/11\n",
      "11/3/11\n",
      "12/13/10\n",
      "7/25/11\n",
      "3/28/11\n",
      "1/26/11\n",
      "10/12/11\n",
      "10/28/11\n",
      "10/31/11\n",
      "10/27/11\n",
      "11/23/10\n",
      "6/15/10\n",
      "10/4/11\n",
      "11/18/10\n",
      "10/25/11\n",
      "12/30/10\n",
      "11/16/10\n",
      "10/26/10\n",
      "10/21/11\n",
      "10/15/10\n",
      "10/3/11\n",
      "10/17/11\n",
      "7/22/11\n",
      "10/14/11\n",
      "3/25/11\n",
      "10/4/10\n",
      "10/13/11\n",
      "10/1/10\n",
      "9/21/10\n",
      "9/29/11\n",
      "6/8/10\n",
      "9/26/11\n",
      "9/15/10\n",
      "10/6/11\n",
      "9/10/10\n",
      "10/5/11\n",
      "7/19/11\n",
      "9/2/10\n",
      "9/7/11\n",
      "9/28/11\n",
      "8/22/11\n",
      "7/18/11\n",
      "8/9/10\n",
      "8/3/10\n",
      "8/2/10\n",
      "9/23/11\n",
      "9/21/11\n",
      "7/9/10\n",
      "9/22/11\n",
      "6/11/10\n",
      "9/19/11\n",
      "9/15/11\n",
      "9/17/11\n",
      "9/16/11\n",
      "8/25/11\n",
      "8/2/11\n",
      "9/10/11\n",
      "9/8/11\n",
      "9/2/11\n",
      "9/6/11\n",
      "9/1/11\n",
      "8/31/11\n",
      "7/1/11\n",
      "8/26/11\n",
      "12/21/10\n",
      "6/20/11\n",
      "8/24/11\n",
      "8/23/11\n",
      "8/8/11\n",
      "8/18/11\n",
      "6/14/11\n",
      "8/17/11\n",
      "8/16/11\n",
      "8/15/11\n",
      "7/15/11\n",
      "8/12/11\n",
      "8/11/11\n",
      "7/14/11\n",
      "7/28/10\n",
      "8/4/11\n",
      "8/3/11\n",
      "6/9/11\n",
      "8/1/11\n",
      "7/29/11\n",
      "7/27/11\n",
      "7/28/11\n",
      "7/20/11\n",
      "6/2/11\n",
      "7/13/11\n",
      "7/21/11\n",
      "6/28/11\n",
      "11/26/10\n",
      "7/12/11\n",
      "7/15/10\n",
      "5/20/11\n",
      "7/11/11\n",
      "5/18/11\n",
      "7/6/11\n",
      "3/10/11\n",
      "7/5/11\n",
      "6/27/11\n",
      "6/24/11\n",
      "6/7/11\n",
      "6/22/11\n",
      "6/17/11\n",
      "5/3/11\n",
      "6/15/11\n",
      "10/25/10\n",
      "2/28/11\n",
      "4/26/11\n",
      "6/11/11\n",
      "6/10/11\n",
      "12/14/10\n",
      "6/8/11\n",
      "5/26/11\n",
      "6/6/11\n",
      "6/3/11\n",
      "6/1/11\n",
      "5/25/11\n",
      "5/24/11\n",
      "5/27/11\n",
      "5/28/11\n",
      "5/23/11\n",
      "3/24/11\n",
      "5/19/11\n",
      "5/17/11\n",
      "5/16/11\n",
      "5/13/11\n",
      "5/12/11\n",
      "9/7/10\n",
      "5/11/11\n",
      "8/26/10\n",
      "5/10/11\n",
      "5/9/11\n",
      "5/6/11\n",
      "11/24/10\n",
      "5/5/11\n",
      "5/4/11\n",
      "5/2/11\n",
      "4/20/11\n",
      "4/29/11\n",
      "10/7/10\n",
      "4/19/11\n",
      "4/27/11\n",
      "4/18/11\n",
      "4/22/11\n",
      "4/21/11\n",
      "4/16/11\n",
      "3/31/11\n",
      "4/12/11\n",
      "3/15/11\n",
      "4/8/11\n",
      "4/7/11\n",
      "4/1/11\n",
      "4/5/11\n",
      "2/24/11\n",
      "2/16/11\n",
      "6/9/10\n",
      "3/29/11\n",
      "3/9/11\n",
      "3/23/11\n",
      "3/8/11\n",
      "1/24/11\n",
      "2/25/11\n",
      "3/18/11\n",
      "3/16/11\n",
      "3/17/11\n",
      "3/14/11\n",
      "1/21/11\n",
      "3/11/11\n",
      "3/4/11\n",
      "1/13/11\n",
      "3/2/11\n",
      "3/1/11\n",
      "2/8/11\n",
      "12/23/10\n",
      "2/17/11\n",
      "12/22/10\n",
      "2/22/11\n",
      "2/18/11\n",
      "12/9/10\n",
      "2/15/11\n",
      "2/14/11\n",
      "2/10/11\n",
      "2/11/11\n",
      "2/9/11\n",
      "2/7/11\n",
      "2/1/11\n",
      "2/4/11\n",
      "2/3/11\n",
      "11/17/10\n",
      "1/31/11\n",
      "1/28/11\n",
      "10/20/10\n",
      "1/27/11\n",
      "1/25/11\n",
      "1/20/11\n",
      "1/19/11\n",
      "1/18/11\n",
      "1/15/11\n",
      "12/8/10\n",
      "1/12/11\n",
      "1/11/11\n",
      "1/10/11\n",
      "1/6/11\n",
      "1/7/11\n",
      "1/5/11\n",
      "1/4/11\n",
      "12/7/10\n",
      "12/29/10\n",
      "12/28/10\n",
      "12/27/10\n",
      "12/17/10\n",
      "12/20/10\n",
      "12/16/10\n",
      "12/15/10\n",
      "8/23/10\n",
      "12/11/10\n",
      "12/10/10\n",
      "11/29/10\n",
      "12/6/10\n",
      "12/4/10\n",
      "12/3/10\n",
      "12/1/10\n",
      "12/2/10\n",
      "11/30/10\n",
      "11/19/10\n",
      "11/22/10\n",
      "10/8/10\n",
      "11/15/10\n",
      "10/22/10\n",
      "9/9/10\n",
      "11/12/10\n",
      "11/10/10\n",
      "11/8/10\n",
      "11/9/10\n",
      "11/2/10\n",
      "11/1/10\n",
      "11/5/10\n",
      "11/4/10\n",
      "11/3/10\n",
      "10/29/10\n",
      "10/28/10\n",
      "10/27/10\n",
      "10/21/10\n",
      "10/13/10\n",
      "10/14/10\n",
      "10/6/10\n",
      "6/30/10\n",
      "10/12/10\n",
      "10/5/10\n",
      "9/29/10\n",
      "9/30/10\n",
      "9/27/10\n",
      "9/28/10\n",
      "9/23/10\n",
      "9/22/10\n",
      "9/24/10\n",
      "9/20/10\n",
      "9/17/10\n",
      "9/18/10\n",
      "9/16/10\n",
      "9/14/10\n",
      "8/17/10\n",
      "9/13/10\n",
      "9/8/10\n",
      "9/3/10\n",
      "8/30/10\n",
      "9/1/10\n",
      "8/31/10\n",
      "8/27/10\n",
      "8/16/10\n",
      "8/25/10\n",
      "8/24/10\n",
      "8/20/10\n",
      "8/21/10\n",
      "8/19/10\n",
      "8/18/10\n",
      "8/13/10\n",
      "8/12/10\n",
      "7/30/10\n",
      "8/11/10\n",
      "8/10/10\n",
      "8/14/10\n",
      "7/29/10\n",
      "8/4/10\n",
      "8/6/10\n",
      "8/7/10\n",
      "6/10/10\n",
      "8/5/10\n",
      "7/27/10\n",
      "7/12/10\n",
      "7/26/10\n",
      "7/23/10\n",
      "7/22/10\n",
      "7/21/10\n",
      "7/20/10\n",
      "7/19/10\n",
      "7/16/10\n",
      "7/14/10\n",
      "6/29/10\n",
      "7/10/10\n",
      "7/8/10\n",
      "7/7/10\n",
      "6/25/10\n",
      "7/6/10\n",
      "7/2/10\n",
      "7/3/10\n",
      "7/1/10\n",
      "6/24/10\n",
      "6/28/10\n",
      "6/23/10\n",
      "6/14/10\n",
      "6/22/10\n",
      "6/21/10\n",
      "6/18/10\n",
      "6/16/10\n",
      "6/4/10\n",
      "6/3/10\n",
      "5/19/10\n",
      "6/2/10\n",
      "5/18/10\n",
      "6/1/10\n",
      "5/12/10\n",
      "5/13/10\n",
      "5/28/10\n",
      "5/26/10\n",
      "5/25/10\n",
      "5/10/10\n",
      "5/27/10\n",
      "4/6/10\n",
      "5/24/10\n",
      "5/20/10\n",
      "5/21/10\n",
      "4/13/10\n",
      "3/31/10\n",
      "4/26/10\n",
      "5/14/10\n",
      "3/30/10\n",
      "5/17/10\n",
      "3/29/10\n",
      "1/28/10\n",
      "3/26/10\n",
      "4/23/10\n",
      "3/20/10\n",
      "5/11/10\n",
      "3/19/10\n",
      "3/9/10\n",
      "3/15/10\n",
      "2/26/10\n",
      "5/7/10\n",
      "5/6/10\n",
      "3/16/10\n",
      "5/4/10\n",
      "5/5/10\n",
      "3/24/10\n",
      "3/23/10\n",
      "5/3/10\n",
      "1/25/10\n",
      "2/24/10\n",
      "4/30/10\n",
      "2/9/10\n",
      "4/29/10\n",
      "4/27/10\n",
      "4/28/10\n",
      "1/12/10\n",
      "4/22/10\n",
      "1/26/10\n",
      "4/21/10\n",
      "3/25/10\n",
      "4/16/10\n",
      "4/20/10\n",
      "4/19/10\n",
      "4/15/10\n",
      "4/14/10\n",
      "4/12/10\n",
      "2/18/10\n",
      "4/9/10\n",
      "2/19/10\n",
      "4/8/10\n",
      "4/7/10\n",
      "4/5/10\n",
      "2/8/10\n",
      "4/2/10\n",
      "4/1/10\n",
      "1/11/10\n",
      "3/22/10\n",
      "2/2/10\n",
      "3/18/10\n",
      "2/25/10\n",
      "3/17/10\n",
      "3/12/10\n",
      "3/10/10\n",
      "3/11/10\n",
      "3/8/10\n",
      "1/22/10\n",
      "2/5/10\n",
      "3/6/10\n",
      "3/5/10\n",
      "1/21/10\n",
      "1/20/10\n",
      "3/4/10\n",
      "3/3/10\n",
      "2/4/10\n",
      "3/2/10\n",
      "2/28/10\n",
      "1/15/10\n",
      "2/23/10\n",
      "2/22/10\n",
      "1/14/10\n",
      "2/17/10\n",
      "2/16/10\n",
      "2/11/10\n",
      "2/14/10\n",
      "2/10/10\n",
      "2/1/10\n",
      "2/3/10\n",
      "1/27/10\n",
      "1/19/10\n",
      "1/13/10\n",
      "1/8/10\n",
      "1/7/10\n",
      "1/6/10\n",
      "1/5/10\n",
      "1/4/10\n"
     ]
    }
   ],
   "source": [
    "for a in rest[\"Inspection Date\"].unique():\n",
    "    if len(a) != 10:\n",
    "        print a"
   ]
  },
  {
   "cell_type": "code",
   "execution_count": 23,
   "metadata": {
    "collapsed": false
   },
   "outputs": [
    {
     "data": {
      "text/html": [
       "<div>\n",
       "<table border=\"1\" class=\"dataframe\">\n",
       "  <thead>\n",
       "    <tr style=\"text-align: right;\">\n",
       "      <th></th>\n",
       "      <th>Inspection ID</th>\n",
       "      <th>DBA Name</th>\n",
       "      <th>AKA Name</th>\n",
       "      <th>License #</th>\n",
       "      <th>Facility Type</th>\n",
       "      <th>Risk</th>\n",
       "      <th>Address</th>\n",
       "      <th>Zip</th>\n",
       "      <th>Inspection Date</th>\n",
       "      <th>Inspection Type</th>\n",
       "      <th>Results</th>\n",
       "      <th>Latitude</th>\n",
       "      <th>Longitude</th>\n",
       "      <th>Y</th>\n",
       "      <th>inspection_dt</th>\n",
       "    </tr>\n",
       "  </thead>\n",
       "  <tbody>\n",
       "    <tr>\n",
       "      <th>1</th>\n",
       "      <td>1970772</td>\n",
       "      <td>STARBUCKS COFFEE #2827</td>\n",
       "      <td>STARBUCKS COFFEE #2827</td>\n",
       "      <td>2093906.0</td>\n",
       "      <td>Restaurant</td>\n",
       "      <td>Risk 2 (Medium)</td>\n",
       "      <td>1174 E 55TH ST</td>\n",
       "      <td>60615.0</td>\n",
       "      <td>11/3/16</td>\n",
       "      <td>Canvass</td>\n",
       "      <td>Pass</td>\n",
       "      <td>41.795175</td>\n",
       "      <td>-87.596601</td>\n",
       "      <td>0.0</td>\n",
       "      <td>2016-11-03</td>\n",
       "    </tr>\n",
       "    <tr>\n",
       "      <th>3</th>\n",
       "      <td>1955335</td>\n",
       "      <td>CHIPOTLE MEXICAN GRILL#2768</td>\n",
       "      <td>CHIPOTLE</td>\n",
       "      <td>2476569.0</td>\n",
       "      <td>Restaurant</td>\n",
       "      <td>Risk 1 (High)</td>\n",
       "      <td>806 W 63RD ST</td>\n",
       "      <td>60621.0</td>\n",
       "      <td>11/2/16</td>\n",
       "      <td>License Re-Inspection</td>\n",
       "      <td>Pass</td>\n",
       "      <td>41.779856</td>\n",
       "      <td>-87.645142</td>\n",
       "      <td>0.0</td>\n",
       "      <td>2016-11-02</td>\n",
       "    </tr>\n",
       "    <tr>\n",
       "      <th>4</th>\n",
       "      <td>1955334</td>\n",
       "      <td>CHIPOTLE MEXICAN GRILL#2768</td>\n",
       "      <td>CHIPOTLE</td>\n",
       "      <td>2476568.0</td>\n",
       "      <td>Restaurant</td>\n",
       "      <td>Risk 1 (High)</td>\n",
       "      <td>806 W 63RD ST</td>\n",
       "      <td>60621.0</td>\n",
       "      <td>11/2/16</td>\n",
       "      <td>License Re-Inspection</td>\n",
       "      <td>Pass</td>\n",
       "      <td>41.779856</td>\n",
       "      <td>-87.645142</td>\n",
       "      <td>0.0</td>\n",
       "      <td>2016-11-02</td>\n",
       "    </tr>\n",
       "    <tr>\n",
       "      <th>5</th>\n",
       "      <td>1970747</td>\n",
       "      <td>SUBWAY #4267</td>\n",
       "      <td>SUBWAY</td>\n",
       "      <td>2354431.0</td>\n",
       "      <td>Restaurant</td>\n",
       "      <td>Risk 1 (High)</td>\n",
       "      <td>115 E 51ST ST</td>\n",
       "      <td>60615.0</td>\n",
       "      <td>11/2/16</td>\n",
       "      <td>Canvass</td>\n",
       "      <td>Pass w/ Conditions</td>\n",
       "      <td>41.801902</td>\n",
       "      <td>-87.621926</td>\n",
       "      <td>0.0</td>\n",
       "      <td>2016-11-02</td>\n",
       "    </tr>\n",
       "    <tr>\n",
       "      <th>6</th>\n",
       "      <td>1970728</td>\n",
       "      <td>SANTULLO'S EATERY</td>\n",
       "      <td>SANTULLO'S EATERY</td>\n",
       "      <td>1767714.0</td>\n",
       "      <td>Restaurant</td>\n",
       "      <td>Risk 1 (High)</td>\n",
       "      <td>1943-1945 W NORTH AVE</td>\n",
       "      <td>60622.0</td>\n",
       "      <td>11/2/16</td>\n",
       "      <td>Complaint</td>\n",
       "      <td>Fail</td>\n",
       "      <td>41.910387</td>\n",
       "      <td>-87.676831</td>\n",
       "      <td>1.0</td>\n",
       "      <td>2016-11-02</td>\n",
       "    </tr>\n",
       "  </tbody>\n",
       "</table>\n",
       "</div>"
      ],
      "text/plain": [
       "   Inspection ID                     DBA Name                AKA Name  \\\n",
       "1        1970772       STARBUCKS COFFEE #2827  STARBUCKS COFFEE #2827   \n",
       "3        1955335  CHIPOTLE MEXICAN GRILL#2768                CHIPOTLE   \n",
       "4        1955334  CHIPOTLE MEXICAN GRILL#2768                CHIPOTLE   \n",
       "5        1970747                 SUBWAY #4267                  SUBWAY   \n",
       "6        1970728            SANTULLO'S EATERY       SANTULLO'S EATERY   \n",
       "\n",
       "   License # Facility Type             Risk                 Address      Zip  \\\n",
       "1  2093906.0    Restaurant  Risk 2 (Medium)         1174 E 55TH ST   60615.0   \n",
       "3  2476569.0    Restaurant    Risk 1 (High)          806 W 63RD ST   60621.0   \n",
       "4  2476568.0    Restaurant    Risk 1 (High)          806 W 63RD ST   60621.0   \n",
       "5  2354431.0    Restaurant    Risk 1 (High)          115 E 51ST ST   60615.0   \n",
       "6  1767714.0    Restaurant    Risk 1 (High)  1943-1945 W NORTH AVE   60622.0   \n",
       "\n",
       "  Inspection Date        Inspection Type             Results   Latitude  \\\n",
       "1         11/3/16                Canvass                Pass  41.795175   \n",
       "3         11/2/16  License Re-Inspection                Pass  41.779856   \n",
       "4         11/2/16  License Re-Inspection                Pass  41.779856   \n",
       "5         11/2/16                Canvass  Pass w/ Conditions  41.801902   \n",
       "6         11/2/16              Complaint                Fail  41.910387   \n",
       "\n",
       "   Longitude    Y inspection_dt  \n",
       "1 -87.596601  0.0    2016-11-03  \n",
       "3 -87.645142  0.0    2016-11-02  \n",
       "4 -87.645142  0.0    2016-11-02  \n",
       "5 -87.621926  0.0    2016-11-02  \n",
       "6 -87.676831  1.0    2016-11-02  "
      ]
     },
     "execution_count": 23,
     "metadata": {},
     "output_type": "execute_result"
    }
   ],
   "source": [
    "#avg # inspections per year\n",
    "rest[\"inspection_dt\"] = pd.to_datetime(rest[\"Inspection Date\"])\n",
    "rest.head()"
   ]
  },
  {
   "cell_type": "code",
   "execution_count": 24,
   "metadata": {
    "collapsed": false
   },
   "outputs": [
    {
     "data": {
      "text/html": [
       "<div>\n",
       "<table border=\"1\" class=\"dataframe\">\n",
       "  <thead>\n",
       "    <tr style=\"text-align: right;\">\n",
       "      <th></th>\n",
       "      <th></th>\n",
       "      <th>Results</th>\n",
       "    </tr>\n",
       "    <tr>\n",
       "      <th>License #</th>\n",
       "      <th>inspection_dt</th>\n",
       "      <th></th>\n",
       "    </tr>\n",
       "  </thead>\n",
       "  <tbody>\n",
       "    <tr>\n",
       "      <th rowspan=\"5\" valign=\"top\">0.0</th>\n",
       "      <th>2010</th>\n",
       "      <td>5</td>\n",
       "    </tr>\n",
       "    <tr>\n",
       "      <th>2011</th>\n",
       "      <td>8</td>\n",
       "    </tr>\n",
       "    <tr>\n",
       "      <th>2012</th>\n",
       "      <td>20</td>\n",
       "    </tr>\n",
       "    <tr>\n",
       "      <th>2013</th>\n",
       "      <td>8</td>\n",
       "    </tr>\n",
       "    <tr>\n",
       "      <th>2014</th>\n",
       "      <td>9</td>\n",
       "    </tr>\n",
       "  </tbody>\n",
       "</table>\n",
       "</div>"
      ],
      "text/plain": [
       "                         Results\n",
       "License # inspection_dt         \n",
       "0.0       2010                 5\n",
       "          2011                 8\n",
       "          2012                20\n",
       "          2013                 8\n",
       "          2014                 9"
      ]
     },
     "execution_count": 24,
     "metadata": {},
     "output_type": "execute_result"
    }
   ],
   "source": [
    "dt_grp = rest[[\"Results\", \"License #\"]].groupby([\"License #\", rest[\"inspection_dt\"].dt.year]).count()\n",
    "dt_grp.head()"
   ]
  },
  {
   "cell_type": "code",
   "execution_count": 25,
   "metadata": {
    "collapsed": false
   },
   "outputs": [
    {
     "data": {
      "text/plain": [
       "1.4967281380130875"
      ]
     },
     "execution_count": 25,
     "metadata": {},
     "output_type": "execute_result"
    }
   ],
   "source": [
    "temp = dt_grp[\"Results\"].reset_index()\n",
    "temp[temp.inspection_dt == 2016][\"Results\"].mean()"
   ]
  },
  {
   "cell_type": "markdown",
   "metadata": {},
   "source": [
    "## Repeat Offenders"
   ]
  },
  {
   "cell_type": "markdown",
   "metadata": {},
   "source": [
    "The average number inspections per license. This might be interesting to consider how a particular establishment compares to the mean, and their failure rate."
   ]
  },
  {
   "cell_type": "code",
   "execution_count": 26,
   "metadata": {
    "collapsed": false
   },
   "outputs": [
    {
     "data": {
      "text/plain": [
       "<matplotlib.legend.Legend at 0x1172f6e10>"
      ]
     },
     "execution_count": 26,
     "metadata": {},
     "output_type": "execute_result"
    },
    {
     "data": {
      "image/png": "[encoded data removed]",
      "text/plain": [
       "<matplotlib.figure.Figure at 0x1172f6ed0>"
      ]
     },
     "metadata": {},
     "output_type": "display_data"
    }
   ],
   "source": [
    "#previous failure have any bearing on next? show prop of failures with a previous one\n",
    "#let's take only 2016 and see if any failure in the past\n",
    "#we'll recode 2016 and past.. and see if there's any correlation between them\n",
    "#let's calculate P(Y=1|Y_past=1) vs P(Y=1)\n",
    "previous_fails = pd.DataFrame()\n",
    "this_year = rest[rest[\"inspection_dt\"].dt.year == 2016]\n",
    "previous_years = rest[rest[\"inspection_dt\"].dt.year < 2016]\n",
    "temp = this_year[[\"License #\", \"Y\"]].groupby(\"License #\").max()\n",
    "\n",
    "previous_fails = temp\n",
    "previous_fails = previous_fails.reset_index(\"License #\")\n",
    "\n",
    "temp = previous_years[[\"License #\", \"Y\"]].groupby(\"License #\").max()\n",
    "previous_fails[\"previous_F\"] = temp.reset_index()[\"Y\"]\n",
    "\n",
    "#let's do some calculations and plotting:\n",
    "\n",
    "#plt.hist(previous_fails[previous_fails[\"Y\"] == previous_fails[\"previous_F\"]][\"Y\"])\n",
    "repeat_fail = previous_fails[(previous_fails[\"Y\"] == 1) & (previous_fails[\"previous_F\"] == 1)][\"Y\"].count()\n",
    "new_fail = previous_fails[(previous_fails[\"Y\"] == 1) & (previous_fails[\"previous_F\"] == 0)][\"Y\"].count()\n",
    "repeat_pass = previous_fails[(previous_fails[\"Y\"] == 0) & (previous_fails[\"previous_F\"] == 0)][\"Y\"].count()\n",
    "new_pass = previous_fails[(previous_fails[\"Y\"] == 0) & (previous_fails[\"previous_F\"] == 1)][\"Y\"].count()\n",
    "repeats = [repeat_fail, repeat_pass]\n",
    "plt.bar([1,0],[repeat_fail, repeat_pass], label=\"Repeat\", color='#F1911E')\n",
    "plt.bar([1,0], [new_fail, new_pass], bottom=[repeat_fail, repeat_pass], label=\"New\", color='#F1BD1A')\n",
    "plt.xticks([1,0], (\"Fail\", \"Pass\"))\n",
    "\n",
    "plt.legend(loc=\"best\")"
   ]
  },
  {
   "cell_type": "markdown",
   "metadata": {},
   "source": [
    "This is a bar plot of the repeat vs new pass/fail. The dark color is the repeat passers (good businesses) and failures (repeat offenders). the lighter color are first time passers and first time offenders."
   ]
  },
  {
   "cell_type": "code",
   "execution_count": 28,
   "metadata": {
    "collapsed": false
   },
   "outputs": [],
   "source": [
    "#risk?\n",
    "failures_by_risk = rest[[\"Results\", \"Risk\"]].groupby(\"Risk\").count()\n",
    "failures_by_risk[failures_by_risk[\"Risk\"]]"
   ]
  },
  {
   "cell_type": "code",
   "execution_count": 29,
   "metadata": {
    "collapsed": false
   },
   "outputs": [
    {
     "data": {
      "text/plain": [
       "0.20896865533543735"
      ]
     },
     "execution_count": 29,
     "metadata": {},
     "output_type": "execute_result"
    }
   ],
   "source": [
    "#overall probability of failing:\n",
    "rest[rest[\"Y\"] == 1].shape[0]/float(rest.shape[0])"
   ]
  },
  {
   "cell_type": "markdown",
   "metadata": {},
   "source": [
    "## Risk Score"
   ]
  },
  {
   "cell_type": "code",
   "execution_count": 30,
   "metadata": {
    "collapsed": false
   },
   "outputs": [
    {
     "name": "stdout",
     "output_type": "stream",
     "text": [
      "P(Risk=1|Y=1) = 0.799418\n",
      "P(Risk=1) = 0.792273\n",
      "# of Risk 1 passing = 49328.000000\n",
      "P(Risk=2|Y=1) = 0.187117\n",
      "P(Risk=2) = 0.197435\n",
      "# of Risk 2 passing = 12492.000000\n",
      "P(Risk=3|Y=1) = 0.013223\n",
      "P(Risk=3) = 0.010241\n",
      "# of Risk 4 passing = 590.000000\n"
     ]
    }
   ],
   "source": [
    "#how do the risk categories compare?\n",
    "failures = rest[rest[\"Y\"] == 1]\n",
    "\n",
    "print \"P(Risk=1|Y=1) = %4f\" % (failures[failures[\"Risk\"] == \"Risk 1 (High)\"].shape[0]/float(failures.shape[0]))\n",
    "print \"P(Risk=1) = %4f\" % (rest[rest[\"Risk\"] == \"Risk 1 (High)\"].shape[0]/float(rest.shape[0]))\n",
    "print \"# of Risk 1 passing = %4f\" % (rest[(rest[\"Risk\"] == \"Risk 1 (High)\") & (rest[\"Y\"] == 0)].shape[0])\n",
    "\n",
    "print \"P(Risk=2|Y=1) = %4f\" % (failures[failures[\"Risk\"] == \"Risk 2 (Medium)\"].shape[0]/float(failures.shape[0]))\n",
    "print \"P(Risk=2) = %4f\" % (rest[rest[\"Risk\"] == \"Risk 2 (Medium)\"].shape[0]/float(rest.shape[0]))\n",
    "print \"# of Risk 2 passing = %4f\" % (rest[(rest[\"Risk\"] == \"Risk 2 (Medium)\") & (rest[\"Y\"] == 0)].shape[0])\n",
    "\n",
    "print \"P(Risk=3|Y=1) = %4f\" % (failures[failures[\"Risk\"] == \"Risk 3 (Low)\"].shape[0]/float(failures.shape[0]))\n",
    "print \"P(Risk=3) = %4f\" % (rest[rest[\"Risk\"] == \"Risk 3 (Low)\"].shape[0]/float(rest.shape[0]))\n",
    "print \"# of Risk 4 passing = %4f\" % (rest[(rest[\"Risk\"] == \"Risk 3 (Low)\") & (rest[\"Y\"] == 0)].shape[0])"
   ]
  },
  {
   "cell_type": "markdown",
   "metadata": {},
   "source": [
    "Risk is interesting. Are they assessed this after inspection, or by the license type before hand? In any case, Failure seems to strongly follow risk for whatever reason."
   ]
  },
  {
   "cell_type": "markdown",
   "metadata": {
    "collapsed": true
   },
   "source": [
    "## Failures by month"
   ]
  },
  {
   "cell_type": "code",
   "execution_count": 31,
   "metadata": {
    "collapsed": false
   },
   "outputs": [
    {
     "data": {
      "text/html": [
       "<div>\n",
       "<table border=\"1\" class=\"dataframe\">\n",
       "  <thead>\n",
       "    <tr style=\"text-align: right;\">\n",
       "      <th></th>\n",
       "      <th>failures</th>\n",
       "      <th>total</th>\n",
       "      <th>fail_prop</th>\n",
       "    </tr>\n",
       "  </thead>\n",
       "  <tbody>\n",
       "    <tr>\n",
       "      <th>0</th>\n",
       "      <td>1233</td>\n",
       "      <td>6288</td>\n",
       "      <td>0.196088</td>\n",
       "    </tr>\n",
       "    <tr>\n",
       "      <th>1</th>\n",
       "      <td>1246</td>\n",
       "      <td>6078</td>\n",
       "      <td>0.205002</td>\n",
       "    </tr>\n",
       "    <tr>\n",
       "      <th>2</th>\n",
       "      <td>1397</td>\n",
       "      <td>7201</td>\n",
       "      <td>0.194001</td>\n",
       "    </tr>\n",
       "    <tr>\n",
       "      <th>3</th>\n",
       "      <td>1417</td>\n",
       "      <td>6903</td>\n",
       "      <td>0.205273</td>\n",
       "    </tr>\n",
       "    <tr>\n",
       "      <th>4</th>\n",
       "      <td>1496</td>\n",
       "      <td>7216</td>\n",
       "      <td>0.207317</td>\n",
       "    </tr>\n",
       "    <tr>\n",
       "      <th>5</th>\n",
       "      <td>1594</td>\n",
       "      <td>7432</td>\n",
       "      <td>0.214478</td>\n",
       "    </tr>\n",
       "    <tr>\n",
       "      <th>6</th>\n",
       "      <td>1449</td>\n",
       "      <td>6494</td>\n",
       "      <td>0.223129</td>\n",
       "    </tr>\n",
       "    <tr>\n",
       "      <th>7</th>\n",
       "      <td>1669</td>\n",
       "      <td>7487</td>\n",
       "      <td>0.222920</td>\n",
       "    </tr>\n",
       "    <tr>\n",
       "      <th>8</th>\n",
       "      <td>1651</td>\n",
       "      <td>7132</td>\n",
       "      <td>0.231492</td>\n",
       "    </tr>\n",
       "    <tr>\n",
       "      <th>9</th>\n",
       "      <td>1417</td>\n",
       "      <td>6806</td>\n",
       "      <td>0.208199</td>\n",
       "    </tr>\n",
       "    <tr>\n",
       "      <th>10</th>\n",
       "      <td>1069</td>\n",
       "      <td>5333</td>\n",
       "      <td>0.200450</td>\n",
       "    </tr>\n",
       "    <tr>\n",
       "      <th>11</th>\n",
       "      <td>849</td>\n",
       "      <td>4527</td>\n",
       "      <td>0.187541</td>\n",
       "    </tr>\n",
       "  </tbody>\n",
       "</table>\n",
       "</div>"
      ],
      "text/plain": [
       "    failures  total  fail_prop\n",
       "0       1233   6288   0.196088\n",
       "1       1246   6078   0.205002\n",
       "2       1397   7201   0.194001\n",
       "3       1417   6903   0.205273\n",
       "4       1496   7216   0.207317\n",
       "5       1594   7432   0.214478\n",
       "6       1449   6494   0.223129\n",
       "7       1669   7487   0.222920\n",
       "8       1651   7132   0.231492\n",
       "9       1417   6806   0.208199\n",
       "10      1069   5333   0.200450\n",
       "11       849   4527   0.187541"
      ]
     },
     "execution_count": 31,
     "metadata": {},
     "output_type": "execute_result"
    }
   ],
   "source": [
    "failures = rest[rest[\"Y\"] == 1]\n",
    "month_fail_grp = failures[[\"Results\"]].groupby(failures[\"inspection_dt\"].dt.month).count()\n",
    "month_fail_grp = month_fail_grp.reset_index()\n",
    "\n",
    "month_all_grp = rest[[\"Results\"]].groupby(rest[\"inspection_dt\"].dt.month).count()\n",
    "month_all_grp = month_all_grp.reset_index()\n",
    "\n",
    "df_by_month = pd.DataFrame()\n",
    "df_by_month[\"failures\"] = month_fail_grp[\"Results\"]\n",
    "df_by_month[\"total\"] = month_all_grp[\"Results\"]\n",
    "df_by_month[\"fail_prop\"] = df_by_month[\"failures\"]/df_by_month[\"total\"]\n",
    "\n",
    "df_by_month"
   ]
  },
  {
   "cell_type": "code",
   "execution_count": 32,
   "metadata": {
    "collapsed": false
   },
   "outputs": [
    {
     "data": {
      "text/plain": [
       "<matplotlib.text.Text at 0x1196a4210>"
      ]
     },
     "execution_count": 32,
     "metadata": {},
     "output_type": "execute_result"
    },
    {
     "data": {
      "image/png": "[encoded data removed]",
      "text/plain": [
       "<matplotlib.figure.Figure at 0x11933cb10>"
      ]
     },
     "metadata": {},
     "output_type": "display_data"
    }
   ],
   "source": [
    "plt.bar([0,1,2,3,4,5,6,7,8,9,10,11],df_by_month[\"fail_prop\"], label=\"Failures\", color='#F1911E')\n",
    "plt.xticks([0,1,2,3,4,5,6,7,8,9,10,11], (\"Jan\", \"Feb\", \"Mar\", \"April\", \"May\", \"Jun\", \"Jul\", \"Aug\", \"Sept\", \"Nov\", \"Dec\"))\n",
    "plt.legend(loc=\"best\")\n",
    "plt.title(\"Proportion of Failures by Month\")"
   ]
  },
  {
   "cell_type": "code",
   "execution_count": 33,
   "metadata": {
    "collapsed": false
   },
   "outputs": [
    {
     "data": {
      "text/html": [
       "<div>\n",
       "<table border=\"1\" class=\"dataframe\">\n",
       "  <thead>\n",
       "    <tr style=\"text-align: right;\">\n",
       "      <th></th>\n",
       "      <th>failures</th>\n",
       "      <th>total</th>\n",
       "      <th>fail_prop</th>\n",
       "    </tr>\n",
       "  </thead>\n",
       "  <tbody>\n",
       "    <tr>\n",
       "      <th>0</th>\n",
       "      <td>2872</td>\n",
       "      <td>13243</td>\n",
       "      <td>0.216869</td>\n",
       "    </tr>\n",
       "    <tr>\n",
       "      <th>1</th>\n",
       "      <td>3907</td>\n",
       "      <td>17821</td>\n",
       "      <td>0.219236</td>\n",
       "    </tr>\n",
       "    <tr>\n",
       "      <th>2</th>\n",
       "      <td>2832</td>\n",
       "      <td>14333</td>\n",
       "      <td>0.197586</td>\n",
       "    </tr>\n",
       "    <tr>\n",
       "      <th>3</th>\n",
       "      <td>3849</td>\n",
       "      <td>18205</td>\n",
       "      <td>0.211425</td>\n",
       "    </tr>\n",
       "    <tr>\n",
       "      <th>4</th>\n",
       "      <td>3019</td>\n",
       "      <td>15265</td>\n",
       "      <td>0.197773</td>\n",
       "    </tr>\n",
       "    <tr>\n",
       "      <th>5</th>\n",
       "      <td>8</td>\n",
       "      <td>26</td>\n",
       "      <td>0.307692</td>\n",
       "    </tr>\n",
       "  </tbody>\n",
       "</table>\n",
       "</div>"
      ],
      "text/plain": [
       "   failures  total  fail_prop\n",
       "0      2872  13243   0.216869\n",
       "1      3907  17821   0.219236\n",
       "2      2832  14333   0.197586\n",
       "3      3849  18205   0.211425\n",
       "4      3019  15265   0.197773\n",
       "5         8     26   0.307692"
      ]
     },
     "execution_count": 33,
     "metadata": {},
     "output_type": "execute_result"
    }
   ],
   "source": [
    "failures = rest[rest[\"Y\"] == 1]\n",
    "day_fail_grp = failures[[\"Results\"]].groupby(failures[\"inspection_dt\"].dt.weekday).count()\n",
    "day_fail_grp = day_fail_grp.reset_index()\n",
    "\n",
    "day_all_grp = rest[[\"Results\"]].groupby(rest[\"inspection_dt\"].dt.weekday).count()\n",
    "day_all_grp = day_all_grp.reset_index()\n",
    "\n",
    "df_by_day = pd.DataFrame()\n",
    "df_by_day[\"failures\"] = day_fail_grp[\"Results\"]\n",
    "df_by_day[\"total\"] = day_all_grp[\"Results\"]\n",
    "df_by_day[\"fail_prop\"] = df_by_day[\"failures\"]/df_by_day[\"total\"]\n",
    "\n",
    "df_by_day"
   ]
  },
  {
   "cell_type": "code",
   "execution_count": 35,
   "metadata": {
    "collapsed": false
   },
   "outputs": [
    {
     "data": {
      "text/plain": [
       "<matplotlib.text.Text at 0x120c3dd10>"
      ]
     },
     "execution_count": 35,
     "metadata": {},
     "output_type": "execute_result"
    },
    {
     "data": {
      "image/png": "[encoded data removed]",
      "text/plain": [
       "<matplotlib.figure.Figure at 0x1197b3d10>"
      ]
     },
     "metadata": {},
     "output_type": "display_data"
    }
   ],
   "source": [
    "plt.bar([0,1,2,3,4,5],df_by_day[\"fail_prop\"], label=\"Failures\", color='#F1911E')\n",
    "plt.xticks([0,1,2,3,4,5], (\"Mon\", \"Tues\", \"Weds\", \"Thurs\", \"Fri\", \"Sat\"))\n",
    "plt.legend(loc=\"best\")\n",
    "plt.title(\"Proportion of Failures by Day of Week\")"
   ]
  },
  {
   "cell_type": "markdown",
   "metadata": {},
   "source": [
    "# Actual Cleanup Starts Here"
   ]
  },
  {
   "cell_type": "code",
   "execution_count": 180,
   "metadata": {
    "collapsed": false
   },
   "outputs": [
    {
     "data": {
      "text/html": [
       "<div>\n",
       "<table border=\"1\" class=\"dataframe\">\n",
       "  <thead>\n",
       "    <tr style=\"text-align: right;\">\n",
       "      <th></th>\n",
       "      <th>Inspection ID</th>\n",
       "      <th>DBA Name</th>\n",
       "      <th>AKA Name</th>\n",
       "      <th>License #</th>\n",
       "      <th>Facility Type</th>\n",
       "      <th>Risk</th>\n",
       "      <th>Address</th>\n",
       "      <th>City</th>\n",
       "      <th>State</th>\n",
       "      <th>Zip</th>\n",
       "      <th>Inspection Date</th>\n",
       "      <th>Inspection Type</th>\n",
       "      <th>Results</th>\n",
       "      <th>Violations</th>\n",
       "      <th>Latitude</th>\n",
       "      <th>Longitude</th>\n",
       "      <th>Location</th>\n",
       "    </tr>\n",
       "  </thead>\n",
       "  <tbody>\n",
       "    <tr>\n",
       "      <th>0</th>\n",
       "      <td>1970782</td>\n",
       "      <td>MARINO'S DISTRIBUTION , INC.</td>\n",
       "      <td>MARINO'S DISTRIBUTION</td>\n",
       "      <td>2495906.0</td>\n",
       "      <td>Grocery Store</td>\n",
       "      <td>Risk 3 (Low)</td>\n",
       "      <td>3939 S KEDZIE AVE</td>\n",
       "      <td>CHICAGO</td>\n",
       "      <td>IL</td>\n",
       "      <td>60632.0</td>\n",
       "      <td>11/03/2016</td>\n",
       "      <td>License</td>\n",
       "      <td>Pass</td>\n",
       "      <td>32. FOOD AND NON-FOOD CONTACT SURFACES PROPERL...</td>\n",
       "      <td>41.821458</td>\n",
       "      <td>-87.70435</td>\n",
       "      <td>(41.82145816352694, -87.70435016027005)</td>\n",
       "    </tr>\n",
       "  </tbody>\n",
       "</table>\n",
       "</div>"
      ],
      "text/plain": [
       "   Inspection ID                      DBA Name               AKA Name  \\\n",
       "0        1970782  MARINO'S DISTRIBUTION , INC.  MARINO'S DISTRIBUTION   \n",
       "\n",
       "   License #  Facility Type          Risk             Address     City State  \\\n",
       "0  2495906.0  Grocery Store  Risk 3 (Low)  3939 S KEDZIE AVE   CHICAGO    IL   \n",
       "\n",
       "       Zip Inspection Date Inspection Type Results  \\\n",
       "0  60632.0      11/03/2016         License    Pass   \n",
       "\n",
       "                                          Violations   Latitude  Longitude  \\\n",
       "0  32. FOOD AND NON-FOOD CONTACT SURFACES PROPERL...  41.821458  -87.70435   \n",
       "\n",
       "                                  Location  \n",
       "0  (41.82145816352694, -87.70435016027005)  "
      ]
     },
     "execution_count": 180,
     "metadata": {},
     "output_type": "execute_result"
    }
   ],
   "source": [
    "#let's take the last year\n",
    "#aggregate per license for past inspections\n",
    "#do we want distinct inspections or licenses?\n",
    "df = pd.read_csv('Food_Inspections.csv')\n",
    "df.head(1)"
   ]
  },
  {
   "cell_type": "code",
   "execution_count": 181,
   "metadata": {
    "collapsed": false
   },
   "outputs": [
    {
     "data": {
      "text/plain": [
       "array(['Pass', 'Pass w/ Conditions', 'Fail', 'No Entry', 'Not Ready',\n",
       "       'Out of Business', 'Business Not Located'], dtype=object)"
      ]
     },
     "execution_count": 181,
     "metadata": {},
     "output_type": "execute_result"
    }
   ],
   "source": [
    "df.Results.unique()"
   ]
  },
  {
   "cell_type": "code",
   "execution_count": 182,
   "metadata": {
    "collapsed": false
   },
   "outputs": [],
   "source": [
    "#Clean up our classes\n",
    "#let's set up some classes... 0=fail, 1=pass, 2=pass with conditions\n",
    "df.loc[df.Results == 'Fail', 'Y'] = 0\n",
    "df.loc[df.Results == 'Pass', 'Y'] = 1\n",
    "df.loc[df.Results == 'Pass w/ Conditions', 'Y'] = 2\n",
    "\n",
    "#remove the other results rows\n",
    "df = df[(df.Results == 'Pass') | (df.Results == 'Fail') | (df.Results == 'Pass w/ Conditions')]\n"
   ]
  },
  {
   "cell_type": "code",
   "execution_count": 183,
   "metadata": {
    "collapsed": true
   },
   "outputs": [],
   "source": [
    "df.loc[df.Results == 'Fail', 'Y_fail'] = 1\n",
    "df.loc[df.Results != 'Fail', 'Y_fail'] = 0"
   ]
  },
  {
   "cell_type": "code",
   "execution_count": 184,
   "metadata": {
    "collapsed": false
   },
   "outputs": [
    {
     "data": {
      "text/html": [
       "<div>\n",
       "<table border=\"1\" class=\"dataframe\">\n",
       "  <thead>\n",
       "    <tr style=\"text-align: right;\">\n",
       "      <th></th>\n",
       "      <th>License #</th>\n",
       "      <th>Risk</th>\n",
       "      <th>Zip</th>\n",
       "      <th>Inspection Date</th>\n",
       "      <th>Inspection Type</th>\n",
       "      <th>Results</th>\n",
       "      <th>Violations</th>\n",
       "      <th>Latitude</th>\n",
       "      <th>Longitude</th>\n",
       "      <th>Y</th>\n",
       "      <th>Y_fail</th>\n",
       "    </tr>\n",
       "  </thead>\n",
       "  <tbody>\n",
       "    <tr>\n",
       "      <th>0</th>\n",
       "      <td>2495906.0</td>\n",
       "      <td>Risk 3 (Low)</td>\n",
       "      <td>60632.0</td>\n",
       "      <td>11/03/2016</td>\n",
       "      <td>License</td>\n",
       "      <td>Pass</td>\n",
       "      <td>32. FOOD AND NON-FOOD CONTACT SURFACES PROPERL...</td>\n",
       "      <td>41.821458</td>\n",
       "      <td>-87.70435</td>\n",
       "      <td>1.0</td>\n",
       "      <td>0.0</td>\n",
       "    </tr>\n",
       "  </tbody>\n",
       "</table>\n",
       "</div>"
      ],
      "text/plain": [
       "   License #          Risk      Zip Inspection Date Inspection Type Results  \\\n",
       "0  2495906.0  Risk 3 (Low)  60632.0      11/03/2016         License    Pass   \n",
       "\n",
       "                                          Violations   Latitude  Longitude  \\\n",
       "0  32. FOOD AND NON-FOOD CONTACT SURFACES PROPERL...  41.821458  -87.70435   \n",
       "\n",
       "     Y  Y_fail  \n",
       "0  1.0     0.0  "
      ]
     },
     "execution_count": 184,
     "metadata": {},
     "output_type": "execute_result"
    }
   ],
   "source": [
    "#drop columns we don't care about\n",
    "df = df.drop('Location', 1) #just a dupe of Latitude/longitude\n",
    "df = df.drop('State', 1) #they're all chicago\n",
    "df = df.drop('City', 1)\n",
    "df = df.drop('Inspection ID', 1) #since we're going to aggregate anyway\n",
    "df = df.drop('DBA Name', 1) #this is in the licenses anyway\n",
    "df = df.drop('AKA Name', 1) #this is in the licenses anyway\n",
    "df = df.drop('Address', 1) #this is in the licenses anyway\n",
    "df = df.drop('Facility Type', 1) #this is in the licenses anyway, and is hand entered here... so very bad data\n",
    "\n",
    "df.head(1)"
   ]
  },
  {
   "cell_type": "code",
   "execution_count": 185,
   "metadata": {
    "collapsed": false
   },
   "outputs": [
    {
     "data": {
      "text/plain": [
       "26524"
      ]
     },
     "execution_count": 185,
     "metadata": {},
     "output_type": "execute_result"
    }
   ],
   "source": [
    "df[\"License #\"].unique().shape[0]\n",
    "#this is bigger than unique businesses, so they have multiple licenses... too bad I don't know the type..."
   ]
  },
  {
   "cell_type": "code",
   "execution_count": 186,
   "metadata": {
    "collapsed": false
   },
   "outputs": [
    {
     "data": {
      "text/plain": [
       "118520"
      ]
     },
     "execution_count": 186,
     "metadata": {},
     "output_type": "execute_result"
    }
   ],
   "source": [
    "df.shape[0]"
   ]
  },
  {
   "cell_type": "code",
   "execution_count": 187,
   "metadata": {
    "collapsed": true
   },
   "outputs": [],
   "source": [
    "df_lic = df.copy()"
   ]
  },
  {
   "cell_type": "markdown",
   "metadata": {},
   "source": [
    "## Recoding the Facility Type and Inspection Type"
   ]
  },
  {
   "cell_type": "code",
   "execution_count": 188,
   "metadata": {
    "collapsed": false
   },
   "outputs": [
    {
     "data": {
      "text/plain": [
       "array(['License', 'Canvass', 'License Re-Inspection', 'Complaint',\n",
       "       'Complaint Re-Inspection', 'Canvass Re-Inspection',\n",
       "       'Short Form Complaint', 'Recent Inspection',\n",
       "       'Suspected Food Poisoning Re-inspection',\n",
       "       'Suspected Food Poisoning', 'Tag Removal', 'Consultation',\n",
       "       'Special Events (Festivals)', nan, 'Complaint-Fire Re-inspection',\n",
       "       'Complaint-Fire', 'Short Form Fire-Complaint', 'Non-Inspection',\n",
       "       'License-Task Force', 'CORRECTIVE ACTION',\n",
       "       'OWNER SUSPENDED OPERATION/LICENSE', 'LICENSE CONSULTATION',\n",
       "       'License consultation', 'Task Force Liquor 1475',\n",
       "       'Illegal Operation', 'fire complaint', 'Package Liquor 1474',\n",
       "       'Not Ready', 'TWO PEOPLE ATE AND GOT SICK.',\n",
       "       'Pre-License Consultation', 'CANVASS SPECIAL EVENTS',\n",
       "       'CANVASS SCHOOL/SPECIAL EVENT', 'No entry', 'NO ENTRY',\n",
       "       'TASK FORCE LIQUOR 1470', 'no entry', 'Out of Business',\n",
       "       'Sample Collection', 'license task 1474', 'FIRE/COMPLAIN',\n",
       "       'Task Force for liquor 1474', 'ADDENDUM',\n",
       "       '1315 license reinspection', 'Task force liquor inspection 1474',\n",
       "       'Task Force Liquor Catering', 'SFP', 'CANVAS', 'SFP/COMPLAINT',\n",
       "       'TASK FORCE NIGHT', 'SFP/Complaint', 'expansion', 'OUT OF BUSINESS',\n",
       "       'SMOKING COMPLAINT', 'SFP RECENTLY INSPECTED', 'TAVERN 1470',\n",
       "       'LICENSE RENEWAL INSPECTION FOR DAYCARE',\n",
       "       'LICENSE RENEWAL FOR DAYCARE', 'CANVASS RE INSPECTION OF CLOSE UP',\n",
       "       'TASKFORCE', 'LICENSE TASK FORCE / NOT -FOR-PROFIT CLUB',\n",
       "       'LICENSE TASK FORCE / NOT -FOR-PROFIT CLU', 'LICENSE/NOT READY',\n",
       "       'NO ENTRY-SHORT COMPLAINT)', 'CITF', 'KIDS CAFE',\n",
       "       'LICENSE DAYCARE 1586', 'task force(1470) liquor tavern',\n",
       "       'LICENSE WRONG ADDRESS', 'LICENSE REQUEST', 'error save',\n",
       "       'CHANGED COURT DATE', 'CANVASS/SPECIAL EVENT',\n",
       "       'DAY CARE LICENSE RENEWAL', 'LIQUOR CATERING', 'Summer Feeding',\n",
       "       'TASK FORCE PACKAGE LIQUOR', 'No Entry', 'citation re-issued',\n",
       "       'TASTE OF CHICAGO', 'LICENSE', 'HACCP QUESTIONAIRE',\n",
       "       'out ofbusiness', 'CLOSE-UP/COMPLAINT REINSPECTION',\n",
       "       'finish complaint inspection from 5-18-10', 'Duplicated', 'license',\n",
       "       'sfp/complaint', 'TASK FORCE LIQUOR (1481)', 'RECALL INSPECTION',\n",
       "       'Special Task Force', 'REINSPECTION OF 48 HOUR NOTICE',\n",
       "       'REINSPECTION', 'Business Not Located', 'CANVASS FOR RIB FEST',\n",
       "       'RE-INSPECTION OF CLOSE-UP', 'task force', 'SPECIAL TASK FORCE',\n",
       "       'LIQOUR TASK FORCE NOT READY', 'TASK FORCE NOT READY',\n",
       "       'POSSIBLE FBI', 'TASK FORCE LIQUOR 1474', \"Kids Cafe'\",\n",
       "       'TASK FORCE PACKAGE GOODS 1474'], dtype=object)"
      ]
     },
     "execution_count": 188,
     "metadata": {},
     "output_type": "execute_result"
    }
   ],
   "source": [
    "#let's recode facility type and inspection type\n",
    "df_lic[\"Inspection Type\"].unique()"
   ]
  },
  {
   "cell_type": "code",
   "execution_count": 189,
   "metadata": {
    "collapsed": true
   },
   "outputs": [],
   "source": [
    "def clean_column_values(data, column, values, set_to):\n",
    "    for v in values:\n",
    "        data.loc[data[column] == v, column] = set_to\n",
    "        "
   ]
  },
  {
   "cell_type": "markdown",
   "metadata": {},
   "source": [
    "This regroups to fix typos and similarly named items."
   ]
  },
  {
   "cell_type": "code",
   "execution_count": 190,
   "metadata": {
    "collapsed": true
   },
   "outputs": [],
   "source": [
    "#'Complaint', 'finish complaint inspection from 5-18-10'\n",
    "clean_column_values(df_lic, \"Inspection Type\", ['Complaint', 'finish complaint inspection from 5-18-10'], 'Complaint')\n",
    "\n",
    "#'CANVASS/SPECIAL EVENT', 'CANVASS SPECIAL EVENTS'\n",
    "clean_column_values(df_lic, \"Inspection Type\", ['CANVASS/SPECIAL EVENT', 'CANVASS FOR RIB FEST', 'CANVASS SPECIAL EVENTS'], 'CANVASS SPECIAL EVENTS')\n",
    "\n",
    "#'LIQUOR CATERING', 'Task Force Liquor Catering'\n",
    "clean_column_values(df_lic, \"Inspection Type\", ['LIQUOR CATERING', 'Task Force Liquor Catering'], 'Task Force Liquor Catering')\n",
    "\n",
    "#'CANVASS SPECIAL EVENTS', 'CANVASS SCHOOL/SPECIAL EVENT'\n",
    "clean_column_values(df_lic, \"Inspection Type\", ['CANVASS SPECIAL EVENTS', 'CANVASS SCHOOL/SPECIAL EVENT'], 'CANVASS SPECIAL EVENTS')\n",
    "\n",
    "#'license', 'License'\n",
    "clean_column_values(df_lic, \"Inspection Type\", ['license', 'License'], 'License')\n",
    "\n",
    "#'CLOSE-UP/COMPLAINT REINSPECTION', 'REINSPECTION OF CLOSE-UP'\n",
    "clean_column_values(df_lic, \"Inspection Type\", ['CLOSE-UP/COMPLAINT REINSPECTION', 'REINSPECTION OF CLOSE-UP'], 'REINSPECTION OF CLOSE-UP')\n",
    "\n",
    "#'1315 license reinspection', 'License Re-Inspection'\n",
    "clean_column_values(df_lic, \"Inspection Type\", ['1315 license reinspection', 'License Re-Inspection'], 'License Reinspection')\n",
    "     \n",
    "#'TASK FORCE LIQUOR 1470', 'Task Force 1470 Liquor Tavern', 'TASK FORCE LIQUOR 1470'\n",
    "clean_column_values(df_lic, \"Inspection Type\", ['TASK FORCE LIQUOR 1470', 'Task Force 1470 Liquor Tavern', 'TASK FORCE LIQUOR 1470'], 'Task Force 1470 Liquor Tavern')\n",
    "\n",
    "#'SPECIAL TASK FORCE', 'TASKFORCE', 'task force', 'Special Task Force'\n",
    "clean_column_values(df_lic, \"Inspection Type\", ['SPECIAL TASK FORCE', 'TASKFORCE', 'task force', 'Special Task Force'], 'Special Task Force')\n",
    "\n",
    "#'CANVASS RE INSPECTION OF CLOSE UP', 'RE-INSPECTION OF CLOSE-UP'\n",
    "clean_column_values(df_lic, \"Inspection Type\", ['CANVASS RE INSPECTION OF CLOSE UP', 'RE-INSPECTION OF CLOSE-UP'], 'REINSPECTION OF CLOSE-UP')\n",
    "\n",
    "#'Business Not Located', 'POSSIBLE FBI', 'Duplicated'\n",
    "\n",
    "#'Summer Feeding', \n",
    "\n",
    "#'Complaint-Fire', 'FIRE/COMPLAIN', 'fire complaint'\n",
    "clean_column_values(df_lic, \"Inspection Type\", ['Complaint-Fire', 'FIRE/COMPLAIN', 'fire complaint'], 'Fire Complaint')\n",
    "\n",
    "#'LICENSE TASK FORCE / NOT -FOR-PROFIT CLUB', 'LICENSE TASK FORCE / NOT -FOR-PROFIT CLU'\n",
    "clean_column_values(df_lic, \"Inspection Type\", ['LICENSE TASK FORCE / NOT -FOR-PROFIT CLUB', 'LICENSE TASK FORCE / NOT -FOR-PROFIT CLU'], 'Task Force Not-For-Profit Club')\n",
    "\n",
    "#\"Kids Cafe'\", 'KIDS CAFE'\n",
    "clean_column_values(df_lic, \"Inspection Type\", [\"Kids Cafe'\", 'KIDS CAFE'], 'Kids Cafe')\n",
    "\n",
    "#'Canvass', 'CANVAS'\n",
    "clean_column_values(df_lic, \"Inspection Type\", ['Canvass', 'CANVAS'], 'Canvass')\n",
    "\n",
    "#'License', 'LICENSE'\n",
    "clean_column_values(df_lic, \"Inspection Type\", ['License', 'LICENSE'], 'License')\n",
    "\n",
    "#'No entry', 'NO ENTRY', 'No Entry', 'no entry'\n",
    "clean_column_values(df_lic, \"Inspection Type\", ['No entry', 'NO ENTRY', 'No Entry', 'no entry'], 'No Entry')\n",
    "\n",
    "#'LICENSE CONSULTATION', 'License consultation'\n",
    "clean_column_values(df_lic, \"Inspection Type\", ['LICENSE CONSULTATION', 'License consultation'], 'License Consultation')\n",
    "\n",
    "#'LICENSE RENEWAL INSPECTION FOR DAYCARE', 'LICENSE RENEWAL FOR DAYCARE', 'DAY CARE LICENSE RENEWAL'\n",
    "clean_column_values(df_lic, \"Inspection Type\", ['LICENSE RENEWAL INSPECTION FOR DAYCARE', 'LICENSE RENEWAL FOR DAYCARE', 'DAY CARE LICENSE RENEWAL', 'LICENSE DAYCARE 1586'], 'DAYCARE LICENSE RENEWAL')\n",
    "\n",
    "#'TWO PEOPLE ATE AND GOT SICK.', 'Suspected Food Poisoning', 'SFP/Complaint', 'SFP', 'sfp/complaint', 'SFP/COMPLAINT'\n",
    "clean_column_values(df_lic, \"Inspection Type\", ['TWO PEOPLE ATE AND GOT SICK.', 'Suspected Food Poisoning', 'SFP/Complaint', 'SFP', 'sfp/complaint', 'SFP/COMPLAINT'], 'Suspected Food Poisoning')\n",
    "\n",
    "#'Suspected Food Poisoning Re-inspection', 'SFP RECENTLY INSPECTED'\n",
    "clean_column_values(df_lic, \"Inspection Type\", ['Suspected Food Poisoning Re-inspection', 'SFP RECENTLY INSPECTED'], 'Suspected Food Poisoning Reinspection')\n",
    "\n",
    "\n",
    "#'out ofbusiness', 'OUT OF BUSINESS'\n",
    "clean_column_values(df_lic, \"Inspection Type\", ['out ofbusiness', 'OUT OF BUSINESS'], 'Out of Business')\n",
    "\n",
    "#'Task force liquor inspection 1474', 'Task Force for liquor 1474'\n",
    "clean_column_values(df_lic, \"Inspection Type\", ['Task force liquor inspection 1474', 'Task Force for liquor 1474','Package Liquor 1474', 'Task Force for liquor 1474', 'TASK FORCE LIQUOR 1474', 'TASK FORCE LIQUOR 1474'], 'Task Force 1474 Liquor Tavern')\n",
    "\n",
    "#'TAVERN 1470', 'task force(1470) liquor tavern'\n",
    "clean_column_values(df_lic, \"Inspection Type\", ['TAVERN 1470', 'task force(1470) liquor tavern'], 'Task Force 1470 Liquor Tavern')\n"
   ]
  },
  {
   "cell_type": "code",
   "execution_count": 191,
   "metadata": {
    "collapsed": false
   },
   "outputs": [
    {
     "data": {
      "text/html": [
       "<div>\n",
       "<table border=\"1\" class=\"dataframe\">\n",
       "  <thead>\n",
       "    <tr style=\"text-align: right;\">\n",
       "      <th></th>\n",
       "      <th>License #</th>\n",
       "      <th>Risk</th>\n",
       "      <th>Zip</th>\n",
       "      <th>Inspection Date</th>\n",
       "      <th>Inspection Type</th>\n",
       "      <th>Results</th>\n",
       "      <th>Violations</th>\n",
       "      <th>Latitude</th>\n",
       "      <th>Longitude</th>\n",
       "      <th>Y</th>\n",
       "      <th>Y_fail</th>\n",
       "    </tr>\n",
       "  </thead>\n",
       "  <tbody>\n",
       "    <tr>\n",
       "      <th>128820</th>\n",
       "      <td>1272529.0</td>\n",
       "      <td>Risk 1 (High)</td>\n",
       "      <td>60609.0</td>\n",
       "      <td>05/11/2010</td>\n",
       "      <td>RECALL INSPECTION</td>\n",
       "      <td>Fail</td>\n",
       "      <td>NaN</td>\n",
       "      <td>41.809669</td>\n",
       "      <td>-87.675116</td>\n",
       "      <td>0.0</td>\n",
       "      <td>1.0</td>\n",
       "    </tr>\n",
       "  </tbody>\n",
       "</table>\n",
       "</div>"
      ],
      "text/plain": [
       "        License #           Risk      Zip Inspection Date    Inspection Type  \\\n",
       "128820  1272529.0  Risk 1 (High)  60609.0      05/11/2010  RECALL INSPECTION   \n",
       "\n",
       "       Results Violations   Latitude  Longitude    Y  Y_fail  \n",
       "128820    Fail        NaN  41.809669 -87.675116  0.0     1.0  "
      ]
     },
     "execution_count": 191,
     "metadata": {},
     "output_type": "execute_result"
    }
   ],
   "source": [
    "df_lic[df_lic[\"Inspection Type\"] == 'RECALL INSPECTION']"
   ]
  },
  {
   "cell_type": "code",
   "execution_count": 192,
   "metadata": {
    "collapsed": true
   },
   "outputs": [],
   "source": [
    "def set_qual_based_on_col(data, column_read, column_write, values):\n",
    "    df_lic[column_write] = 0\n",
    "    for v in values:\n",
    "        data.loc[data[column_read] == v, column_write] = 1"
   ]
  },
  {
   "cell_type": "markdown",
   "metadata": {},
   "source": [
    "Correcting Inspection Type for typos"
   ]
  },
  {
   "cell_type": "code",
   "execution_count": 193,
   "metadata": {
    "collapsed": true
   },
   "outputs": [],
   "source": [
    "\n",
    "\n",
    "set_qual_based_on_col(df_lic, 'Inspection Type', 'reinspection?', ['Complaint Re-Inspection', 'Canvass Re-Inspection', 'Complaint-Fire Re-inspection', 'RECALL INSPECTION',\n",
    "       'REINSPECTION OF 48 HOUR NOTICE', 'REINSPECTION','REINSPECTION OF CLOSE-UP', 'Suspected Food Poisoning Reinspection','License Reinspection'])\n",
    "\n",
    "set_qual_based_on_col(df_lic, 'Inspection Type', 'recent_inspection?', ['Recent Inspection'])\n",
    "\n",
    "set_qual_based_on_col(df_lic, 'Inspection Type', 'task_force?', ['License-Task Force', 'Task Force Liquor 1475',\n",
    "       'Task Force 1474 Liquor Tavern','Task Force 1470 Liquor Tavern', 'license task 1474', \n",
    "       'Task Force Liquor Catering', 'TASK FORCE NIGHT','Special Task Force',\n",
    "       'Task Force Not-For-Profit Club','TASK FORCE PACKAGE LIQUOR','TASK FORCE LIQUOR (1481)','LIQOUR TASK FORCE NOT READY', 'TASK FORCE NOT READY',\n",
    "       'TASK FORCE PACKAGE GOODS 1474'])\n",
    "\n",
    "set_qual_based_on_col(df_lic, 'Inspection Type', 'special_event?', ['Special Events (Festivals)','CANVASS SPECIAL EVENTS', 'Summer Feeding', 'TASTE OF CHICAGO'])\n",
    "\n",
    "set_qual_based_on_col(df_lic, 'Inspection Type', 'canvass?', ['Canvass','Canvass Re-Inspection', 'CANVASS SPECIAL EVENTS'])\n",
    "\n",
    "set_qual_based_on_col(df_lic, 'Inspection Type', 'closeup?', ['RE-INSPECTION OF CLOSE-UP','RE-INSPECTION OF CLOSE-UP'])\n",
    "\n",
    "set_qual_based_on_col(df_lic, 'Inspection Type', 'liquor?', ['Task Force Liquor 1475','Task Force 1474 Liquor Tavern',\n",
    "      'Task Force 1470 Liquor Tavern','Task Force Liquor Catering','TASK FORCE PACKAGE LIQUOR','TASK FORCE LIQUOR (1481)'])\n",
    "\n",
    "set_qual_based_on_col(df_lic, 'Inspection Type', 'fire?', ['Complaint-Fire Re-inspection', 'Fire Complaint',\n",
    "       'Short Form Fire-Complaint'])\n",
    "\n",
    "set_qual_based_on_col(df_lic, 'Inspection Type', 'child?', ['Kids Cafe', 'DAYCARE LICENSE RENEWAL'])\n",
    "\n",
    "set_qual_based_on_col(df_lic, 'Inspection Type', 'no_entry?', ['No Entry','NO ENTRY-SHORT COMPLAINT)'])\n",
    "\n",
    "set_qual_based_on_col(df_lic, 'Inspection Type', 'complaint?', ['Complaint',\n",
    "       'Complaint Re-Inspection', 'Short Form Complaint','Complaint-Fire Re-inspection', 'Fire Complaint',\n",
    "       'Short Form Fire-Complaint','SMOKING COMPLAINT','NO ENTRY-SHORT COMPLAINT)'])\n",
    "\n",
    "set_qual_based_on_col(df_lic, 'Inspection Type', 'license?', ['License', 'License Reinspection','License-Task Force',\n",
    "       'OWNER SUSPENDED OPERATION/LICENSE','License Consultation','Pre-License Consultation','license task 1474',\n",
    "       'DAYCARE LICENSE RENEWAL','LICENSE/NOT READY','LICENSE WRONG ADDRESS', 'LICENSE REQUEST'])"
   ]
  },
  {
   "cell_type": "code",
   "execution_count": 194,
   "metadata": {
    "collapsed": false
   },
   "outputs": [],
   "source": [
    "#recode Inspection Type\n",
    "#df_lic[\"inspection_type\"] = df_lic[\"Inspection Type\"].astype('category')\n",
    "#df_lic = df_lic.drop('Inspection Type', 1)"
   ]
  },
  {
   "cell_type": "markdown",
   "metadata": {},
   "source": [
    "Renaming the cleaned columns"
   ]
  },
  {
   "cell_type": "code",
   "execution_count": 195,
   "metadata": {
    "collapsed": false
   },
   "outputs": [],
   "source": [
    "df_lic.rename(columns={\"Risk\": \"risk_description\", \"Results\": \"Y_description\", \"Inspection Date\": \"inspection_date_string\"}, inplace=True)"
   ]
  },
  {
   "cell_type": "code",
   "execution_count": 196,
   "metadata": {
    "collapsed": false
   },
   "outputs": [
    {
     "data": {
      "text/html": [
       "<div>\n",
       "<table border=\"1\" class=\"dataframe\">\n",
       "  <thead>\n",
       "    <tr style=\"text-align: right;\">\n",
       "      <th></th>\n",
       "      <th>License #</th>\n",
       "      <th>risk_description</th>\n",
       "      <th>Zip</th>\n",
       "      <th>inspection_date_string</th>\n",
       "      <th>Inspection Type</th>\n",
       "      <th>Y_description</th>\n",
       "      <th>Violations</th>\n",
       "      <th>Latitude</th>\n",
       "      <th>Longitude</th>\n",
       "      <th>Y</th>\n",
       "      <th>...</th>\n",
       "      <th>task_force?</th>\n",
       "      <th>special_event?</th>\n",
       "      <th>canvass?</th>\n",
       "      <th>closeup?</th>\n",
       "      <th>liquor?</th>\n",
       "      <th>fire?</th>\n",
       "      <th>child?</th>\n",
       "      <th>no_entry?</th>\n",
       "      <th>complaint?</th>\n",
       "      <th>license?</th>\n",
       "    </tr>\n",
       "  </thead>\n",
       "  <tbody>\n",
       "    <tr>\n",
       "      <th>0</th>\n",
       "      <td>2495906.0</td>\n",
       "      <td>Risk 3 (Low)</td>\n",
       "      <td>60632.0</td>\n",
       "      <td>11/03/2016</td>\n",
       "      <td>License</td>\n",
       "      <td>Pass</td>\n",
       "      <td>32. FOOD AND NON-FOOD CONTACT SURFACES PROPERL...</td>\n",
       "      <td>41.821458</td>\n",
       "      <td>-87.70435</td>\n",
       "      <td>1.0</td>\n",
       "      <td>...</td>\n",
       "      <td>0</td>\n",
       "      <td>0</td>\n",
       "      <td>0</td>\n",
       "      <td>0</td>\n",
       "      <td>0</td>\n",
       "      <td>0</td>\n",
       "      <td>0</td>\n",
       "      <td>0</td>\n",
       "      <td>0</td>\n",
       "      <td>1</td>\n",
       "    </tr>\n",
       "  </tbody>\n",
       "</table>\n",
       "<p>1 rows × 23 columns</p>\n",
       "</div>"
      ],
      "text/plain": [
       "   License # risk_description      Zip inspection_date_string Inspection Type  \\\n",
       "0  2495906.0     Risk 3 (Low)  60632.0             11/03/2016         License   \n",
       "\n",
       "  Y_description                                         Violations   Latitude  \\\n",
       "0          Pass  32. FOOD AND NON-FOOD CONTACT SURFACES PROPERL...  41.821458   \n",
       "\n",
       "   Longitude    Y    ...     task_force?  special_event?  canvass?  closeup?  \\\n",
       "0  -87.70435  1.0    ...               0               0         0         0   \n",
       "\n",
       "   liquor?  fire?  child?  no_entry?  complaint?  license?  \n",
       "0        0      0       0          0           0         1  \n",
       "\n",
       "[1 rows x 23 columns]"
      ]
     },
     "execution_count": 196,
     "metadata": {},
     "output_type": "execute_result"
    }
   ],
   "source": [
    "df_lic.head(1)"
   ]
  },
  {
   "cell_type": "markdown",
   "metadata": {},
   "source": [
    "## Encoding Risk"
   ]
  },
  {
   "cell_type": "code",
   "execution_count": 197,
   "metadata": {
    "collapsed": false
   },
   "outputs": [],
   "source": [
    "#encode fix risk\n",
    "df_lic[\"risk\"] = 0\n",
    "df_lic.loc[df_lic[\"risk_description\"] == 'Risk 1 (High)', \"risk\"] = 1\n",
    "df_lic.loc[df_lic[\"risk_description\"] == 'Risk 2 (Medium)', \"risk\"] = 2\n",
    "df_lic.loc[df_lic[\"risk_description\"] == 'Risk 3 (Low)', \"risk\"] = 3\n",
    "\n",
    "\n",
    "#encode inspection type\n",
    "inspection_types = df_lic[\"Inspection Type\"].unique()\n",
    "for i,item in enumerate(inspection_types):\n",
    "    df_lic.loc[df_lic[\"Inspection Type\"] == item, 'inspection_type'] = i"
   ]
  },
  {
   "cell_type": "markdown",
   "metadata": {},
   "source": [
    "## Removing empty licenses and duplicate inspections"
   ]
  },
  {
   "cell_type": "code",
   "execution_count": 198,
   "metadata": {
    "collapsed": false
   },
   "outputs": [],
   "source": [
    "df_lic = df_lic[df_lic[\"License #\"] != 0]\n",
    "df_lic = df_lic[df_lic[\"Inspection Type\"] != 'Duplicated']\n",
    "df_lic = df_lic.drop('Inspection Type', 1)"
   ]
  },
  {
   "cell_type": "markdown",
   "metadata": {},
   "source": [
    "## Encoding inspection date as a date"
   ]
  },
  {
   "cell_type": "code",
   "execution_count": 199,
   "metadata": {
    "collapsed": false
   },
   "outputs": [],
   "source": [
    "#aggregate past years: previous fail, ever fail, mean inspection rate (per year)\n",
    "df_lic[\"inspection_dt\"] = pd.to_datetime(df_lic[\"inspection_date_string\"])"
   ]
  },
  {
   "cell_type": "code",
   "execution_count": 200,
   "metadata": {
    "collapsed": false
   },
   "outputs": [
    {
     "data": {
      "text/plain": [
       "(86397, 25)"
      ]
     },
     "execution_count": 200,
     "metadata": {},
     "output_type": "execute_result"
    }
   ],
   "source": [
    "df_lic[df_lic[\"inspection_dt\"].dt.year < 2015].shape\n"
   ]
  },
  {
   "cell_type": "code",
   "execution_count": 201,
   "metadata": {
    "collapsed": false
   },
   "outputs": [
    {
     "data": {
      "text/plain": [
       "array([2016, 2015, 2014, 2013, 2012, 2011, 2010])"
      ]
     },
     "execution_count": 201,
     "metadata": {},
     "output_type": "execute_result"
    }
   ],
   "source": [
    "df_lic[\"inspection_dt\"].dt.year.unique()"
   ]
  },
  {
   "cell_type": "markdown",
   "metadata": {},
   "source": [
    "## Encoding \"Did you pass last time?\""
   ]
  },
  {
   "cell_type": "code",
   "execution_count": 202,
   "metadata": {
    "collapsed": false
   },
   "outputs": [
    {
     "name": "stderr",
     "output_type": "stream",
     "text": [
      "/Users/angelo/anaconda/lib/python2.7/site-packages/ipykernel/__main__.py:4: FutureWarning: sort(columns=....) is deprecated, use sort_values(by=.....)\n",
      "/Users/angelo/anaconda/lib/python2.7/site-packages/ipykernel/__main__.py:5: FutureWarning: sort(columns=....) is deprecated, use sort_values(by=.....)\n"
     ]
    }
   ],
   "source": [
    "df_lic[\"prev_fail\"] = 0\n",
    "\n",
    "for y in range(2011, 2017):\n",
    "    last2_inspections = df_lic[df_lic[\"inspection_dt\"].dt.year <= y].sort(\"inspection_dt\", ascending=False).groupby(\"License #\").head(2)\n",
    "    last_inspection = df_lic[df_lic[\"inspection_dt\"].dt.year <= y].sort(\"inspection_dt\", ascending=False).groupby(\"License #\").head(1)\n",
    "\n",
    "    #remove the last_inspection from the last 2... what's left is the one before this one\n",
    "    inspection_before_last = last2_inspections[~last2_inspections.isin(last_inspection)]\n",
    "\n",
    "    #Note: there's another way to do this... use duplicated, take last.. but this works\n",
    "    \n",
    "    #because of the grouping, the previous operation coded the first inspections as NaN.. we need to remove those\n",
    "    inspection_before_last = inspection_before_last[~inspection_before_last[\"License #\"].isnull()]\n",
    "\n",
    "    #now, let's see the previous outcome and create a column called \"prev_fail\"\n",
    "    inspection_before_last_fails = inspection_before_last[inspection_before_last[\"Y_fail\"] == 1]\n",
    "    last_inspection.loc[last_inspection[\"License #\"].isin(inspection_before_last_fails[\"License #\"]), \"prev_fail\"] = 1\n",
    "    last_inspection_fails = last_inspection[last_inspection[\"prev_fail\"] == 1]\n",
    "\n",
    "    results = df_lic[~df_lic[df_lic.isin(last_inspection_fails)].isnull()]\n",
    "    results = results[~results[\"License #\"].isnull()]\n",
    "\n",
    "    df_lic.loc[df_lic[~df_lic[df_lic.isin(results)][\"License #\"].isnull()].index, \"prev_fail\"] = 1"
   ]
  },
  {
   "cell_type": "code",
   "execution_count": 203,
   "metadata": {
    "collapsed": false
   },
   "outputs": [
    {
     "data": {
      "text/plain": [
       "array([0, 1])"
      ]
     },
     "execution_count": 203,
     "metadata": {},
     "output_type": "execute_result"
    }
   ],
   "source": [
    "#sanity check... shouldn't have NaNs\n",
    "df_lic.prev_fail.unique()"
   ]
  },
  {
   "cell_type": "markdown",
   "metadata": {},
   "source": [
    "## Encoding \"Cumulative Failures\""
   ]
  },
  {
   "cell_type": "code",
   "execution_count": 204,
   "metadata": {
    "collapsed": false,
    "scrolled": true
   },
   "outputs": [
    {
     "name": "stderr",
     "output_type": "stream",
     "text": [
      "/Users/angelo/anaconda/lib/python2.7/site-packages/ipykernel/__main__.py:4: FutureWarning: sort(columns=....) is deprecated, use sort_values(by=.....)\n"
     ]
    }
   ],
   "source": [
    "df_lic[\"cumulative_failures\"] = 0\n",
    "\n",
    "for y in range(2011, 2017):\n",
    "    last_inspection = df_lic[df_lic[\"inspection_dt\"].dt.year <= y].sort(\"inspection_dt\", ascending=False).groupby(\"License #\").head(1)\n",
    "    prior_failed_inspections = df_lic[(df_lic[\"inspection_dt\"].dt.year <= y) & (df_lic[\"Y_fail\"]==1)]\n",
    "\n",
    "    pre_count = prior_failed_inspections[[\"License #\", \"Y_fail\"]]\n",
    "    fail_counts = pre_count.groupby(\"License #\").count()\n",
    "    fail_counts = fail_counts.reset_index()\n",
    "    #I don't need the index since I'm going to use this as a lookup... but, I don't want a multiindex\n",
    "\n",
    "    results = df_lic[~df_lic[df_lic.isin(last_inspection_fails)].isnull()]\n",
    "    results = results[~results[\"License #\"].isnull()]\n",
    "\n",
    "    def set_count(row):\n",
    "        if fail_counts[fail_counts[\"License #\"] == row[\"License #\"]][\"Y_fail\"].any() == True:\n",
    "            c = fail_counts[fail_counts[\"License #\"] == row[\"License #\"]][\"Y_fail\"]\n",
    "            #note: the index in a row is \"name\"\n",
    "            df_lic.set_value(row.name, \"cumulative_failures\", c)\n",
    "\n",
    "    df_lic[~df_lic[df_lic.isin(results)][\"License #\"].isnull()].apply(lambda row: set_count(row), axis=1)\n"
   ]
  },
  {
   "cell_type": "code",
   "execution_count": 205,
   "metadata": {
    "collapsed": false
   },
   "outputs": [
    {
     "data": {
      "text/plain": [
       "array([ 0,  1,  5,  3,  2,  7,  4,  6,  8,  9, 13, 10, 11, 16])"
      ]
     },
     "execution_count": 205,
     "metadata": {},
     "output_type": "execute_result"
    }
   ],
   "source": [
    "#sanity check.. they applied\n",
    "df_lic[\"cumulative_failures\"].unique()"
   ]
  },
  {
   "cell_type": "markdown",
   "metadata": {},
   "source": [
    "## Encoding \"Have you ever failed?\""
   ]
  },
  {
   "cell_type": "code",
   "execution_count": 206,
   "metadata": {
    "collapsed": false
   },
   "outputs": [
    {
     "data": {
      "text/plain": [
       "array([0, 1])"
      ]
     },
     "execution_count": 206,
     "metadata": {},
     "output_type": "execute_result"
    }
   ],
   "source": [
    "df_lic[\"ever_failed\"] = 0\n",
    "df_lic.loc[df_lic[\"cumulative_failures\"] != 0, \"ever_failed\"] = 1\n",
    "df_lic[\"ever_failed\"].unique()"
   ]
  },
  {
   "cell_type": "markdown",
   "metadata": {},
   "source": [
    "## Encoding Cumulative Inspections"
   ]
  },
  {
   "cell_type": "code",
   "execution_count": 207,
   "metadata": {
    "collapsed": false
   },
   "outputs": [
    {
     "name": "stderr",
     "output_type": "stream",
     "text": [
      "/Users/angelo/anaconda/lib/python2.7/site-packages/ipykernel/__main__.py:4: FutureWarning: sort(columns=....) is deprecated, use sort_values(by=.....)\n"
     ]
    }
   ],
   "source": [
    "df_lic[\"cumulative_inspections\"] = 0\n",
    "\n",
    "for y in range(2011, 2017):\n",
    "    last_inspection = df_lic[df_lic[\"inspection_dt\"].dt.year <= y].sort(\"inspection_dt\", ascending=False).groupby(\"License #\").head(1)\n",
    "    prior_inspections = df_lic[(df_lic[\"inspection_dt\"].dt.year <= y)]\n",
    "\n",
    "    prior_counts = prior_inspections[[\"License #\", \"Y_fail\"]].groupby(\"License #\").count()\n",
    "    prior_counts = prior_counts.reset_index()\n",
    "    #I don't need the index since I'm going to use this as a lookup... but, I don't want a multiindex\n",
    "\n",
    "    results = df_lic[~df_lic[df_lic.isin(prior_inspections)].isnull()]\n",
    "    results = results[~results[\"License #\"].isnull()]\n",
    "\n",
    "    def set_count(row):\n",
    "        if prior_counts[prior_counts[\"License #\"] == row[\"License #\"]][\"Y_fail\"].any() == True:\n",
    "            c = prior_counts[prior_counts[\"License #\"] == row[\"License #\"]][\"Y_fail\"]\n",
    "            #note: the index in a row is \"name\"\n",
    "            df_lic.set_value(row.name, \"cumulative_inspections\", c)\n",
    "\n",
    "    df_lic[~df_lic[df_lic.isin(results)][\"License #\"].isnull()].apply(lambda row: set_count(row), axis=1)"
   ]
  },
  {
   "cell_type": "code",
   "execution_count": 208,
   "metadata": {
    "collapsed": false
   },
   "outputs": [
    {
     "data": {
      "text/plain": [
       "array([  1,   8,   2,   5,  16,   9,   3,  13,  12,  10,   6,   4,   7,\n",
       "        30,  11,  23,  18,  20,  34,  15,  22,  14,  24,  19,  28,  17,\n",
       "        32,  26,  37,  21,  38,  42,  25,  41,  35, 170,  29,  33,   0,\n",
       "        77,  27,  56,  31, 130])"
      ]
     },
     "execution_count": 208,
     "metadata": {},
     "output_type": "execute_result"
    }
   ],
   "source": [
    "#sanity check.. they applied\n",
    "df_lic[\"cumulative_inspections\"].unique()"
   ]
  },
  {
   "cell_type": "markdown",
   "metadata": {},
   "source": [
    "## Encoding Proportion of Fails to Inspections"
   ]
  },
  {
   "cell_type": "code",
   "execution_count": 209,
   "metadata": {
    "collapsed": false
   },
   "outputs": [
    {
     "data": {
      "text/plain": [
       "array([ 0.        ,  0.5       ,  0.55555556,  0.6       ,  0.33333333,\n",
       "        0.2       ,  0.4       ,  0.63636364,  0.28571429,  0.38461538,\n",
       "        0.29166667,  0.36363636,  0.25      ,  0.44444444,  0.07142857,\n",
       "        0.26666667,  0.125     ,  0.30769231,  0.16666667,  0.35      ,\n",
       "        0.23076923,  0.13636364,  0.66666667,  0.22222222,  0.375     ,\n",
       "        0.625     ,  0.18181818,  0.27272727,  0.1       ,  0.23529412,\n",
       "        0.54545455,  0.11111111,  0.21428571,  0.42857143,  0.14285714,\n",
       "        0.46666667,  1.        ,  0.4375    ,  0.07692308,  0.3       ,\n",
       "        0.17647059,  0.35714286,  0.13333333,  0.26315789,  0.3125    ,\n",
       "        0.15384615,  0.22727273,  0.31578947,  0.57142857,  0.06666667,\n",
       "        0.46153846,  0.41176471,  0.27777778,  0.45454545,  0.08333333,\n",
       "        0.29411765,  0.41666667,  0.0625    ,  0.35294118,  0.05882353,\n",
       "        0.8       ,  0.35135135,  0.30434783,  0.42105263,  0.20833333,\n",
       "        0.09090909,  0.58333333,  0.38888889,  0.32      ,  0.11764706,\n",
       "        0.1875    ,  0.23809524,  0.53846154,  0.24242424,         nan,\n",
       "        0.10714286,  0.36842105,  0.47058824,  0.47368421,  0.43478261,\n",
       "        0.31818182,  0.75      ,  0.15      ,  0.47826087,  0.43333333,\n",
       "        0.28      ,  0.83333333,  0.40909091,  0.71428571,  0.64705882,\n",
       "        0.68421053,  0.5625    ,  0.00769231,  0.84210526,  0.85714286])"
      ]
     },
     "execution_count": 209,
     "metadata": {},
     "output_type": "execute_result"
    }
   ],
   "source": [
    "df_lic[\"proportion_past_failures\"] = df_lic[\"cumulative_failures\"]/df_lic[\"cumulative_inspections\"]\n",
    "df_lic[\"proportion_past_failures\"].unique()"
   ]
  },
  {
   "cell_type": "markdown",
   "metadata": {},
   "source": [
    "## Encoding Days Since Last Inspection"
   ]
  },
  {
   "cell_type": "code",
   "execution_count": 210,
   "metadata": {
    "collapsed": false
   },
   "outputs": [
    {
     "name": "stderr",
     "output_type": "stream",
     "text": [
      "/Users/angelo/anaconda/lib/python2.7/site-packages/ipykernel/__main__.py:4: FutureWarning: sort(columns=....) is deprecated, use sort_values(by=.....)\n",
      "/Users/angelo/anaconda/lib/python2.7/site-packages/ipykernel/__main__.py:5: FutureWarning: sort(columns=....) is deprecated, use sort_values(by=.....)\n"
     ]
    }
   ],
   "source": [
    "df_lic[\"days_since_last_inspection\"] = np.nan\n",
    "\n",
    "for y in range(2011, 2017):\n",
    "    last2_inspections = df_lic[df_lic[\"inspection_dt\"].dt.year <= y].sort(\"inspection_dt\", ascending=False).groupby(\"License #\").head(2)\n",
    "    last_inspection = df_lic[df_lic[\"inspection_dt\"].dt.year <= y].sort(\"inspection_dt\", ascending=False).groupby(\"License #\").head(1)\n",
    "\n",
    "    #remove the last_inspection from the last 2... what's left is the one before this one\n",
    "    inspection_before_last = last2_inspections[~last2_inspections.isin(last_inspection)]\n",
    "\n",
    "    #copying and resetting indexes so we can compare them without iterating (they're the same if they have the same license #)\n",
    "    previous_temp = inspection_before_last.copy() #inspection_before_last[inspection_before_last[\"License #\"].isin(inspection_before_last[\"License #\"])]\n",
    "    previous_temp = previous_temp.set_index(\"License #\")\n",
    "    this_temp = last_inspection.copy()\n",
    "    this_temp = this_temp.set_index(\"License #\")\n",
    "\n",
    "    days_since_lookup = (this_temp[\"inspection_dt\"] - previous_temp[\"inspection_dt\"]).apply(lambda l: l.days if pd.isnull(l) == False else np.nan)\n",
    "    def set_days_since(row):\n",
    "        if days_since_lookup[days_since_lookup.index == row[\"License #\"]].any() == True:\n",
    "            d = days_since_lookup[days_since_lookup.index == row[\"License #\"]]\n",
    "            #note: the index in a row is \"name\"\n",
    "            df_lic.set_value(row.name, \"days_since_last_inspection\", d)\n",
    "\n",
    "\n",
    "    #now, what we have to do it find the last_inspections in the main set, and drop in the new calulated field\n",
    "    df_lic[~df_lic[df_lic.isin(last_inspection)][\"License #\"].isnull()].apply(lambda row: set_days_since(row), axis=1)"
   ]
  },
  {
   "cell_type": "code",
   "execution_count": 211,
   "metadata": {
    "collapsed": false
   },
   "outputs": [
    {
     "data": {
      "text/plain": [
       "array([  nan,  373.,    8., ...,  843.,  877.,  866.])"
      ]
     },
     "execution_count": 211,
     "metadata": {},
     "output_type": "execute_result"
    }
   ],
   "source": [
    "df_lic[\"days_since_last_inspection\"].unique()"
   ]
  },
  {
   "cell_type": "markdown",
   "metadata": {},
   "source": [
    "## Save our results"
   ]
  },
  {
   "cell_type": "code",
   "execution_count": 212,
   "metadata": {
    "collapsed": false
   },
   "outputs": [
    {
     "data": {
      "text/html": [
       "<div>\n",
       "<table border=\"1\" class=\"dataframe\">\n",
       "  <thead>\n",
       "    <tr style=\"text-align: right;\">\n",
       "      <th></th>\n",
       "      <th>License #</th>\n",
       "      <th>risk_description</th>\n",
       "      <th>Zip</th>\n",
       "      <th>inspection_date_string</th>\n",
       "      <th>Y_description</th>\n",
       "      <th>Violations</th>\n",
       "      <th>Latitude</th>\n",
       "      <th>Longitude</th>\n",
       "      <th>Y</th>\n",
       "      <th>Y_fail</th>\n",
       "      <th>...</th>\n",
       "      <th>license?</th>\n",
       "      <th>risk</th>\n",
       "      <th>inspection_type</th>\n",
       "      <th>inspection_dt</th>\n",
       "      <th>prev_fail</th>\n",
       "      <th>cumulative_failures</th>\n",
       "      <th>ever_failed</th>\n",
       "      <th>cumulative_inspections</th>\n",
       "      <th>proportion_past_failures</th>\n",
       "      <th>days_since_last_inspection</th>\n",
       "    </tr>\n",
       "  </thead>\n",
       "  <tbody>\n",
       "    <tr>\n",
       "      <th>0</th>\n",
       "      <td>2495906.0</td>\n",
       "      <td>Risk 3 (Low)</td>\n",
       "      <td>60632.0</td>\n",
       "      <td>11/03/2016</td>\n",
       "      <td>Pass</td>\n",
       "      <td>32. FOOD AND NON-FOOD CONTACT SURFACES PROPERL...</td>\n",
       "      <td>41.821458</td>\n",
       "      <td>-87.704350</td>\n",
       "      <td>1.0</td>\n",
       "      <td>0.0</td>\n",
       "      <td>...</td>\n",
       "      <td>1</td>\n",
       "      <td>3</td>\n",
       "      <td>0.0</td>\n",
       "      <td>2016-11-03</td>\n",
       "      <td>0</td>\n",
       "      <td>0</td>\n",
       "      <td>0</td>\n",
       "      <td>1</td>\n",
       "      <td>0.0</td>\n",
       "      <td>NaN</td>\n",
       "    </tr>\n",
       "    <tr>\n",
       "      <th>1</th>\n",
       "      <td>2093906.0</td>\n",
       "      <td>Risk 2 (Medium)</td>\n",
       "      <td>60615.0</td>\n",
       "      <td>11/03/2016</td>\n",
       "      <td>Pass</td>\n",
       "      <td>33. FOOD AND NON-FOOD CONTACT EQUIPMENT UTENSI...</td>\n",
       "      <td>41.795175</td>\n",
       "      <td>-87.596601</td>\n",
       "      <td>1.0</td>\n",
       "      <td>0.0</td>\n",
       "      <td>...</td>\n",
       "      <td>0</td>\n",
       "      <td>2</td>\n",
       "      <td>1.0</td>\n",
       "      <td>2016-11-03</td>\n",
       "      <td>0</td>\n",
       "      <td>0</td>\n",
       "      <td>0</td>\n",
       "      <td>8</td>\n",
       "      <td>0.0</td>\n",
       "      <td>373.0</td>\n",
       "    </tr>\n",
       "    <tr>\n",
       "      <th>2</th>\n",
       "      <td>2495782.0</td>\n",
       "      <td>Risk 3 (Low)</td>\n",
       "      <td>60628.0</td>\n",
       "      <td>11/03/2016</td>\n",
       "      <td>Pass</td>\n",
       "      <td>38. VENTILATION: ROOMS AND EQUIPMENT VENTED AS...</td>\n",
       "      <td>41.714126</td>\n",
       "      <td>-87.642853</td>\n",
       "      <td>1.0</td>\n",
       "      <td>0.0</td>\n",
       "      <td>...</td>\n",
       "      <td>1</td>\n",
       "      <td>3</td>\n",
       "      <td>0.0</td>\n",
       "      <td>2016-11-03</td>\n",
       "      <td>0</td>\n",
       "      <td>0</td>\n",
       "      <td>0</td>\n",
       "      <td>1</td>\n",
       "      <td>0.0</td>\n",
       "      <td>NaN</td>\n",
       "    </tr>\n",
       "    <tr>\n",
       "      <th>3</th>\n",
       "      <td>2476569.0</td>\n",
       "      <td>Risk 1 (High)</td>\n",
       "      <td>60621.0</td>\n",
       "      <td>11/02/2016</td>\n",
       "      <td>Pass</td>\n",
       "      <td>NaN</td>\n",
       "      <td>41.779856</td>\n",
       "      <td>-87.645142</td>\n",
       "      <td>1.0</td>\n",
       "      <td>0.0</td>\n",
       "      <td>...</td>\n",
       "      <td>1</td>\n",
       "      <td>1</td>\n",
       "      <td>2.0</td>\n",
       "      <td>2016-11-02</td>\n",
       "      <td>1</td>\n",
       "      <td>1</td>\n",
       "      <td>1</td>\n",
       "      <td>2</td>\n",
       "      <td>0.5</td>\n",
       "      <td>8.0</td>\n",
       "    </tr>\n",
       "    <tr>\n",
       "      <th>4</th>\n",
       "      <td>2476568.0</td>\n",
       "      <td>Risk 1 (High)</td>\n",
       "      <td>60621.0</td>\n",
       "      <td>11/02/2016</td>\n",
       "      <td>Pass</td>\n",
       "      <td>2. FACILITIES TO MAINTAIN PROPER TEMPERATURE -...</td>\n",
       "      <td>41.779856</td>\n",
       "      <td>-87.645142</td>\n",
       "      <td>1.0</td>\n",
       "      <td>0.0</td>\n",
       "      <td>...</td>\n",
       "      <td>1</td>\n",
       "      <td>1</td>\n",
       "      <td>2.0</td>\n",
       "      <td>2016-11-02</td>\n",
       "      <td>1</td>\n",
       "      <td>1</td>\n",
       "      <td>1</td>\n",
       "      <td>2</td>\n",
       "      <td>0.5</td>\n",
       "      <td>8.0</td>\n",
       "    </tr>\n",
       "  </tbody>\n",
       "</table>\n",
       "<p>5 rows × 31 columns</p>\n",
       "</div>"
      ],
      "text/plain": [
       "   License # risk_description      Zip inspection_date_string Y_description  \\\n",
       "0  2495906.0     Risk 3 (Low)  60632.0             11/03/2016          Pass   \n",
       "1  2093906.0  Risk 2 (Medium)  60615.0             11/03/2016          Pass   \n",
       "2  2495782.0     Risk 3 (Low)  60628.0             11/03/2016          Pass   \n",
       "3  2476569.0    Risk 1 (High)  60621.0             11/02/2016          Pass   \n",
       "4  2476568.0    Risk 1 (High)  60621.0             11/02/2016          Pass   \n",
       "\n",
       "                                          Violations   Latitude  Longitude  \\\n",
       "0  32. FOOD AND NON-FOOD CONTACT SURFACES PROPERL...  41.821458 -87.704350   \n",
       "1  33. FOOD AND NON-FOOD CONTACT EQUIPMENT UTENSI...  41.795175 -87.596601   \n",
       "2  38. VENTILATION: ROOMS AND EQUIPMENT VENTED AS...  41.714126 -87.642853   \n",
       "3                                                NaN  41.779856 -87.645142   \n",
       "4  2. FACILITIES TO MAINTAIN PROPER TEMPERATURE -...  41.779856 -87.645142   \n",
       "\n",
       "     Y  Y_fail             ...              license?  risk  inspection_type  \\\n",
       "0  1.0     0.0             ...                     1     3              0.0   \n",
       "1  1.0     0.0             ...                     0     2              1.0   \n",
       "2  1.0     0.0             ...                     1     3              0.0   \n",
       "3  1.0     0.0             ...                     1     1              2.0   \n",
       "4  1.0     0.0             ...                     1     1              2.0   \n",
       "\n",
       "   inspection_dt  prev_fail  cumulative_failures  ever_failed  \\\n",
       "0     2016-11-03          0                    0            0   \n",
       "1     2016-11-03          0                    0            0   \n",
       "2     2016-11-03          0                    0            0   \n",
       "3     2016-11-02          1                    1            1   \n",
       "4     2016-11-02          1                    1            1   \n",
       "\n",
       "   cumulative_inspections  proportion_past_failures  \\\n",
       "0                       1                       0.0   \n",
       "1                       8                       0.0   \n",
       "2                       1                       0.0   \n",
       "3                       2                       0.5   \n",
       "4                       2                       0.5   \n",
       "\n",
       "   days_since_last_inspection  \n",
       "0                         NaN  \n",
       "1                       373.0  \n",
       "2                         NaN  \n",
       "3                         8.0  \n",
       "4                         8.0  \n",
       "\n",
       "[5 rows x 31 columns]"
      ]
     },
     "execution_count": 212,
     "metadata": {},
     "output_type": "execute_result"
    }
   ],
   "source": [
    "df_lic.head()"
   ]
  },
  {
   "cell_type": "code",
   "execution_count": 213,
   "metadata": {
    "collapsed": true
   },
   "outputs": [],
   "source": [
    "#drop the violations to make the set reasonable in size... it's 90% of the file size\n",
    "df_lic = df_lic.drop(\"Violations\", 1)"
   ]
  },
  {
   "cell_type": "code",
   "execution_count": 214,
   "metadata": {
    "collapsed": true
   },
   "outputs": [],
   "source": [
    "df_lic.to_csv('inspections_clean.csv')"
   ]
  },
  {
   "cell_type": "markdown",
   "metadata": {
    "collapsed": true
   },
   "source": [
    "## Inspection Type, Risk, Result, Inspection Date are kept for friendly names of the computed columns... feel free to delete\n"
   ]
  }
 ],
 "metadata": {
  "anaconda-cloud": {},
  "kernelspec": {
   "display_name": "Python [conda root]",
   "language": "python",
   "name": "conda-root-py"
  },
  "language_info": {
   "codemirror_mode": {
    "name": "ipython",
    "version": 2
   },
   "file_extension": ".py",
   "mimetype": "text/x-python",
   "name": "python",
   "nbconvert_exporter": "python",
   "pygments_lexer": "ipython2",
   "version": "2.7.12"
  }
 },
 "nbformat": 4,
 "nbformat_minor": 0
}
