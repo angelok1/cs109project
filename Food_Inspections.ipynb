{
 "cells": [
  {
   "cell_type": "code",
   "execution_count": 1,
   "metadata": {
    "collapsed": true
   },
   "outputs": [],
   "source": [
    "import numpy as np\n",
    "import pandas as pd\n",
    "import scipy as sp\n",
    "from scipy.stats import mode\n",
    "from sklearn import linear_model\n",
    "import matplotlib\n",
    "import matplotlib.pyplot as plt\n",
    "from sklearn import discriminant_analysis\n",
    "from sklearn.decomposition import PCA\n",
    "from sklearn import preprocessing\n",
    "from sklearn.linear_model import LogisticRegression as LogReg\n",
    "from sklearn.linear_model import LinearRegression as LinReg\n",
    "import sklearn.neighbors as knn\n",
    "from sklearn.cross_validation import train_test_split\n",
    "from scipy import linalg\n",
    "import matplotlib as mpl\n",
    "%matplotlib inline"
   ]
  },
  {
   "cell_type": "markdown",
   "metadata": {},
   "source": [
    "# Food Inspection Data"
   ]
  },
  {
   "cell_type": "code",
   "execution_count": 166,
   "metadata": {
    "collapsed": false
   },
   "outputs": [
    {
     "data": {
      "text/html": [
       "<div>\n",
       "<table border=\"1\" class=\"dataframe\">\n",
       "  <thead>\n",
       "    <tr style=\"text-align: right;\">\n",
       "      <th></th>\n",
       "      <th>Inspection ID</th>\n",
       "      <th>DBA Name</th>\n",
       "      <th>AKA Name</th>\n",
       "      <th>License #</th>\n",
       "      <th>Facility Type</th>\n",
       "      <th>Risk</th>\n",
       "      <th>Address</th>\n",
       "      <th>City</th>\n",
       "      <th>State</th>\n",
       "      <th>Zip</th>\n",
       "      <th>Inspection Date</th>\n",
       "      <th>Inspection Type</th>\n",
       "      <th>Results</th>\n",
       "      <th>Violations</th>\n",
       "      <th>Latitude</th>\n",
       "      <th>Longitude</th>\n",
       "      <th>Location</th>\n",
       "    </tr>\n",
       "  </thead>\n",
       "  <tbody>\n",
       "    <tr>\n",
       "      <th>0</th>\n",
       "      <td>1970782</td>\n",
       "      <td>MARINO'S DISTRIBUTION , INC.</td>\n",
       "      <td>MARINO'S DISTRIBUTION</td>\n",
       "      <td>2495906.0</td>\n",
       "      <td>Grocery Store</td>\n",
       "      <td>Risk 3 (Low)</td>\n",
       "      <td>3939 S KEDZIE AVE</td>\n",
       "      <td>CHICAGO</td>\n",
       "      <td>IL</td>\n",
       "      <td>60632.0</td>\n",
       "      <td>11/03/2016</td>\n",
       "      <td>License</td>\n",
       "      <td>Pass</td>\n",
       "      <td>32. FOOD AND NON-FOOD CONTACT SURFACES PROPERL...</td>\n",
       "      <td>41.821458</td>\n",
       "      <td>-87.704350</td>\n",
       "      <td>(41.82145816352694, -87.70435016027005)</td>\n",
       "    </tr>\n",
       "    <tr>\n",
       "      <th>1</th>\n",
       "      <td>1970772</td>\n",
       "      <td>STARBUCKS COFFEE #2827</td>\n",
       "      <td>STARBUCKS COFFEE #2827</td>\n",
       "      <td>2093906.0</td>\n",
       "      <td>Restaurant</td>\n",
       "      <td>Risk 2 (Medium)</td>\n",
       "      <td>1174 E 55TH ST</td>\n",
       "      <td>CHICAGO</td>\n",
       "      <td>IL</td>\n",
       "      <td>60615.0</td>\n",
       "      <td>11/03/2016</td>\n",
       "      <td>Canvass</td>\n",
       "      <td>Pass</td>\n",
       "      <td>33. FOOD AND NON-FOOD CONTACT EQUIPMENT UTENSI...</td>\n",
       "      <td>41.795175</td>\n",
       "      <td>-87.596601</td>\n",
       "      <td>(41.79517545018063, -87.59660147733702)</td>\n",
       "    </tr>\n",
       "    <tr>\n",
       "      <th>2</th>\n",
       "      <td>1970752</td>\n",
       "      <td>I 57 FUEL MART, INC</td>\n",
       "      <td>I 57 FUEL MART, INC</td>\n",
       "      <td>2495782.0</td>\n",
       "      <td>Grocery Store</td>\n",
       "      <td>Risk 3 (Low)</td>\n",
       "      <td>9901-9909 S HALSTED ST</td>\n",
       "      <td>CHICAGO</td>\n",
       "      <td>IL</td>\n",
       "      <td>60628.0</td>\n",
       "      <td>11/03/2016</td>\n",
       "      <td>License</td>\n",
       "      <td>Pass</td>\n",
       "      <td>38. VENTILATION: ROOMS AND EQUIPMENT VENTED AS...</td>\n",
       "      <td>41.714126</td>\n",
       "      <td>-87.642853</td>\n",
       "      <td>(41.71412564927746, -87.64285254744291)</td>\n",
       "    </tr>\n",
       "    <tr>\n",
       "      <th>3</th>\n",
       "      <td>1955335</td>\n",
       "      <td>CHIPOTLE MEXICAN GRILL#2768</td>\n",
       "      <td>CHIPOTLE</td>\n",
       "      <td>2476569.0</td>\n",
       "      <td>Restaurant</td>\n",
       "      <td>Risk 1 (High)</td>\n",
       "      <td>806 W 63RD ST</td>\n",
       "      <td>CHICAGO</td>\n",
       "      <td>IL</td>\n",
       "      <td>60621.0</td>\n",
       "      <td>11/02/2016</td>\n",
       "      <td>License Re-Inspection</td>\n",
       "      <td>Pass</td>\n",
       "      <td>NaN</td>\n",
       "      <td>41.779856</td>\n",
       "      <td>-87.645142</td>\n",
       "      <td>(41.77985559084816, -87.64514243359771)</td>\n",
       "    </tr>\n",
       "    <tr>\n",
       "      <th>4</th>\n",
       "      <td>1955334</td>\n",
       "      <td>CHIPOTLE MEXICAN GRILL#2768</td>\n",
       "      <td>CHIPOTLE</td>\n",
       "      <td>2476568.0</td>\n",
       "      <td>Restaurant</td>\n",
       "      <td>Risk 1 (High)</td>\n",
       "      <td>806 W 63RD ST</td>\n",
       "      <td>CHICAGO</td>\n",
       "      <td>IL</td>\n",
       "      <td>60621.0</td>\n",
       "      <td>11/02/2016</td>\n",
       "      <td>License Re-Inspection</td>\n",
       "      <td>Pass</td>\n",
       "      <td>2. FACILITIES TO MAINTAIN PROPER TEMPERATURE -...</td>\n",
       "      <td>41.779856</td>\n",
       "      <td>-87.645142</td>\n",
       "      <td>(41.77985559084816, -87.64514243359771)</td>\n",
       "    </tr>\n",
       "  </tbody>\n",
       "</table>\n",
       "</div>"
      ],
      "text/plain": [
       "   Inspection ID                      DBA Name                AKA Name  \\\n",
       "0        1970782  MARINO'S DISTRIBUTION , INC.   MARINO'S DISTRIBUTION   \n",
       "1        1970772        STARBUCKS COFFEE #2827  STARBUCKS COFFEE #2827   \n",
       "2        1970752           I 57 FUEL MART, INC     I 57 FUEL MART, INC   \n",
       "3        1955335   CHIPOTLE MEXICAN GRILL#2768                CHIPOTLE   \n",
       "4        1955334   CHIPOTLE MEXICAN GRILL#2768                CHIPOTLE   \n",
       "\n",
       "   License #  Facility Type             Risk                  Address  \\\n",
       "0  2495906.0  Grocery Store     Risk 3 (Low)       3939 S KEDZIE AVE    \n",
       "1  2093906.0     Restaurant  Risk 2 (Medium)          1174 E 55TH ST    \n",
       "2  2495782.0  Grocery Store     Risk 3 (Low)  9901-9909 S HALSTED ST    \n",
       "3  2476569.0     Restaurant    Risk 1 (High)           806 W 63RD ST    \n",
       "4  2476568.0     Restaurant    Risk 1 (High)           806 W 63RD ST    \n",
       "\n",
       "      City State      Zip Inspection Date        Inspection Type Results  \\\n",
       "0  CHICAGO    IL  60632.0      11/03/2016                License    Pass   \n",
       "1  CHICAGO    IL  60615.0      11/03/2016                Canvass    Pass   \n",
       "2  CHICAGO    IL  60628.0      11/03/2016                License    Pass   \n",
       "3  CHICAGO    IL  60621.0      11/02/2016  License Re-Inspection    Pass   \n",
       "4  CHICAGO    IL  60621.0      11/02/2016  License Re-Inspection    Pass   \n",
       "\n",
       "                                          Violations   Latitude  Longitude  \\\n",
       "0  32. FOOD AND NON-FOOD CONTACT SURFACES PROPERL...  41.821458 -87.704350   \n",
       "1  33. FOOD AND NON-FOOD CONTACT EQUIPMENT UTENSI...  41.795175 -87.596601   \n",
       "2  38. VENTILATION: ROOMS AND EQUIPMENT VENTED AS...  41.714126 -87.642853   \n",
       "3                                                NaN  41.779856 -87.645142   \n",
       "4  2. FACILITIES TO MAINTAIN PROPER TEMPERATURE -...  41.779856 -87.645142   \n",
       "\n",
       "                                  Location  \n",
       "0  (41.82145816352694, -87.70435016027005)  \n",
       "1  (41.79517545018063, -87.59660147733702)  \n",
       "2  (41.71412564927746, -87.64285254744291)  \n",
       "3  (41.77985559084816, -87.64514243359771)  \n",
       "4  (41.77985559084816, -87.64514243359771)  "
      ]
     },
     "execution_count": 166,
     "metadata": {},
     "output_type": "execute_result"
    }
   ],
   "source": [
    "df = pd.read_csv('Food_Inspections.csv')\n",
    "df.head()"
   ]
  },
  {
   "cell_type": "code",
   "execution_count": 167,
   "metadata": {
    "collapsed": false
   },
   "outputs": [
    {
     "data": {
      "text/plain": [
       "(87952, 17)"
      ]
     },
     "execution_count": 167,
     "metadata": {},
     "output_type": "execute_result"
    }
   ],
   "source": [
    "rest = df[df[\"Facility Type\"] == \"Restaurant\"]\n",
    "rest.shape"
   ]
  },
  {
   "cell_type": "code",
   "execution_count": 168,
   "metadata": {
    "collapsed": false
   },
   "outputs": [
    {
     "data": {
      "text/plain": [
       "array(['Pass', 'Pass w/ Conditions', 'Fail', 'No Entry', 'Not Ready',\n",
       "       'Out of Business', 'Business Not Located'], dtype=object)"
      ]
     },
     "execution_count": 168,
     "metadata": {},
     "output_type": "execute_result"
    }
   ],
   "source": [
    "rest.Results.unique()"
   ]
  },
  {
   "cell_type": "code",
   "execution_count": 169,
   "metadata": {
    "collapsed": false
   },
   "outputs": [
    {
     "data": {
      "text/plain": [
       "array(['Risk 2 (Medium)', 'Risk 1 (High)', 'Risk 3 (Low)', 'All', nan], dtype=object)"
      ]
     },
     "execution_count": 169,
     "metadata": {},
     "output_type": "execute_result"
    }
   ],
   "source": [
    "rest.Risk.unique()"
   ]
  },
  {
   "cell_type": "code",
   "execution_count": 170,
   "metadata": {
    "collapsed": false
   },
   "outputs": [
    {
     "data": {
      "text/plain": [
       "array(['CHICAGO', nan, 'Chicago', 'CCHICAGO', 'chicago', 'CHICAGOCHICAGO',\n",
       "       'CHICAGOI'], dtype=object)"
      ]
     },
     "execution_count": 170,
     "metadata": {},
     "output_type": "execute_result"
    }
   ],
   "source": [
    "rest.City.unique()"
   ]
  },
  {
   "cell_type": "markdown",
   "metadata": {},
   "source": [
    "## Inspection Type"
   ]
  },
  {
   "cell_type": "markdown",
   "metadata": {},
   "source": [
    "We've got some data cleanup to do, but we can ignore city since they're all chicago..."
   ]
  },
  {
   "cell_type": "code",
   "execution_count": 171,
   "metadata": {
    "collapsed": false
   },
   "outputs": [
    {
     "data": {
      "text/plain": [
       "array(['Canvass', 'License Re-Inspection', 'Complaint', 'License',\n",
       "       'Canvass Re-Inspection', 'Short Form Complaint',\n",
       "       'Complaint Re-Inspection', 'Suspected Food Poisoning Re-inspection',\n",
       "       'Suspected Food Poisoning', 'Tag Removal', 'Consultation',\n",
       "       'Recent Inspection', nan, 'Not Ready', 'License-Task Force',\n",
       "       'Complaint-Fire Re-inspection', 'Complaint-Fire',\n",
       "       'Short Form Fire-Complaint', 'KITCHEN CLOSED FOR RENOVATION',\n",
       "       'Non-Inspection', 'CORRECTIVE ACTION', 'LICENSE CANCELED BY OWNER',\n",
       "       'Task Force Liquor 1475', 'fire complaint',\n",
       "       'TWO PEOPLE ATE AND GOT SICK.', 'Pre-License Consultation',\n",
       "       'CANVASS SPECIAL EVENTS', 'OUT OF BUSINESS', 'No entry', 'NO ENTRY',\n",
       "       'Package Liquor 1474', 'Sample Collection', 'FIRE/COMPLAIN',\n",
       "       '1315 license reinspection', 'Task Force Liquor Catering', 'SFP',\n",
       "       'CANVAS', 'no entry', 'SFP/COMPLAINT', 'Special Events (Festivals)',\n",
       "       'SFP/Complaint', 'expansion', 'SFP RECENTLY INSPECTED', 'CANVASS',\n",
       "       'CANVASS RE INSPECTION OF CLOSE UP', 'LICENSE REQUEST', 'TASKFORCE',\n",
       "       'LICENSE TASK FORCE / NOT -FOR-PROFIT CLUB',\n",
       "       'LICENSE TASK FORCE / NOT -FOR-PROFIT CLU', 'LICENSE/NOT READY',\n",
       "       'NO ENTRY-SHORT COMPLAINT)', 'error save', 'CHANGED COURT DATE',\n",
       "       'LIQUOR CATERING', 'Out of Business', 'No Entry',\n",
       "       'citation re-issued', 'TASTE OF CHICAGO', 'HACCP QUESTIONAIRE',\n",
       "       'finish complaint inspection from 5-18-10',\n",
       "       'TASK FORCE LIQUOR (1481)', 'CANVASS FOR RIB FEST',\n",
       "       'RE-INSPECTION OF CLOSE-UP', 'REINSPECTION',\n",
       "       'LIQOUR TASK FORCE NOT READY', 'TASK FORCE NOT READY',\n",
       "       'POSSIBLE FBI'], dtype=object)"
      ]
     },
     "execution_count": 171,
     "metadata": {},
     "output_type": "execute_result"
    }
   ],
   "source": [
    "rest[\"Inspection Type\"].unique()"
   ]
  },
  {
   "cell_type": "markdown",
   "metadata": {},
   "source": [
    "Some of these look suspect... so we'll clean some up.. but what are the task force items? Some of these require some domain specific knowledge to interpret."
   ]
  },
  {
   "cell_type": "code",
   "execution_count": 174,
   "metadata": {
    "collapsed": false
   },
   "outputs": [
    {
     "name": "stderr",
     "output_type": "stream",
     "text": [
      "/Users/angelo/anaconda/lib/python2.7/site-packages/pandas/core/indexing.py:465: SettingWithCopyWarning: \n",
      "A value is trying to be set on a copy of a slice from a DataFrame.\n",
      "Try using .loc[row_indexer,col_indexer] = value instead\n",
      "\n",
      "See the caveats in the documentation: http://pandas.pydata.org/pandas-docs/stable/indexing.html#indexing-view-versus-copy\n",
      "  self.obj[item] = s\n"
     ]
    }
   ],
   "source": [
    "#let's cleanup these...\n",
    "rest.loc[rest[\"Inspection Type\"] == \"TWO PEOPLE ATE AND GOT SICK.\", \"Inspection Type\"] = \"Suspected Food Poisoning\"\n",
    "rest.loc[rest[\"Inspection Type\"] == \"TASK FORCE LIQUOR (1481)\",\"Inspection Type\"] = \"Task Force Liquor\"\n",
    "rest.loc[rest[\"Inspection Type\"] == \"Task Force Liquor 1475\",\"Inspection Type\"] = \"Task Force Liquor\"\n",
    "rest.loc[rest[\"Inspection Type\"] == \"Package Liquor 1474\",\"Inspection Type\"] = \"Task Force Liquor\"\n",
    "rest.loc[rest[\"Inspection Type\"] == \"1315 license reinspection\",\"Inspection Type\"] = \"License Re-Inspection\"\n",
    "rest.loc[rest[\"Inspection Type\"] == \"Out of Business\",\"Inspection Type\"] = \"OUT OF BUSINESS\"\n",
    "rest.loc[rest[\"Inspection Type\"] == \"No entry\",\"Inspection Type\"] = \"NO ENTRY\"\n",
    "rest.loc[rest[\"Inspection Type\"] == \"No Entry\",\"Inspection Type\"] = \"NO ENTRY\"\n",
    "rest.loc[rest[\"Inspection Type\"] == \"LICENSE TASK FORCE / NOT -FOR-PROFIT CLU\",\"Inspection Type\"] = \"LICENSE TASK FORCE / NOT -FOR-PROFIT CLUB\""
   ]
  },
  {
   "cell_type": "code",
   "execution_count": 175,
   "metadata": {
    "collapsed": false
   },
   "outputs": [
    {
     "data": {
      "text/plain": [
       "array(['Canvass', 'License Re-Inspection', 'Complaint', 'License',\n",
       "       'Canvass Re-Inspection', 'Short Form Complaint',\n",
       "       'Complaint Re-Inspection', 'Suspected Food Poisoning Re-inspection',\n",
       "       'Suspected Food Poisoning', 'Tag Removal', 'Consultation',\n",
       "       'Recent Inspection', nan, 'Not Ready', 'License-Task Force',\n",
       "       'Complaint-Fire Re-inspection', 'Complaint-Fire',\n",
       "       'Short Form Fire-Complaint', 'KITCHEN CLOSED FOR RENOVATION',\n",
       "       'Non-Inspection', 'CORRECTIVE ACTION', 'LICENSE CANCELED BY OWNER',\n",
       "       'Task Force Liquor', 'fire complaint', 'Pre-License Consultation',\n",
       "       'CANVASS SPECIAL EVENTS', 'OUT OF BUSINESS', 'NO ENTRY',\n",
       "       'Sample Collection', 'FIRE/COMPLAIN', 'Task Force Liquor Catering',\n",
       "       'SFP', 'CANVAS', 'no entry', 'SFP/COMPLAINT',\n",
       "       'Special Events (Festivals)', 'SFP/Complaint', 'expansion',\n",
       "       'SFP RECENTLY INSPECTED', 'CANVASS',\n",
       "       'CANVASS RE INSPECTION OF CLOSE UP', 'LICENSE REQUEST', 'TASKFORCE',\n",
       "       'LICENSE TASK FORCE / NOT -FOR-PROFIT CLUB', 'LICENSE/NOT READY',\n",
       "       'NO ENTRY-SHORT COMPLAINT)', 'error save', 'CHANGED COURT DATE',\n",
       "       'LIQUOR CATERING', 'citation re-issued', 'TASTE OF CHICAGO',\n",
       "       'HACCP QUESTIONAIRE', 'finish complaint inspection from 5-18-10',\n",
       "       'CANVASS FOR RIB FEST', 'RE-INSPECTION OF CLOSE-UP', 'REINSPECTION',\n",
       "       'LIQOUR TASK FORCE NOT READY', 'TASK FORCE NOT READY',\n",
       "       'POSSIBLE FBI'], dtype=object)"
      ]
     },
     "execution_count": 175,
     "metadata": {},
     "output_type": "execute_result"
    }
   ],
   "source": [
    "rest[\"Inspection Type\"].unique()"
   ]
  },
  {
   "cell_type": "markdown",
   "metadata": {},
   "source": [
    "This is interesting! We could combine and cleanup some of these..."
   ]
  },
  {
   "cell_type": "code",
   "execution_count": 176,
   "metadata": {
    "collapsed": false
   },
   "outputs": [
    {
     "data": {
      "text/plain": [
       "15854"
      ]
     },
     "execution_count": 176,
     "metadata": {},
     "output_type": "execute_result"
    }
   ],
   "source": [
    "#How many difference licenses... but, we need to cleanup some by making some determination...\n",
    "#some of these businesses have more than one license. Are they separate food & liquor licenses? \n",
    "rest[\"License #\"].unique().shape[0]"
   ]
  },
  {
   "cell_type": "code",
   "execution_count": 177,
   "metadata": {
    "collapsed": false
   },
   "outputs": [
    {
     "data": {
      "text/plain": [
       "(78897, 17)"
      ]
     },
     "execution_count": 177,
     "metadata": {},
     "output_type": "execute_result"
    }
   ],
   "source": [
    "#We want the business that are pass/fail\n",
    "rest = rest[(rest[\"Results\"] == \"Pass\") | (rest[\"Results\"] == \"Pass w/ Conditions\") | (rest[\"Results\"] == \"Fail\")]\n",
    "rest.shape"
   ]
  },
  {
   "cell_type": "code",
   "execution_count": 178,
   "metadata": {
    "collapsed": false
   },
   "outputs": [
    {
     "data": {
      "text/plain": [
       "(78897, 14)"
      ]
     },
     "execution_count": 178,
     "metadata": {},
     "output_type": "execute_result"
    }
   ],
   "source": [
    "#we'll remove superfluous columns\n",
    "rest = rest.drop('Location', 1)\n",
    "rest = rest.drop('State', 1)\n",
    "rest = rest.drop('City', 1)\n",
    "rest.shape"
   ]
  },
  {
   "cell_type": "code",
   "execution_count": 179,
   "metadata": {
    "collapsed": true
   },
   "outputs": [],
   "source": [
    "#let's recode the pass/fail\n",
    "rest.loc[rest.Results != 'Fail', 'Y'] = 0\n",
    "rest.loc[rest.Results == 'Fail', 'Y'] = 1"
   ]
  },
  {
   "cell_type": "code",
   "execution_count": 180,
   "metadata": {
    "collapsed": false
   },
   "outputs": [
    {
     "name": "stdout",
     "output_type": "stream",
     "text": [
      "P(Y=Fail|Inspection Type=Canvass) = 0.1982\n",
      "P(Y=Fail|Inspection Type=License Re-Inspection) = 0.1080\n",
      "P(Y=Fail|Inspection Type=Complaint) = 0.3198\n",
      "P(Y=Fail|Inspection Type=License) = 0.4139\n",
      "P(Y=Fail|Inspection Type=Canvass Re-Inspection) = 0.0463\n",
      "P(Y=Fail|Inspection Type=Short Form Complaint) = 0.1273\n",
      "P(Y=Fail|Inspection Type=Complaint Re-Inspection) = 0.0842\n",
      "P(Y=Fail|Inspection Type=Suspected Food Poisoning Re-inspection) = 0.0821\n",
      "P(Y=Fail|Inspection Type=Suspected Food Poisoning) = 0.2482\n",
      "P(Y=Fail|Inspection Type=Tag Removal) = 0.0435\n",
      "P(Y=Fail|Inspection Type=Consultation) = 0.1448\n",
      "P(Y=Fail|Inspection Type=Recent Inspection) = 0.0690\n",
      "P(Y=Fail|Inspection Type=nan) = 0.0000\n",
      "P(Y=Fail|Inspection Type=Complaint-Fire Re-inspection) = 0.1053\n",
      "P(Y=Fail|Inspection Type=Complaint-Fire) = 0.3902\n",
      "P(Y=Fail|Inspection Type=Short Form Fire-Complaint) = 0.2738\n",
      "P(Y=Fail|Inspection Type=Non-Inspection) = 1.0000\n",
      "P(Y=Fail|Inspection Type=License-Task Force) = 0.5986\n",
      "P(Y=Fail|Inspection Type=CORRECTIVE ACTION) = 0.0000\n",
      "P(Y=Fail|Inspection Type=Task Force Liquor) = 0.4886\n",
      "P(Y=Fail|Inspection Type=fire complaint) = 0.0000\n",
      "P(Y=Fail|Inspection Type=Pre-License Consultation) = 0.9000\n",
      "P(Y=Fail|Inspection Type=CANVASS SPECIAL EVENTS) = 0.0000\n",
      "P(Y=Fail|Inspection Type=NO ENTRY) = 0.4630\n",
      "P(Y=Fail|Inspection Type=Sample Collection) = 0.0000\n",
      "P(Y=Fail|Inspection Type=FIRE/COMPLAIN) = 1.0000\n",
      "P(Y=Fail|Inspection Type=Task Force Liquor Catering) = 0.0000\n",
      "P(Y=Fail|Inspection Type=SFP) = 0.2500\n",
      "P(Y=Fail|Inspection Type=CANVAS) = 0.0000\n",
      "P(Y=Fail|Inspection Type=no entry) = 1.0000\n",
      "P(Y=Fail|Inspection Type=SFP/COMPLAINT) = 0.2500\n",
      "P(Y=Fail|Inspection Type=Special Events (Festivals)) = 0.1429\n",
      "P(Y=Fail|Inspection Type=SFP/Complaint) = 1.0000\n",
      "P(Y=Fail|Inspection Type=expansion) = 0.0000\n",
      "P(Y=Fail|Inspection Type=OUT OF BUSINESS) = 0.4909\n",
      "P(Y=Fail|Inspection Type=SFP RECENTLY INSPECTED) = 0.0000\n",
      "P(Y=Fail|Inspection Type=Not Ready) = 1.0000\n",
      "P(Y=Fail|Inspection Type=CANVASS RE INSPECTION OF CLOSE UP) = 0.0000\n",
      "P(Y=Fail|Inspection Type=TASKFORCE) = 1.0000\n",
      "P(Y=Fail|Inspection Type=LICENSE TASK FORCE / NOT -FOR-PROFIT CLUB) = 0.0000\n",
      "P(Y=Fail|Inspection Type=LICENSE/NOT READY) = 1.0000\n",
      "P(Y=Fail|Inspection Type=NO ENTRY-SHORT COMPLAINT)) = 1.0000\n",
      "P(Y=Fail|Inspection Type=error save) = 0.0000\n",
      "P(Y=Fail|Inspection Type=CHANGED COURT DATE) = 0.0000\n",
      "P(Y=Fail|Inspection Type=LIQUOR CATERING) = 1.0000\n",
      "P(Y=Fail|Inspection Type=citation re-issued) = 0.0000\n",
      "P(Y=Fail|Inspection Type=TASTE OF CHICAGO) = 0.0000\n",
      "P(Y=Fail|Inspection Type=HACCP QUESTIONAIRE) = 0.0000\n",
      "P(Y=Fail|Inspection Type=finish complaint inspection from 5-18-10) = 1.0000\n",
      "P(Y=Fail|Inspection Type=LICENSE REQUEST) = 1.0000\n",
      "P(Y=Fail|Inspection Type=CANVASS FOR RIB FEST) = 0.0000\n",
      "P(Y=Fail|Inspection Type=RE-INSPECTION OF CLOSE-UP) = 1.0000\n",
      "P(Y=Fail|Inspection Type=REINSPECTION) = 0.0000\n",
      "P(Y=Fail|Inspection Type=LIQOUR TASK FORCE NOT READY) = 1.0000\n",
      "P(Y=Fail|Inspection Type=TASK FORCE NOT READY) = 1.0000\n",
      "P(Y=Fail|Inspection Type=POSSIBLE FBI) = 0.0000\n"
     ]
    }
   ],
   "source": [
    "#Here are some interesting pieces of aggregated info based on Inspection Type\n",
    "\n",
    "insp_types = rest[\"Inspection Type\"].unique()\n",
    "\n",
    "for i in insp_types:\n",
    "    insp = rest[rest[\"Inspection Type\"] == i]\n",
    "    total = float(insp.shape[0])\n",
    "    if(total != 0):\n",
    "        print \"P(Y=Fail|Inspection Type=%s) = %.4f\" % (i, insp[insp[\"Results\"] == 'Fail'].shape[0]/total)\n",
    "    else:\n",
    "        print \"P(Y=Fail|Inspection Type=%s) = %.4f\" % (i, 0)"
   ]
  },
  {
   "cell_type": "markdown",
   "metadata": {},
   "source": [
    "Some of these zeros and ones can be removed... "
   ]
  },
  {
   "cell_type": "code",
   "execution_count": 181,
   "metadata": {
    "collapsed": false
   },
   "outputs": [
    {
     "data": {
      "text/plain": [
       "1.0"
      ]
     },
     "execution_count": 181,
     "metadata": {},
     "output_type": "execute_result"
    }
   ],
   "source": [
    "#What's the proportion of business that fail a license request?\n",
    "lic = rest[rest[\"Inspection Type\"] == 'LICENSE REQUEST']\n",
    "lic[lic[\"Results\"] == 'Fail'].shape[0]/float(lic.shape[0])"
   ]
  },
  {
   "cell_type": "markdown",
   "metadata": {},
   "source": [
    "So, it looks like everyone fails when they first apply for a license... that's probably not relevent to us, so we could discard those"
   ]
  },
  {
   "cell_type": "code",
   "execution_count": 182,
   "metadata": {
    "collapsed": false
   },
   "outputs": [
    {
     "data": {
      "text/plain": [
       "array(['Fail'], dtype=object)"
      ]
     },
     "execution_count": 182,
     "metadata": {},
     "output_type": "execute_result"
    }
   ],
   "source": [
    "lic.Results.unique()"
   ]
  },
  {
   "cell_type": "code",
   "execution_count": 183,
   "metadata": {
    "collapsed": false
   },
   "outputs": [
    {
     "data": {
      "text/plain": [
       "0.10801493823613904"
      ]
     },
     "execution_count": 183,
     "metadata": {},
     "output_type": "execute_result"
    }
   ],
   "source": [
    "#ok, so every fails a lincense request the first time... (I wonder if that means we can exclude those)\n",
    "#what about a license reinspection?\n",
    "lic = rest[rest[\"Inspection Type\"] == 'License Re-Inspection']\n",
    "lic[lic[\"Results\"] == 'Fail'].shape[0]/float(lic.shape[0])"
   ]
  },
  {
   "cell_type": "markdown",
   "metadata": {},
   "source": [
    "## Number of Inspections"
   ]
  },
  {
   "cell_type": "markdown",
   "metadata": {},
   "source": [
    "When reinspected, 90% pass. I wonder if the 10% that fail here will fail over and over again? Worth considering"
   ]
  },
  {
   "cell_type": "code",
   "execution_count": 184,
   "metadata": {
    "collapsed": false
   },
   "outputs": [],
   "source": [
    "#How many inspections per license\n",
    "df_inspection_counts = pd.DataFrame()\n",
    "res = rest[[\"Results\", \"License #\"]].groupby(\"License #\").count()\n",
    "\n",
    "df_inspection_counts[\"total_inspections\"] = res[\"Results\"].reset_index()[\"Results\"]\n",
    "\n",
    "failures = rest[rest[\"Results\"] == \"Fail\"]\n",
    "res = failures[[\"Results\", \"License #\"]].groupby(\"License #\").count()\n",
    "\n",
    "df_inspection_counts[\"failed_inspections\"] = res[\"Results\"].reset_index()[\"Results\"]\n",
    "\n",
    "df_inspection_counts = df_inspection_counts.fillna(0, axis=0)\n",
    "\n",
    "df_inspection_counts[\"prop\"] = df_inspection_counts[\"failed_inspections\"]/df_inspection_counts[\"total_inspections\"]"
   ]
  },
  {
   "cell_type": "code",
   "execution_count": 185,
   "metadata": {
    "collapsed": false
   },
   "outputs": [
    {
     "data": {
      "text/plain": [
       "5.2011998154130135"
      ]
     },
     "execution_count": 185,
     "metadata": {},
     "output_type": "execute_result"
    }
   ],
   "source": [
    "df_inspection_counts[\"total_inspections\"].mean()"
   ]
  },
  {
   "cell_type": "markdown",
   "metadata": {},
   "source": [
    "On average, there are 5 inspections per license."
   ]
  },
  {
   "cell_type": "code",
   "execution_count": 186,
   "metadata": {
    "collapsed": false
   },
   "outputs": [
    {
     "data": {
      "text/plain": [
       "<matplotlib.text.Text at 0x11ddd0590>"
      ]
     },
     "execution_count": 186,
     "metadata": {},
     "output_type": "execute_result"
    },
    {
     "data": {
      "image/png": "[encoded data removed]",
      "text/plain": [
       "<matplotlib.figure.Figure at 0x13cad9b50>"
      ]
     },
     "metadata": {},
     "output_type": "display_data"
    }
   ],
   "source": [
    "#df_inspection_counts\n",
    "plt.scatter(df_inspection_counts[\"total_inspections\"], df_inspection_counts[\"prop\"] )\n",
    "plt.axhline(5, label=\"Mean\")\n",
    "plt.xlabel(\"Total Inspections\")\n",
    "plt.ylabel(\"Failure proportion\")\n",
    "plt.title(\"Failure proportion vs number of inspections\")"
   ]
  },
  {
   "cell_type": "markdown",
   "metadata": {},
   "source": [
    "This is interesting... The more times an establishment is inspected, the smaller the failure proportion. That could mean a lot of things... does it mean they get better over time? You'd think that the more complaints, the more inspections, and the more failures..."
   ]
  },
  {
   "cell_type": "code",
   "execution_count": 187,
   "metadata": {
    "collapsed": false
   },
   "outputs": [
    {
     "data": {
      "text/html": [
       "<div>\n",
       "<table border=\"1\" class=\"dataframe\">\n",
       "  <thead>\n",
       "    <tr style=\"text-align: right;\">\n",
       "      <th></th>\n",
       "      <th>Results</th>\n",
       "    </tr>\n",
       "    <tr>\n",
       "      <th>License #</th>\n",
       "      <th></th>\n",
       "    </tr>\n",
       "  </thead>\n",
       "  <tbody>\n",
       "    <tr>\n",
       "      <th>0.0</th>\n",
       "      <td>68</td>\n",
       "    </tr>\n",
       "    <tr>\n",
       "      <th>2.0</th>\n",
       "      <td>10</td>\n",
       "    </tr>\n",
       "    <tr>\n",
       "      <th>9.0</th>\n",
       "      <td>9</td>\n",
       "    </tr>\n",
       "    <tr>\n",
       "      <th>40.0</th>\n",
       "      <td>12</td>\n",
       "    </tr>\n",
       "    <tr>\n",
       "      <th>62.0</th>\n",
       "      <td>11</td>\n",
       "    </tr>\n",
       "  </tbody>\n",
       "</table>\n",
       "</div>"
      ],
      "text/plain": [
       "           Results\n",
       "License #         \n",
       "0.0             68\n",
       "2.0             10\n",
       "9.0              9\n",
       "40.0            12\n",
       "62.0            11"
      ]
     },
     "execution_count": 187,
     "metadata": {},
     "output_type": "execute_result"
    }
   ],
   "source": [
    "rest[[\"Results\", \"License #\"]].groupby(\"License #\").count().head(5)"
   ]
  },
  {
   "cell_type": "markdown",
   "metadata": {},
   "source": [
    "## Inspection Frequency"
   ]
  },
  {
   "cell_type": "code",
   "execution_count": 188,
   "metadata": {
    "collapsed": false
   },
   "outputs": [],
   "source": [
    "for a in rest[\"Inspection Date\"].unique():\n",
    "    if len(a) != 10:\n",
    "        print a"
   ]
  },
  {
   "cell_type": "code",
   "execution_count": 242,
   "metadata": {
    "collapsed": false
   },
   "outputs": [
    {
     "data": {
      "text/html": [
       "<div>\n",
       "<table border=\"1\" class=\"dataframe\">\n",
       "  <thead>\n",
       "    <tr style=\"text-align: right;\">\n",
       "      <th></th>\n",
       "      <th>Inspection ID</th>\n",
       "      <th>DBA Name</th>\n",
       "      <th>AKA Name</th>\n",
       "      <th>License #</th>\n",
       "      <th>Facility Type</th>\n",
       "      <th>Risk</th>\n",
       "      <th>Address</th>\n",
       "      <th>Zip</th>\n",
       "      <th>Inspection Date</th>\n",
       "      <th>Inspection Type</th>\n",
       "      <th>Results</th>\n",
       "      <th>Violations</th>\n",
       "      <th>Latitude</th>\n",
       "      <th>Longitude</th>\n",
       "      <th>Y</th>\n",
       "      <th>inspection_dt</th>\n",
       "    </tr>\n",
       "  </thead>\n",
       "  <tbody>\n",
       "    <tr>\n",
       "      <th>1</th>\n",
       "      <td>1970772</td>\n",
       "      <td>STARBUCKS COFFEE #2827</td>\n",
       "      <td>STARBUCKS COFFEE #2827</td>\n",
       "      <td>2093906.0</td>\n",
       "      <td>Restaurant</td>\n",
       "      <td>Risk 2 (Medium)</td>\n",
       "      <td>1174 E 55TH ST</td>\n",
       "      <td>60615.0</td>\n",
       "      <td>11/03/2016</td>\n",
       "      <td>Canvass</td>\n",
       "      <td>Pass</td>\n",
       "      <td>33. FOOD AND NON-FOOD CONTACT EQUIPMENT UTENSI...</td>\n",
       "      <td>41.795175</td>\n",
       "      <td>-87.596601</td>\n",
       "      <td>0.0</td>\n",
       "      <td>2016-11-03</td>\n",
       "    </tr>\n",
       "    <tr>\n",
       "      <th>3</th>\n",
       "      <td>1955335</td>\n",
       "      <td>CHIPOTLE MEXICAN GRILL#2768</td>\n",
       "      <td>CHIPOTLE</td>\n",
       "      <td>2476569.0</td>\n",
       "      <td>Restaurant</td>\n",
       "      <td>Risk 1 (High)</td>\n",
       "      <td>806 W 63RD ST</td>\n",
       "      <td>60621.0</td>\n",
       "      <td>11/02/2016</td>\n",
       "      <td>License Re-Inspection</td>\n",
       "      <td>Pass</td>\n",
       "      <td>NaN</td>\n",
       "      <td>41.779856</td>\n",
       "      <td>-87.645142</td>\n",
       "      <td>0.0</td>\n",
       "      <td>2016-11-02</td>\n",
       "    </tr>\n",
       "    <tr>\n",
       "      <th>4</th>\n",
       "      <td>1955334</td>\n",
       "      <td>CHIPOTLE MEXICAN GRILL#2768</td>\n",
       "      <td>CHIPOTLE</td>\n",
       "      <td>2476568.0</td>\n",
       "      <td>Restaurant</td>\n",
       "      <td>Risk 1 (High)</td>\n",
       "      <td>806 W 63RD ST</td>\n",
       "      <td>60621.0</td>\n",
       "      <td>11/02/2016</td>\n",
       "      <td>License Re-Inspection</td>\n",
       "      <td>Pass</td>\n",
       "      <td>2. FACILITIES TO MAINTAIN PROPER TEMPERATURE -...</td>\n",
       "      <td>41.779856</td>\n",
       "      <td>-87.645142</td>\n",
       "      <td>0.0</td>\n",
       "      <td>2016-11-02</td>\n",
       "    </tr>\n",
       "    <tr>\n",
       "      <th>5</th>\n",
       "      <td>1970747</td>\n",
       "      <td>SUBWAY #4267</td>\n",
       "      <td>SUBWAY</td>\n",
       "      <td>2354431.0</td>\n",
       "      <td>Restaurant</td>\n",
       "      <td>Risk 1 (High)</td>\n",
       "      <td>115 E 51ST ST</td>\n",
       "      <td>60615.0</td>\n",
       "      <td>11/02/2016</td>\n",
       "      <td>Canvass</td>\n",
       "      <td>Pass w/ Conditions</td>\n",
       "      <td>34. FLOORS: CONSTRUCTED PER CODE, CLEANED, GOO...</td>\n",
       "      <td>41.801902</td>\n",
       "      <td>-87.621926</td>\n",
       "      <td>0.0</td>\n",
       "      <td>2016-11-02</td>\n",
       "    </tr>\n",
       "    <tr>\n",
       "      <th>6</th>\n",
       "      <td>1970728</td>\n",
       "      <td>SANTULLO'S EATERY</td>\n",
       "      <td>SANTULLO'S EATERY</td>\n",
       "      <td>1767714.0</td>\n",
       "      <td>Restaurant</td>\n",
       "      <td>Risk 1 (High)</td>\n",
       "      <td>1943-1945 W NORTH AVE</td>\n",
       "      <td>60622.0</td>\n",
       "      <td>11/02/2016</td>\n",
       "      <td>Complaint</td>\n",
       "      <td>Fail</td>\n",
       "      <td>2. FACILITIES TO MAINTAIN PROPER TEMPERATURE -...</td>\n",
       "      <td>41.910387</td>\n",
       "      <td>-87.676831</td>\n",
       "      <td>1.0</td>\n",
       "      <td>2016-11-02</td>\n",
       "    </tr>\n",
       "  </tbody>\n",
       "</table>\n",
       "</div>"
      ],
      "text/plain": [
       "   Inspection ID                     DBA Name                AKA Name  \\\n",
       "1        1970772       STARBUCKS COFFEE #2827  STARBUCKS COFFEE #2827   \n",
       "3        1955335  CHIPOTLE MEXICAN GRILL#2768                CHIPOTLE   \n",
       "4        1955334  CHIPOTLE MEXICAN GRILL#2768                CHIPOTLE   \n",
       "5        1970747                 SUBWAY #4267                  SUBWAY   \n",
       "6        1970728            SANTULLO'S EATERY       SANTULLO'S EATERY   \n",
       "\n",
       "   License # Facility Type             Risk                 Address      Zip  \\\n",
       "1  2093906.0    Restaurant  Risk 2 (Medium)         1174 E 55TH ST   60615.0   \n",
       "3  2476569.0    Restaurant    Risk 1 (High)          806 W 63RD ST   60621.0   \n",
       "4  2476568.0    Restaurant    Risk 1 (High)          806 W 63RD ST   60621.0   \n",
       "5  2354431.0    Restaurant    Risk 1 (High)          115 E 51ST ST   60615.0   \n",
       "6  1767714.0    Restaurant    Risk 1 (High)  1943-1945 W NORTH AVE   60622.0   \n",
       "\n",
       "  Inspection Date        Inspection Type             Results  \\\n",
       "1      11/03/2016                Canvass                Pass   \n",
       "3      11/02/2016  License Re-Inspection                Pass   \n",
       "4      11/02/2016  License Re-Inspection                Pass   \n",
       "5      11/02/2016                Canvass  Pass w/ Conditions   \n",
       "6      11/02/2016              Complaint                Fail   \n",
       "\n",
       "                                          Violations   Latitude  Longitude  \\\n",
       "1  33. FOOD AND NON-FOOD CONTACT EQUIPMENT UTENSI...  41.795175 -87.596601   \n",
       "3                                                NaN  41.779856 -87.645142   \n",
       "4  2. FACILITIES TO MAINTAIN PROPER TEMPERATURE -...  41.779856 -87.645142   \n",
       "5  34. FLOORS: CONSTRUCTED PER CODE, CLEANED, GOO...  41.801902 -87.621926   \n",
       "6  2. FACILITIES TO MAINTAIN PROPER TEMPERATURE -...  41.910387 -87.676831   \n",
       "\n",
       "     Y inspection_dt  \n",
       "1  0.0    2016-11-03  \n",
       "3  0.0    2016-11-02  \n",
       "4  0.0    2016-11-02  \n",
       "5  0.0    2016-11-02  \n",
       "6  1.0    2016-11-02  "
      ]
     },
     "execution_count": 242,
     "metadata": {},
     "output_type": "execute_result"
    }
   ],
   "source": [
    "#avg # inspections per year\n",
    "rest[\"inspection_dt\"] = pd.to_datetime(rest[\"Inspection Date\"])\n",
    "rest.head()"
   ]
  },
  {
   "cell_type": "code",
   "execution_count": 243,
   "metadata": {
    "collapsed": false
   },
   "outputs": [
    {
     "data": {
      "text/html": [
       "<div>\n",
       "<table border=\"1\" class=\"dataframe\">\n",
       "  <thead>\n",
       "    <tr style=\"text-align: right;\">\n",
       "      <th></th>\n",
       "      <th></th>\n",
       "      <th>Results</th>\n",
       "    </tr>\n",
       "    <tr>\n",
       "      <th>License #</th>\n",
       "      <th>inspection_dt</th>\n",
       "      <th></th>\n",
       "    </tr>\n",
       "  </thead>\n",
       "  <tbody>\n",
       "    <tr>\n",
       "      <th rowspan=\"5\" valign=\"top\">0.0</th>\n",
       "      <th>2010</th>\n",
       "      <td>5</td>\n",
       "    </tr>\n",
       "    <tr>\n",
       "      <th>2011</th>\n",
       "      <td>8</td>\n",
       "    </tr>\n",
       "    <tr>\n",
       "      <th>2012</th>\n",
       "      <td>20</td>\n",
       "    </tr>\n",
       "    <tr>\n",
       "      <th>2013</th>\n",
       "      <td>8</td>\n",
       "    </tr>\n",
       "    <tr>\n",
       "      <th>2014</th>\n",
       "      <td>9</td>\n",
       "    </tr>\n",
       "  </tbody>\n",
       "</table>\n",
       "</div>"
      ],
      "text/plain": [
       "                         Results\n",
       "License # inspection_dt         \n",
       "0.0       2010                 5\n",
       "          2011                 8\n",
       "          2012                20\n",
       "          2013                 8\n",
       "          2014                 9"
      ]
     },
     "execution_count": 243,
     "metadata": {},
     "output_type": "execute_result"
    }
   ],
   "source": [
    "dt_grp = rest[[\"Results\", \"License #\"]].groupby([\"License #\", rest[\"inspection_dt\"].dt.year]).count()\n",
    "dt_grp.head()"
   ]
  },
  {
   "cell_type": "code",
   "execution_count": 203,
   "metadata": {
    "collapsed": false
   },
   "outputs": [
    {
     "data": {
      "text/plain": [
       "1.4967281380130875"
      ]
     },
     "execution_count": 203,
     "metadata": {},
     "output_type": "execute_result"
    }
   ],
   "source": [
    "temp = dt_grp[\"Results\"].reset_index()\n",
    "temp[temp.inspection_dt == 2016][\"Results\"].mean()"
   ]
  },
  {
   "cell_type": "markdown",
   "metadata": {},
   "source": [
    "## Repeat Offenders"
   ]
  },
  {
   "cell_type": "markdown",
   "metadata": {},
   "source": [
    "The average number inspections per license. This might be interesting to consider how a particular establishment compares to the mean, and their failure rate."
   ]
  },
  {
   "cell_type": "code",
   "execution_count": 230,
   "metadata": {
    "collapsed": false
   },
   "outputs": [
    {
     "data": {
      "text/plain": [
       "<matplotlib.legend.Legend at 0x127ac2f50>"
      ]
     },
     "execution_count": 230,
     "metadata": {},
     "output_type": "execute_result"
    },
    {
     "data": {
      "image/png": "[encoded data removed]",
      "text/plain": [
       "<matplotlib.figure.Figure at 0x127ac2bd0>"
      ]
     },
     "metadata": {},
     "output_type": "display_data"
    }
   ],
   "source": [
    "#previous failure have any bearing on next? show prop of failures with a previous one\n",
    "#let's take only 2016 and see if any failure in the past\n",
    "#we'll recode 2016 and past.. and see if there's any correlation between them\n",
    "#let's calculate P(Y=1|Y_past=1) vs P(Y=1)\n",
    "previous_fails = pd.DataFrame()\n",
    "this_year = rest[rest[\"inspection_dt\"].dt.year == 2016]\n",
    "previous_years = rest[rest[\"inspection_dt\"].dt.year < 2016]\n",
    "temp = this_year[[\"License #\", \"Y\"]].groupby(\"License #\").max()\n",
    "\n",
    "previous_fails = temp\n",
    "previous_fails = previous_fails.reset_index(\"License #\")\n",
    "\n",
    "temp = previous_years[[\"License #\", \"Y\"]].groupby(\"License #\").max()\n",
    "previous_fails[\"previous_F\"] = temp.reset_index()[\"Y\"]\n",
    "\n",
    "#let's do some calculations and plotting:\n",
    "\n",
    "#plt.hist(previous_fails[previous_fails[\"Y\"] == previous_fails[\"previous_F\"]][\"Y\"])\n",
    "repeat_fail = previous_fails[(previous_fails[\"Y\"] == 1) & (previous_fails[\"previous_F\"] == 1)][\"Y\"].count()\n",
    "new_fail = previous_fails[(previous_fails[\"Y\"] == 1) & (previous_fails[\"previous_F\"] == 0)][\"Y\"].count()\n",
    "repeat_pass = previous_fails[(previous_fails[\"Y\"] == 0) & (previous_fails[\"previous_F\"] == 0)][\"Y\"].count()\n",
    "new_pass = previous_fails[(previous_fails[\"Y\"] == 0) & (previous_fails[\"previous_F\"] == 1)][\"Y\"].count()\n",
    "repeats = [repeat_fail, repeat_pass]\n",
    "plt.bar([1,0],[repeat_fail, repeat_pass], label=\"Repeat\", color='#F1911E')\n",
    "plt.bar([1,0], [new_fail, new_pass], bottom=[repeat_fail, repeat_pass], label=\"New\", color='#F1BD1A')\n",
    "plt.xticks([1,0], (\"Fail\", \"Pass\"))\n",
    "\n",
    "plt.legend(loc=\"best\")"
   ]
  },
  {
   "cell_type": "markdown",
   "metadata": {},
   "source": [
    "This is a bar plot of the repeat vs new pass/fail. The dark color is the repeat passers (good businesses) and failures (repeat offenders). the lighter color are first time passers and first time offenders."
   ]
  },
  {
   "cell_type": "code",
   "execution_count": 231,
   "metadata": {
    "collapsed": false
   },
   "outputs": [
    {
     "data": {
      "text/html": [
       "<div>\n",
       "<table border=\"1\" class=\"dataframe\">\n",
       "  <thead>\n",
       "    <tr style=\"text-align: right;\">\n",
       "      <th></th>\n",
       "      <th>Results</th>\n",
       "    </tr>\n",
       "    <tr>\n",
       "      <th>Risk</th>\n",
       "      <th></th>\n",
       "    </tr>\n",
       "  </thead>\n",
       "  <tbody>\n",
       "    <tr>\n",
       "      <th>All</th>\n",
       "      <td>1</td>\n",
       "    </tr>\n",
       "    <tr>\n",
       "      <th>Risk 1 (High)</th>\n",
       "      <td>62508</td>\n",
       "    </tr>\n",
       "    <tr>\n",
       "      <th>Risk 2 (Medium)</th>\n",
       "      <td>15577</td>\n",
       "    </tr>\n",
       "    <tr>\n",
       "      <th>Risk 3 (Low)</th>\n",
       "      <td>808</td>\n",
       "    </tr>\n",
       "  </tbody>\n",
       "</table>\n",
       "</div>"
      ],
      "text/plain": [
       "                 Results\n",
       "Risk                    \n",
       "All                    1\n",
       "Risk 1 (High)      62508\n",
       "Risk 2 (Medium)    15577\n",
       "Risk 3 (Low)         808"
      ]
     },
     "execution_count": 231,
     "metadata": {},
     "output_type": "execute_result"
    }
   ],
   "source": [
    "#risk?\n",
    "failures_by_risk = rest[[\"Results\", \"Risk\"]].groupby(\"Risk\").count()\n",
    "failures_by_risk[failures_by_risk[\"Risk\"]]"
   ]
  },
  {
   "cell_type": "code",
   "execution_count": 232,
   "metadata": {
    "collapsed": false
   },
   "outputs": [
    {
     "data": {
      "text/plain": [
       "0.20896865533543735"
      ]
     },
     "execution_count": 232,
     "metadata": {},
     "output_type": "execute_result"
    }
   ],
   "source": [
    "#overall probability of failing:\n",
    "rest[rest[\"Y\"] == 1].shape[0]/float(rest.shape[0])"
   ]
  },
  {
   "cell_type": "markdown",
   "metadata": {},
   "source": [
    "## Risk Score"
   ]
  },
  {
   "cell_type": "code",
   "execution_count": 241,
   "metadata": {
    "collapsed": false
   },
   "outputs": [
    {
     "name": "stdout",
     "output_type": "stream",
     "text": [
      "P(Risk=1|Y=1) = 0.799418\n",
      "P(Risk=1) = 0.792273\n",
      "# of Risk 1 passing = 49328.000000\n",
      "P(Risk=2|Y=1) = 0.187117\n",
      "P(Risk=2) = 0.197435\n",
      "# of Risk 2 passing = 12492.000000\n",
      "P(Risk=3|Y=1) = 0.013223\n",
      "P(Risk=3) = 0.010241\n",
      "# of Risk 4 passing = 590.000000\n"
     ]
    }
   ],
   "source": [
    "#how do the risk categories compare?\n",
    "failures = rest[rest[\"Y\"] == 1]\n",
    "\n",
    "print \"P(Risk=1|Y=1) = %4f\" % (failures[failures[\"Risk\"] == \"Risk 1 (High)\"].shape[0]/float(failures.shape[0]))\n",
    "print \"P(Risk=1) = %4f\" % (rest[rest[\"Risk\"] == \"Risk 1 (High)\"].shape[0]/float(rest.shape[0]))\n",
    "print \"# of Risk 1 passing = %4f\" % (rest[(rest[\"Risk\"] == \"Risk 1 (High)\") & (rest[\"Y\"] == 0)].shape[0])\n",
    "\n",
    "print \"P(Risk=2|Y=1) = %4f\" % (failures[failures[\"Risk\"] == \"Risk 2 (Medium)\"].shape[0]/float(failures.shape[0]))\n",
    "print \"P(Risk=2) = %4f\" % (rest[rest[\"Risk\"] == \"Risk 2 (Medium)\"].shape[0]/float(rest.shape[0]))\n",
    "print \"# of Risk 2 passing = %4f\" % (rest[(rest[\"Risk\"] == \"Risk 2 (Medium)\") & (rest[\"Y\"] == 0)].shape[0])\n",
    "\n",
    "print \"P(Risk=3|Y=1) = %4f\" % (failures[failures[\"Risk\"] == \"Risk 3 (Low)\"].shape[0]/float(failures.shape[0]))\n",
    "print \"P(Risk=3) = %4f\" % (rest[rest[\"Risk\"] == \"Risk 3 (Low)\"].shape[0]/float(rest.shape[0]))\n",
    "print \"# of Risk 4 passing = %4f\" % (rest[(rest[\"Risk\"] == \"Risk 3 (Low)\") & (rest[\"Y\"] == 0)].shape[0])"
   ]
  },
  {
   "cell_type": "markdown",
   "metadata": {},
   "source": [
    "Risk is interesting. Are they assessed this after inspection, or by the license type before hand? In any case, Failure seems to strongly follow risk for whatever reason."
   ]
  },
  {
   "cell_type": "code",
   "execution_count": null,
   "metadata": {
    "collapsed": true
   },
   "outputs": [],
   "source": []
  }
 ],
 "metadata": {
  "anaconda-cloud": {},
  "kernelspec": {
   "display_name": "Python [Root]",
   "language": "python",
   "name": "Python [Root]"
  },
  "language_info": {
   "codemirror_mode": {
    "name": "ipython",
    "version": 2
   },
   "file_extension": ".py",
   "mimetype": "text/x-python",
   "name": "python",
   "nbconvert_exporter": "python",
   "pygments_lexer": "ipython2",
   "version": "2.7.12"
  }
 },
 "nbformat": 4,
 "nbformat_minor": 0
}
