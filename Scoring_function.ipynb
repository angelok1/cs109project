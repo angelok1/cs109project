{
 "cells": [
  {
   "cell_type": "code",
   "execution_count": 58,
   "metadata": {
    "collapsed": true
   },
   "outputs": [],
   "source": [
    "# Data manipulation\n",
    "import numpy as np\n",
    "import pandas as pd\n",
    "\n",
    "# Ploting\n",
    "import matplotlib\n",
    "import matplotlib.pyplot as plt\n",
    "%matplotlib inline\n",
    "\n",
    "# Scientific computing\n",
    "import scipy as sp\n",
    "\n",
    "# Machine Learning\n",
    "from sklearn.cross_validation import train_test_split\n",
    "from sklearn import linear_model\n",
    "from sklearn.decomposition import PCA\n",
    "from sklearn.cross_validation import KFold\n",
    "from sklearn import svm\n",
    "from sklearn.ensemble import RandomForestClassifier, AdaBoostClassifier\n",
    "from sklearn.linear_model import LogisticRegression\n",
    "from sklearn.grid_search import GridSearchCV\n",
    "from sklearn.cross_validation import StratifiedShuffleSplit\n",
    "from sklearn.metrics import f1_score\n",
    "import random\n",
    "import datetime as dt\n",
    "from sklearn import tree"
   ]
  },
  {
   "cell_type": "code",
   "execution_count": 4,
   "metadata": {
    "collapsed": false
   },
   "outputs": [],
   "source": [
    "df = pd.read_csv('data/inspections_clean.csv')"
   ]
  },
  {
   "cell_type": "code",
   "execution_count": 40,
   "metadata": {
    "collapsed": false
   },
   "outputs": [],
   "source": [
    "#last 2 months\n",
    "df.inspection_dt = df.inspection_dt.astype('datetime64[ns]')\n",
    "last2_df = df[((df.inspection_dt.dt.month==9) | (df.inspection_dt.dt.month==10)) & (df.inspection_dt.dt.year==2016)]"
   ]
  },
  {
   "cell_type": "code",
   "execution_count": 52,
   "metadata": {
    "collapsed": false
   },
   "outputs": [
    {
     "data": {
      "text/plain": [
       "inspection_dt\n",
       "1      57\n",
       "2      64\n",
       "3       2\n",
       "4      63\n",
       "5      51\n",
       "6     111\n",
       "7      68\n",
       "8      71\n",
       "9      59\n",
       "11     47\n",
       "12      2\n",
       "13    126\n",
       "14    109\n",
       "15     62\n",
       "16     70\n",
       "17     33\n",
       "18     51\n",
       "19     77\n",
       "20     96\n",
       "21     71\n",
       "22     58\n",
       "23     49\n",
       "24     33\n",
       "25     44\n",
       "26     71\n",
       "27    106\n",
       "28     61\n",
       "29     56\n",
       "30     59\n",
       "31     13\n",
       "Name: inspection_dt, dtype: int64"
      ]
     },
     "execution_count": 52,
     "metadata": {},
     "output_type": "execute_result"
    }
   ],
   "source": [
    "last2_df.inspection_dt.groupby(last2_df.inspection_dt.dt.day).count()"
   ]
  },
  {
   "cell_type": "code",
   "execution_count": 54,
   "metadata": {
    "collapsed": false
   },
   "outputs": [
    {
     "data": {
      "text/plain": [
       "30"
      ]
     },
     "execution_count": 54,
     "metadata": {},
     "output_type": "execute_result"
    }
   ],
   "source": [
    "#assume 30 /day since that's the average\n",
    "last2_df.shape[0]/60"
   ]
  },
  {
   "cell_type": "code",
   "execution_count": 55,
   "metadata": {
    "collapsed": false
   },
   "outputs": [
    {
     "data": {
      "text/plain": [
       "Index([u'Unnamed: 0', u'License #', u'risk_description', u'Zip',\n",
       "       u'inspection_date_string', u'Y_description', u'Latitude', u'Longitude',\n",
       "       u'Y', u'Y_fail', u'reinspection?', u'recent_inspection?',\n",
       "       u'task_force?', u'special_event?', u'canvass?', u'closeup?', u'liquor?',\n",
       "       u'fire?', u'child?', u'no_entry?', u'complaint?', u'license?', u'risk',\n",
       "       u'inspection_type', u'inspection_dt', u'prev_fail',\n",
       "       u'cumulative_failures', u'ever_failed', u'cumulative_inspections',\n",
       "       u'proportion_past_failures', u'days_since_last_inspection'],\n",
       "      dtype='object')"
      ]
     },
     "execution_count": 55,
     "metadata": {},
     "output_type": "execute_result"
    }
   ],
   "source": [
    "last2_df.columns"
   ]
  },
  {
   "cell_type": "code",
   "execution_count": 95,
   "metadata": {
    "collapsed": false
   },
   "outputs": [],
   "source": [
    "y = pd.DataFrame()\n",
    "y[\"License #\"] = last2_df[\"License #\"]\n",
    "y[\"Y_fail\"] = last2_df[\"Y_fail\"]\n",
    "y[\"inspection_dt\"] = last2_df[\"inspection_dt\"].astype('datetime64[ns]')\n",
    "\n",
    "\n",
    "y_hat = pd.DataFrame()\n",
    "y_hat[\"License #\"] = last2_df[\"License #\"]\n",
    "#fake predictions (random)\n",
    "y_hat[\"Y_fail\"] = np.random.randint(0,2,size=y.shape[0]) #random pass/fail\n",
    "#y_hat[\"inspection_dt\"] = last2_df[\"inspection_dt\"].astype('datetime64[ns]')\n",
    "\n"
   ]
  },
  {
   "cell_type": "markdown",
   "metadata": {},
   "source": [
    "#now for the sake of naieve testing, we'll group the fails and assign 30/day\n",
    "\n",
    "dates = []\n",
    "\n",
    "for o in range(736208,736269): #ordinals for 9/1 to 10/31\n",
    "    dates.append(dt.date.fromordinal(o))\n",
    "\n",
    "y_hat = y_hat.sort(['Y_fail'], ascending=[0])\n",
    "#y_hat[\"inspection_dt\"] = y_hat[\"inspection_dt\"].astype('datetime64[ns]')\n",
    "\n",
    "j=0\n",
    "k=0\n",
    "for i,item in y_hat.iterrows():\n",
    "    #print i, item\n",
    "    #item[\"inspection_dt\"] = dates[k]\n",
    "    #y_hat.loc[y_hat.iloc[i], 'inspection_dt'] = dates[k]\n",
    "    y_hat.ix[i, \"inspection_dt\"] = dates[k]\n",
    "    \n",
    "    j = j+1\n",
    "    \n",
    "    if j > 30: #max allowed per day\n",
    "        j = 1 #reset the counter\n",
    "\n",
    "        if k < len(dates) - 1:\n",
    "            k = k + 1 #move to next day"
   ]
  },
  {
   "cell_type": "code",
   "execution_count": 115,
   "metadata": {
    "collapsed": true
   },
   "outputs": [],
   "source": [
    "#change its type to match\n",
    "y_hat[\"inspection_dt\"] = y_hat[\"inspection_dt\"].astype('datetime64[ns]')"
   ]
  },
  {
   "cell_type": "code",
   "execution_count": 208,
   "metadata": {
    "collapsed": false
   },
   "outputs": [
    {
     "data": {
      "text/plain": [
       "-4.4830917874396139"
      ]
     },
     "execution_count": 208,
     "metadata": {},
     "output_type": "execute_result"
    }
   ],
   "source": [
    "def score(predicted, actual):\n",
    "    #iterate each actual\n",
    "    deltas = []\n",
    "    \n",
    "    actual_fails = actual[actual[\"Y_fail\"] == 1]\n",
    "    \n",
    "    for i,item in actual_fails.iterrows(): \n",
    "        #find the corresponding predicted and calculate a date delta for fails only\n",
    "        predicted_dt = predicted[predicted.index == item.name][\"inspection_dt\"]\n",
    "        diff = (item.inspection_dt - predicted_dt).dt.days\n",
    "        diff = diff.reset_index()\n",
    "        deltas.append(diff[\"inspection_dt\"].astype('int'))\n",
    "    #avg them\n",
    "    s = np.mean(scores)\n",
    "    return s\n",
    "    \n",
    "score(y_hat, y)"
   ]
  },
  {
   "cell_type": "markdown",
   "metadata": {},
   "source": [
    "This means that this (random) model caught failures 4.4 days better than the actual inspection process, on average."
   ]
  },
  {
   "cell_type": "code",
   "execution_count": 214,
   "metadata": {
    "collapsed": false
   },
   "outputs": [
    {
     "data": {
      "text/plain": [
       "0.70289855072463769"
      ]
     },
     "execution_count": 214,
     "metadata": {},
     "output_type": "execute_result"
    }
   ],
   "source": [
    "#Another way to measure is the proportion of actual \n",
    "#failures caught in the first 30 days\n",
    "def score2(predicted, actual):\n",
    "    actual_fails = actual[actual[\"Y_fail\"] == 1]\n",
    "    \n",
    "    predicted_first_month = predicted[predicted.inspection_dt.dt.month == 9]\n",
    "    \n",
    "    overlap = actual_fails[actual_fails[\"License #\"].isin(predicted_first_month[\"License #\"])][\"License #\"].count()\n",
    "\n",
    "    return overlap/float(actual_fails.shape[0])\n",
    "\n",
    "score2(y_hat, y)"
   ]
  },
  {
   "cell_type": "markdown",
   "metadata": {},
   "source": [
    "This is saying that this model caught 70% of the failures in the first month"
   ]
  }
 ],
 "metadata": {
  "anaconda-cloud": {},
  "kernelspec": {
   "display_name": "Python [conda root]",
   "language": "python",
   "name": "conda-root-py"
  },
  "language_info": {
   "codemirror_mode": {
    "name": "ipython",
    "version": 2
   },
   "file_extension": ".py",
   "mimetype": "text/x-python",
   "name": "python",
   "nbconvert_exporter": "python",
   "pygments_lexer": "ipython2",
   "version": "2.7.12"
  }
 },
 "nbformat": 4,
 "nbformat_minor": 1
}
