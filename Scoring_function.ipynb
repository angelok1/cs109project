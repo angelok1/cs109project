{
 "cells": [
  {
   "cell_type": "code",
   "execution_count": 129,
   "metadata": {
    "collapsed": false
   },
   "outputs": [],
   "source": [
    "# Data manipulation\n",
    "import numpy as np\n",
    "import pandas as pd\n",
    "\n",
    "# Ploting\n",
    "import matplotlib\n",
    "import matplotlib.pyplot as plt\n",
    "%matplotlib inline\n",
    "\n",
    "# Scientific computing\n",
    "import scipy as sp\n",
    "\n",
    "# Machine Learning\n",
    "from sklearn.cross_validation import train_test_split\n",
    "from sklearn import linear_model\n",
    "from sklearn.decomposition import PCA\n",
    "from sklearn.cross_validation import KFold\n",
    "from sklearn import svm\n",
    "from sklearn.ensemble import RandomForestClassifier, AdaBoostClassifier\n",
    "from sklearn.linear_model import LogisticRegression\n",
    "from sklearn.grid_search import GridSearchCV\n",
    "from sklearn.cross_validation import StratifiedShuffleSplit\n",
    "from sklearn.metrics import f1_score\n",
    "import random\n",
    "import datetime as dt\n",
    "from sklearn import tree\n",
    "import pickle\n",
    "import seaborn as sns"
   ]
  },
  {
   "cell_type": "code",
   "execution_count": 116,
   "metadata": {
    "collapsed": false
   },
   "outputs": [],
   "source": [
    "# load the model from disk\n",
    "lda_model = pickle.load(open('models/lda_model.sav', 'rb'))\n",
    "log_model = pickle.load(open('models/log_model.sav', 'rb'))\n",
    "qda_model = pickle.load(open('models/qda_model.sav', 'rb'))\n",
    "tree_model = pickle.load(open('models/tree.fit.sav', 'rb'))\n",
    "ada_model = pickle.load(open('models/ada_fit.sav', 'rb'))\n",
    "forest_model = pickle.load(open('models/rf_model.sav', 'rb'))"
   ]
  },
  {
   "cell_type": "code",
   "execution_count": 3,
   "metadata": {
    "collapsed": false
   },
   "outputs": [],
   "source": [
    "df = pd.read_csv('data/x_60_days.csv')"
   ]
  },
  {
   "cell_type": "code",
   "execution_count": 5,
   "metadata": {
    "collapsed": false
   },
   "outputs": [
    {
     "data": {
      "text/html": [
       "<div>\n",
       "<table border=\"1\" class=\"dataframe\">\n",
       "  <thead>\n",
       "    <tr style=\"text-align: right;\">\n",
       "      <th></th>\n",
       "      <th>Unnamed: 0</th>\n",
       "      <th>reinspection</th>\n",
       "      <th>recent_inspection</th>\n",
       "      <th>task_force</th>\n",
       "      <th>special_event</th>\n",
       "      <th>canvass</th>\n",
       "      <th>closeup</th>\n",
       "      <th>liquor</th>\n",
       "      <th>fire</th>\n",
       "      <th>no_entry</th>\n",
       "      <th>...</th>\n",
       "      <th>license_status_AAI</th>\n",
       "      <th>license_status_Missing</th>\n",
       "      <th>license_status_REV</th>\n",
       "      <th>inspection_weekday_Friday</th>\n",
       "      <th>inspection_weekday_Monday</th>\n",
       "      <th>inspection_weekday_Saturday</th>\n",
       "      <th>inspection_weekday_Sunday</th>\n",
       "      <th>inspection_weekday_Thursday</th>\n",
       "      <th>inspection_weekday_Tuesday</th>\n",
       "      <th>inspection_weekday_Wednesday</th>\n",
       "    </tr>\n",
       "  </thead>\n",
       "  <tbody>\n",
       "    <tr>\n",
       "      <th>0</th>\n",
       "      <td>1852</td>\n",
       "      <td>0</td>\n",
       "      <td>0</td>\n",
       "      <td>0</td>\n",
       "      <td>0</td>\n",
       "      <td>1</td>\n",
       "      <td>0</td>\n",
       "      <td>0</td>\n",
       "      <td>0</td>\n",
       "      <td>0</td>\n",
       "      <td>...</td>\n",
       "      <td>0.0</td>\n",
       "      <td>1.0</td>\n",
       "      <td>0.0</td>\n",
       "      <td>0.0</td>\n",
       "      <td>0.0</td>\n",
       "      <td>0.0</td>\n",
       "      <td>0.0</td>\n",
       "      <td>1.0</td>\n",
       "      <td>0.0</td>\n",
       "      <td>0.0</td>\n",
       "    </tr>\n",
       "    <tr>\n",
       "      <th>1</th>\n",
       "      <td>1881</td>\n",
       "      <td>0</td>\n",
       "      <td>0</td>\n",
       "      <td>0</td>\n",
       "      <td>0</td>\n",
       "      <td>0</td>\n",
       "      <td>0</td>\n",
       "      <td>0</td>\n",
       "      <td>0</td>\n",
       "      <td>0</td>\n",
       "      <td>...</td>\n",
       "      <td>1.0</td>\n",
       "      <td>0.0</td>\n",
       "      <td>0.0</td>\n",
       "      <td>0.0</td>\n",
       "      <td>0.0</td>\n",
       "      <td>0.0</td>\n",
       "      <td>0.0</td>\n",
       "      <td>1.0</td>\n",
       "      <td>0.0</td>\n",
       "      <td>0.0</td>\n",
       "    </tr>\n",
       "    <tr>\n",
       "      <th>2</th>\n",
       "      <td>1882</td>\n",
       "      <td>0</td>\n",
       "      <td>0</td>\n",
       "      <td>0</td>\n",
       "      <td>0</td>\n",
       "      <td>0</td>\n",
       "      <td>0</td>\n",
       "      <td>0</td>\n",
       "      <td>0</td>\n",
       "      <td>0</td>\n",
       "      <td>...</td>\n",
       "      <td>1.0</td>\n",
       "      <td>0.0</td>\n",
       "      <td>0.0</td>\n",
       "      <td>0.0</td>\n",
       "      <td>0.0</td>\n",
       "      <td>0.0</td>\n",
       "      <td>0.0</td>\n",
       "      <td>1.0</td>\n",
       "      <td>0.0</td>\n",
       "      <td>0.0</td>\n",
       "    </tr>\n",
       "    <tr>\n",
       "      <th>3</th>\n",
       "      <td>1883</td>\n",
       "      <td>0</td>\n",
       "      <td>0</td>\n",
       "      <td>0</td>\n",
       "      <td>0</td>\n",
       "      <td>1</td>\n",
       "      <td>0</td>\n",
       "      <td>0</td>\n",
       "      <td>0</td>\n",
       "      <td>0</td>\n",
       "      <td>...</td>\n",
       "      <td>0.0</td>\n",
       "      <td>1.0</td>\n",
       "      <td>0.0</td>\n",
       "      <td>0.0</td>\n",
       "      <td>0.0</td>\n",
       "      <td>0.0</td>\n",
       "      <td>0.0</td>\n",
       "      <td>1.0</td>\n",
       "      <td>0.0</td>\n",
       "      <td>0.0</td>\n",
       "    </tr>\n",
       "    <tr>\n",
       "      <th>4</th>\n",
       "      <td>1853</td>\n",
       "      <td>1</td>\n",
       "      <td>0</td>\n",
       "      <td>0</td>\n",
       "      <td>0</td>\n",
       "      <td>0</td>\n",
       "      <td>0</td>\n",
       "      <td>0</td>\n",
       "      <td>0</td>\n",
       "      <td>0</td>\n",
       "      <td>...</td>\n",
       "      <td>1.0</td>\n",
       "      <td>0.0</td>\n",
       "      <td>0.0</td>\n",
       "      <td>0.0</td>\n",
       "      <td>0.0</td>\n",
       "      <td>0.0</td>\n",
       "      <td>0.0</td>\n",
       "      <td>1.0</td>\n",
       "      <td>0.0</td>\n",
       "      <td>0.0</td>\n",
       "    </tr>\n",
       "  </tbody>\n",
       "</table>\n",
       "<p>5 rows × 50 columns</p>\n",
       "</div>"
      ],
      "text/plain": [
       "   Unnamed: 0  reinspection  recent_inspection  task_force  special_event  \\\n",
       "0        1852             0                  0           0              0   \n",
       "1        1881             0                  0           0              0   \n",
       "2        1882             0                  0           0              0   \n",
       "3        1883             0                  0           0              0   \n",
       "4        1853             1                  0           0              0   \n",
       "\n",
       "   canvass  closeup  liquor  fire  no_entry              ...               \\\n",
       "0        1        0       0     0         0              ...                \n",
       "1        0        0       0     0         0              ...                \n",
       "2        0        0       0     0         0              ...                \n",
       "3        1        0       0     0         0              ...                \n",
       "4        0        0       0     0         0              ...                \n",
       "\n",
       "   license_status_AAI  license_status_Missing  license_status_REV  \\\n",
       "0                 0.0                     1.0                 0.0   \n",
       "1                 1.0                     0.0                 0.0   \n",
       "2                 1.0                     0.0                 0.0   \n",
       "3                 0.0                     1.0                 0.0   \n",
       "4                 1.0                     0.0                 0.0   \n",
       "\n",
       "   inspection_weekday_Friday  inspection_weekday_Monday  \\\n",
       "0                        0.0                        0.0   \n",
       "1                        0.0                        0.0   \n",
       "2                        0.0                        0.0   \n",
       "3                        0.0                        0.0   \n",
       "4                        0.0                        0.0   \n",
       "\n",
       "   inspection_weekday_Saturday  inspection_weekday_Sunday  \\\n",
       "0                          0.0                        0.0   \n",
       "1                          0.0                        0.0   \n",
       "2                          0.0                        0.0   \n",
       "3                          0.0                        0.0   \n",
       "4                          0.0                        0.0   \n",
       "\n",
       "   inspection_weekday_Thursday  inspection_weekday_Tuesday  \\\n",
       "0                          1.0                         0.0   \n",
       "1                          1.0                         0.0   \n",
       "2                          1.0                         0.0   \n",
       "3                          1.0                         0.0   \n",
       "4                          1.0                         0.0   \n",
       "\n",
       "   inspection_weekday_Wednesday  \n",
       "0                           0.0  \n",
       "1                           0.0  \n",
       "2                           0.0  \n",
       "3                           0.0  \n",
       "4                           0.0  \n",
       "\n",
       "[5 rows x 50 columns]"
      ]
     },
     "execution_count": 5,
     "metadata": {},
     "output_type": "execute_result"
    }
   ],
   "source": [
    "df.head()"
   ]
  },
  {
   "cell_type": "code",
   "execution_count": 8,
   "metadata": {
    "collapsed": false
   },
   "outputs": [],
   "source": [
    "x = df.ix[:, df.columns != 'Unnamed: 0']"
   ]
  },
  {
   "cell_type": "code",
   "execution_count": 11,
   "metadata": {
    "collapsed": false
   },
   "outputs": [
    {
     "data": {
      "text/html": [
       "<div>\n",
       "<table border=\"1\" class=\"dataframe\">\n",
       "  <thead>\n",
       "    <tr style=\"text-align: right;\">\n",
       "      <th></th>\n",
       "      <th>reinspection</th>\n",
       "      <th>recent_inspection</th>\n",
       "      <th>task_force</th>\n",
       "      <th>special_event</th>\n",
       "      <th>canvass</th>\n",
       "      <th>closeup</th>\n",
       "      <th>liquor</th>\n",
       "      <th>fire</th>\n",
       "      <th>no_entry</th>\n",
       "      <th>complaint</th>\n",
       "      <th>...</th>\n",
       "      <th>license_status_AAI</th>\n",
       "      <th>license_status_Missing</th>\n",
       "      <th>license_status_REV</th>\n",
       "      <th>inspection_weekday_Friday</th>\n",
       "      <th>inspection_weekday_Monday</th>\n",
       "      <th>inspection_weekday_Saturday</th>\n",
       "      <th>inspection_weekday_Sunday</th>\n",
       "      <th>inspection_weekday_Thursday</th>\n",
       "      <th>inspection_weekday_Tuesday</th>\n",
       "      <th>inspection_weekday_Wednesday</th>\n",
       "    </tr>\n",
       "  </thead>\n",
       "  <tbody>\n",
       "    <tr>\n",
       "      <th>0</th>\n",
       "      <td>0</td>\n",
       "      <td>0</td>\n",
       "      <td>0</td>\n",
       "      <td>0</td>\n",
       "      <td>1</td>\n",
       "      <td>0</td>\n",
       "      <td>0</td>\n",
       "      <td>0</td>\n",
       "      <td>0</td>\n",
       "      <td>0</td>\n",
       "      <td>...</td>\n",
       "      <td>0.0</td>\n",
       "      <td>1.0</td>\n",
       "      <td>0.0</td>\n",
       "      <td>0.0</td>\n",
       "      <td>0.0</td>\n",
       "      <td>0.0</td>\n",
       "      <td>0.0</td>\n",
       "      <td>1.0</td>\n",
       "      <td>0.0</td>\n",
       "      <td>0.0</td>\n",
       "    </tr>\n",
       "    <tr>\n",
       "      <th>1</th>\n",
       "      <td>0</td>\n",
       "      <td>0</td>\n",
       "      <td>0</td>\n",
       "      <td>0</td>\n",
       "      <td>0</td>\n",
       "      <td>0</td>\n",
       "      <td>0</td>\n",
       "      <td>0</td>\n",
       "      <td>0</td>\n",
       "      <td>0</td>\n",
       "      <td>...</td>\n",
       "      <td>1.0</td>\n",
       "      <td>0.0</td>\n",
       "      <td>0.0</td>\n",
       "      <td>0.0</td>\n",
       "      <td>0.0</td>\n",
       "      <td>0.0</td>\n",
       "      <td>0.0</td>\n",
       "      <td>1.0</td>\n",
       "      <td>0.0</td>\n",
       "      <td>0.0</td>\n",
       "    </tr>\n",
       "    <tr>\n",
       "      <th>2</th>\n",
       "      <td>0</td>\n",
       "      <td>0</td>\n",
       "      <td>0</td>\n",
       "      <td>0</td>\n",
       "      <td>0</td>\n",
       "      <td>0</td>\n",
       "      <td>0</td>\n",
       "      <td>0</td>\n",
       "      <td>0</td>\n",
       "      <td>0</td>\n",
       "      <td>...</td>\n",
       "      <td>1.0</td>\n",
       "      <td>0.0</td>\n",
       "      <td>0.0</td>\n",
       "      <td>0.0</td>\n",
       "      <td>0.0</td>\n",
       "      <td>0.0</td>\n",
       "      <td>0.0</td>\n",
       "      <td>1.0</td>\n",
       "      <td>0.0</td>\n",
       "      <td>0.0</td>\n",
       "    </tr>\n",
       "    <tr>\n",
       "      <th>3</th>\n",
       "      <td>0</td>\n",
       "      <td>0</td>\n",
       "      <td>0</td>\n",
       "      <td>0</td>\n",
       "      <td>1</td>\n",
       "      <td>0</td>\n",
       "      <td>0</td>\n",
       "      <td>0</td>\n",
       "      <td>0</td>\n",
       "      <td>0</td>\n",
       "      <td>...</td>\n",
       "      <td>0.0</td>\n",
       "      <td>1.0</td>\n",
       "      <td>0.0</td>\n",
       "      <td>0.0</td>\n",
       "      <td>0.0</td>\n",
       "      <td>0.0</td>\n",
       "      <td>0.0</td>\n",
       "      <td>1.0</td>\n",
       "      <td>0.0</td>\n",
       "      <td>0.0</td>\n",
       "    </tr>\n",
       "    <tr>\n",
       "      <th>4</th>\n",
       "      <td>1</td>\n",
       "      <td>0</td>\n",
       "      <td>0</td>\n",
       "      <td>0</td>\n",
       "      <td>0</td>\n",
       "      <td>0</td>\n",
       "      <td>0</td>\n",
       "      <td>0</td>\n",
       "      <td>0</td>\n",
       "      <td>1</td>\n",
       "      <td>...</td>\n",
       "      <td>1.0</td>\n",
       "      <td>0.0</td>\n",
       "      <td>0.0</td>\n",
       "      <td>0.0</td>\n",
       "      <td>0.0</td>\n",
       "      <td>0.0</td>\n",
       "      <td>0.0</td>\n",
       "      <td>1.0</td>\n",
       "      <td>0.0</td>\n",
       "      <td>0.0</td>\n",
       "    </tr>\n",
       "  </tbody>\n",
       "</table>\n",
       "<p>5 rows × 49 columns</p>\n",
       "</div>"
      ],
      "text/plain": [
       "   reinspection  recent_inspection  task_force  special_event  canvass  \\\n",
       "0             0                  0           0              0        1   \n",
       "1             0                  0           0              0        0   \n",
       "2             0                  0           0              0        0   \n",
       "3             0                  0           0              0        1   \n",
       "4             1                  0           0              0        0   \n",
       "\n",
       "   closeup  liquor  fire  no_entry  complaint              ...               \\\n",
       "0        0       0     0         0          0              ...                \n",
       "1        0       0     0         0          0              ...                \n",
       "2        0       0     0         0          0              ...                \n",
       "3        0       0     0         0          0              ...                \n",
       "4        0       0     0         0          1              ...                \n",
       "\n",
       "   license_status_AAI  license_status_Missing  license_status_REV  \\\n",
       "0                 0.0                     1.0                 0.0   \n",
       "1                 1.0                     0.0                 0.0   \n",
       "2                 1.0                     0.0                 0.0   \n",
       "3                 0.0                     1.0                 0.0   \n",
       "4                 1.0                     0.0                 0.0   \n",
       "\n",
       "   inspection_weekday_Friday  inspection_weekday_Monday  \\\n",
       "0                        0.0                        0.0   \n",
       "1                        0.0                        0.0   \n",
       "2                        0.0                        0.0   \n",
       "3                        0.0                        0.0   \n",
       "4                        0.0                        0.0   \n",
       "\n",
       "   inspection_weekday_Saturday  inspection_weekday_Sunday  \\\n",
       "0                          0.0                        0.0   \n",
       "1                          0.0                        0.0   \n",
       "2                          0.0                        0.0   \n",
       "3                          0.0                        0.0   \n",
       "4                          0.0                        0.0   \n",
       "\n",
       "   inspection_weekday_Thursday  inspection_weekday_Tuesday  \\\n",
       "0                          1.0                         0.0   \n",
       "1                          1.0                         0.0   \n",
       "2                          1.0                         0.0   \n",
       "3                          1.0                         0.0   \n",
       "4                          1.0                         0.0   \n",
       "\n",
       "   inspection_weekday_Wednesday  \n",
       "0                           0.0  \n",
       "1                           0.0  \n",
       "2                           0.0  \n",
       "3                           0.0  \n",
       "4                           0.0  \n",
       "\n",
       "[5 rows x 49 columns]"
      ]
     },
     "execution_count": 11,
     "metadata": {},
     "output_type": "execute_result"
    }
   ],
   "source": [
    "x.head()"
   ]
  },
  {
   "cell_type": "code",
   "execution_count": 117,
   "metadata": {
    "collapsed": false
   },
   "outputs": [],
   "source": [
    "lda_yhat = pd.DataFrame(lda_model.predict_proba(x))\n",
    "lda_yhat[\"id\"] = df.ix[:, df.columns == 'Unnamed: 0']\n",
    "lda_yhat.columns=['prob_0', 'prob_1', 'id']\n",
    "\n",
    "log_yhat = pd.DataFrame(log_model.predict_proba(x))\n",
    "log_yhat[\"id\"] = df.ix[:, df.columns == 'Unnamed: 0']\n",
    "log_yhat.columns=['prob_0', 'prob_1', 'id']\n",
    "\n",
    "qda_yhat = pd.DataFrame(qda_model.predict_proba(x))\n",
    "qda_yhat[\"id\"] = df.ix[:, df.columns == 'Unnamed: 0']\n",
    "qda_yhat.columns=['prob_0', 'prob_1', 'id']\n",
    "\n",
    "ada_yhat = pd.DataFrame(ada_model.predict_proba(x))\n",
    "ada_yhat[\"id\"] = df.ix[:, df.columns == 'Unnamed: 0']\n",
    "ada_yhat.columns=['prob_0', 'prob_1', 'id']\n",
    "\n",
    "tree_yhat = pd.DataFrame(tree_model.predict_proba(x))\n",
    "tree_yhat[\"id\"] = df.ix[:, df.columns == 'Unnamed: 0']\n",
    "tree_yhat.columns=['prob_0', 'prob_1', 'id']\n",
    "\n",
    "forest_yhat = pd.DataFrame(forest_model.predict_proba(x))\n",
    "forest_yhat[\"id\"] = df.ix[:, df.columns == 'Unnamed: 0']\n",
    "forest_yhat.columns=['prob_0', 'prob_1', 'id']"
   ]
  },
  {
   "cell_type": "code",
   "execution_count": 118,
   "metadata": {
    "collapsed": true
   },
   "outputs": [],
   "source": [
    "#this will sort by proba 0, then assign in order by max per day inspections\n",
    "#the average in the actual set was 30/day. We'll go with that as capacity.\n",
    "def assign(df1):\n",
    "    capacity = 30\n",
    "    df_sorted = df1.sort(['prob_0'], ascending=[0])\n",
    "    \n",
    "    dates = []\n",
    "\n",
    "    for o in range(736208,736269): #ordinals for 9/1 to 10/31\n",
    "        dates.append(dt.date.fromordinal(o))\n",
    "    \n",
    "    j=0\n",
    "    k=0\n",
    "    for i,item in df_sorted.iterrows():\n",
    "        #print i, item\n",
    "        #item[\"inspection_dt\"] = dates[k]\n",
    "        #y_hat.loc[y_hat.iloc[i], 'inspection_dt'] = dates[k]\n",
    "        df_sorted.ix[i, \"assigned_dt\"] = dates[k]\n",
    "    \n",
    "        j = j+1\n",
    "    \n",
    "        if j > 30: #max allowed per day\n",
    "            j = 1 #reset the counter\n",
    "\n",
    "            if k < len(dates) - 1:\n",
    "                k = k + 1 #move to next day\n",
    "    \n",
    "    df_sorted[\"assigned_dt\"] = df_sorted[\"assigned_dt\"].astype('datetime64[ns]')\n",
    "    return df_sorted"
   ]
  },
  {
   "cell_type": "code",
   "execution_count": 120,
   "metadata": {
    "collapsed": false
   },
   "outputs": [
    {
     "name": "stderr",
     "output_type": "stream",
     "text": [
      "/Users/angelo/anaconda/lib/python2.7/site-packages/ipykernel/__main__.py:5: FutureWarning: sort(columns=....) is deprecated, use sort_values(by=.....)\n"
     ]
    }
   ],
   "source": [
    "lda_yhat_assigned = assign(lda_yhat)\n",
    "log_yhat_assigned = assign(log_yhat)\n",
    "qda_yhat_assigned = assign(qda_yhat)\n",
    "ada_yhat_assigned = assign(ada_yhat)\n",
    "tree_yhat_assigned = assign(tree_yhat)\n",
    "forest_yhat_assigned = assign(forest_yhat)"
   ]
  },
  {
   "cell_type": "code",
   "execution_count": 99,
   "metadata": {
    "collapsed": false
   },
   "outputs": [],
   "source": [
    "#build null model\n",
    "df_actual = pd.read_csv('data/y_60_days.csv')\n",
    "#df_actual.inspection_dt = df_actual.inspection_dt.astype('datetime64[ns]')\n",
    "#last2_df = df_actual[((df_actual.inspection_dt.dt.month==9) | (df_actual.inspection_dt.dt.month==10)) & (df_actual.inspection_dt.dt.year==2016)]\n",
    "\n",
    "#last2_df = df_actual[df[\"id\"] == ]\n",
    "\n",
    "y = pd.DataFrame()\n",
    "y[\"id\"] = df_actual[\"Unnamed: 0\"]\n",
    "y[\"y\"] = df_actual[\"y\"]\n",
    "y[\"assigned_dt\"] = df_actual[\"inspection_date_string\"].astype('datetime64[ns]')"
   ]
  },
  {
   "cell_type": "code",
   "execution_count": 101,
   "metadata": {
    "collapsed": false
   },
   "outputs": [],
   "source": [
    "def score_delta_days(predicted, actual):\n",
    "    #iterate each actual\n",
    "    deltas = []\n",
    "    \n",
    "    actual_fails = actual[actual[\"y\"] == 0]\n",
    "    \n",
    "    for i,item in actual_fails.iterrows(): \n",
    "        #find the corresponding predicted and calculate a date delta for fails only\n",
    "        predicted_dt = predicted[predicted.index == item.name][\"assigned_dt\"]\n",
    "        diff = (item.assigned_dt - predicted_dt).dt.days\n",
    "        diff = diff.reset_index()\n",
    "        deltas.append(diff[\"assigned_dt\"].astype('int'))\n",
    "    #avg them\n",
    "    s = np.mean(deltas)\n",
    "    return s\n",
    "    \n",
    "#score(y_hat, y)"
   ]
  },
  {
   "cell_type": "code",
   "execution_count": 121,
   "metadata": {
    "collapsed": false
   },
   "outputs": [],
   "source": [
    "#compare with nullmodel\n",
    "#lda_yhat_assigned = lda_yhat_assigned.set_index(['id'])\n",
    "lda_score1 = score_delta_days(lda_yhat_assigned, y)\n",
    "qda_score1 = score_delta_days(qda_yhat_assigned, y)\n",
    "log_score1 = score_delta_days(log_yhat_assigned, y)\n",
    "ada_score1 = score_delta_days(ada_yhat_assigned, y)\n",
    "tree_score1 = score_delta_days(tree_yhat_assigned, y)\n",
    "forest_score1 = score_delta_days(forest_yhat_assigned, y)"
   ]
  },
  {
   "cell_type": "code",
   "execution_count": 122,
   "metadata": {
    "collapsed": false
   },
   "outputs": [
    {
     "name": "stdout",
     "output_type": "stream",
     "text": [
      "Number of days failures caught earlier (on average) than current process.\n",
      "LDA 9.05, QDA 9.27, LOG 9.87, ADA 15.03, TREE 3.57, Forest 14.34\n"
     ]
    }
   ],
   "source": [
    "print \"Number of days failures caught earlier (on average) than current process.\"\n",
    "print \"LDA %.2f, QDA %.2f, LOG %.2f, ADA %.2f, TREE %.2f, Forest %.2f\" % (lda_score1, qda_score1, log_score1, ada_score1, tree_score1, forest_score1)"
   ]
  },
  {
   "cell_type": "code",
   "execution_count": 88,
   "metadata": {
    "collapsed": true
   },
   "outputs": [],
   "source": [
    "#Another way to measure is the proportion of actual \n",
    "#failures caught in the first 30 days\n",
    "def score_prop_first(predicted, actual):\n",
    "    actual_fails = actual[actual[\"y\"] == 0]\n",
    "    \n",
    "    predicted_first_month = predicted[predicted.assigned_dt.dt.month == 9]\n",
    "    \n",
    "    overlap = actual_fails[actual_fails[\"id\"].isin(predicted_first_month[\"id\"])][\"id\"].count()\n",
    "\n",
    "    return overlap/float(actual_fails.shape[0])"
   ]
  },
  {
   "cell_type": "code",
   "execution_count": 123,
   "metadata": {
    "collapsed": true
   },
   "outputs": [],
   "source": [
    "lda_score2 = score_prop_first(lda_yhat_assigned, y)\n",
    "qda_score2 = score_prop_first(qda_yhat_assigned, y)\n",
    "log_score2 = score_prop_first(log_yhat_assigned, y)\n",
    "ada_score2 = score_prop_first(ada_yhat_assigned, y)\n",
    "tree_score2 = score_prop_first(tree_yhat_assigned, y)\n",
    "forest_score2 = score_prop_first(forest_yhat_assigned, y)"
   ]
  },
  {
   "cell_type": "code",
   "execution_count": 124,
   "metadata": {
    "collapsed": false
   },
   "outputs": [
    {
     "name": "stdout",
     "output_type": "stream",
     "text": [
      "Proportion Caught in the first 1/2 of the inspection cycle\n",
      "LDA 0.88, QDA 0.89, LOG 0.89, ADA 0.89, TREE 0.64, Forest 0.90\n"
     ]
    }
   ],
   "source": [
    "print \"Proportion Caught in the first 1/2 of the inspection cycle\"\n",
    "print \"LDA %.2f, QDA %.2f, LOG %.2f, ADA %.2f, TREE %.2f, Forest %.2f\" % (lda_score2, qda_score2, log_score2, ada_score2, tree_score2, forest_score2)"
   ]
  },
  {
   "cell_type": "code",
   "execution_count": 127,
   "metadata": {
    "collapsed": false
   },
   "outputs": [
    {
     "data": {
      "text/plain": [
       "<Container object of 6 artists>"
      ]
     },
     "execution_count": 127,
     "metadata": {},
     "output_type": "execute_result"
    },
    {
     "data": {
      "image/png": "[encoded data removed]",
      "text/plain": [
       "<matplotlib.figure.Figure at 0x11b63f950>"
      ]
     },
     "metadata": {},
     "output_type": "display_data"
    }
   ],
   "source": [
    "\n",
    "plt.bar(np.arange(6),[lda_score1, qda_score1, log_score1, ada_score1, tree_score1, forest_score1])"
   ]
  },
  {
   "cell_type": "code",
   "execution_count": 138,
   "metadata": {
    "collapsed": true
   },
   "outputs": [],
   "source": [
    "df_score1 = pd.DataFrame()\n",
    "df_score1[\"Scores\"] = [lda_score1, qda_score1, log_score1, ada_score1, tree_score1, forest_score1]\n",
    "df_score1[\"Models\"] = ['LDA', 'QDA', 'Logistic Regression', 'ADA Boost', 'Single Tree', 'Random Forest']"
   ]
  },
  {
   "cell_type": "code",
   "execution_count": 140,
   "metadata": {
    "collapsed": false
   },
   "outputs": [
    {
     "data": {
      "text/plain": [
       "<matplotlib.text.Text at 0x11b856490>"
      ]
     },
     "execution_count": 140,
     "metadata": {},
     "output_type": "execute_result"
    },
    {
     "data": {
      "image/png": "[encoded data removed]",
      "text/plain": [
       "<matplotlib.figure.Figure at 0x1179dffd0>"
      ]
     },
     "metadata": {},
     "output_type": "display_data"
    }
   ],
   "source": [
    "sns.set_style(\"whitegrid\")\n",
    "ax = sns.barplot(x=\"Scores\", y=\"Models\", data=df_score1)\n",
    "ax.set(xlabel=\"Avg Improvement (days)\", ylabel=\"Models\")\n",
    "ax.set_title(\"Model Performance Compared to Current Inspection Process\")"
   ]
  },
  {
   "cell_type": "code",
   "execution_count": 141,
   "metadata": {
    "collapsed": true
   },
   "outputs": [],
   "source": [
    "df_score2 = pd.DataFrame()\n",
    "df_score2[\"Scores\"] = [lda_score2, qda_score2, log_score2, ada_score2, tree_score2, forest_score2]\n",
    "df_score2[\"Models\"] = ['LDA', 'QDA', 'Logistic Regression', 'ADA Boost', 'Single Tree', 'Random Forest']"
   ]
  },
  {
   "cell_type": "code",
   "execution_count": 159,
   "metadata": {
    "collapsed": false
   },
   "outputs": [
    {
     "data": {
      "image/png": "[encoded data removed]",
      "text/plain": [
       "<matplotlib.figure.Figure at 0x11c5f1510>"
      ]
     },
     "metadata": {},
     "output_type": "display_data"
    }
   ],
   "source": [
    "sns.set_style(\"whitegrid\")\n",
    "ax = sns.barplot(x=\"Scores\", y=\"Models\", data=df_score2)\n",
    "ax.set(xlabel=\"Proportion\", ylabel=\"Models\")\n",
    "ax.set_title(\"Proportion of Failures Caught in First Half of Inspection Cycle\")\n",
    "\n",
    "for n, (_x, label) in enumerate(zip(df_score2[\"Scores\"], df_score2[\"Models\"])):\n",
    "    ax.annotate(\n",
    "        s='{:.4f}'.format(abs(_x)),\n",
    "        xy=(_x - .05, n + .2),\n",
    "        ha='center',va='center',\n",
    "        xytext=(0,10),\n",
    "        color='white',\n",
    "        textcoords='offset points',\n",
    "        weight='bold'\n",
    "    )"
   ]
  },
  {
   "cell_type": "code",
   "execution_count": null,
   "metadata": {
    "collapsed": true
   },
   "outputs": [],
   "source": []
  }
 ],
 "metadata": {
  "anaconda-cloud": {},
  "kernelspec": {
   "display_name": "Python [conda root]",
   "language": "python",
   "name": "conda-root-py"
  },
  "language_info": {
   "codemirror_mode": {
    "name": "ipython",
    "version": 2
   },
   "file_extension": ".py",
   "mimetype": "text/x-python",
   "name": "python",
   "nbconvert_exporter": "python",
   "pygments_lexer": "ipython2",
   "version": "2.7.12"
  }
 },
 "nbformat": 4,
 "nbformat_minor": 1
}
